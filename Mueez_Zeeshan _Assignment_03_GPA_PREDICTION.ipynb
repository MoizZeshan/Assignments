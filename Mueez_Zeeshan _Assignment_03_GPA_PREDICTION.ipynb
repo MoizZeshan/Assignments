{
 "cells": [
  {
   "cell_type": "markdown",
   "id": "037409c4-dbd5-4466-8fe2-d2cad137df33",
   "metadata": {},
   "source": [
    "# Step 1: Import Libraries"
   ]
  },
  {
   "cell_type": "code",
   "execution_count": 1,
   "id": "df4fc98b-2c16-452d-b380-371acbb00ab8",
   "metadata": {},
   "outputs": [
    {
     "name": "stdout",
     "output_type": "stream",
     "text": [
      "Requirement already satisfied: numpy in c:\\users\\haier\\anaconda7\\lib\\site-packages (2.1.3)\n",
      "Requirement already satisfied: pandas in c:\\users\\haier\\anaconda7\\lib\\site-packages (2.2.3)\n",
      "Requirement already satisfied: numpy>=1.26.0 in c:\\users\\haier\\anaconda7\\lib\\site-packages (from pandas) (2.1.3)\n",
      "Requirement already satisfied: python-dateutil>=2.8.2 in c:\\users\\haier\\anaconda7\\lib\\site-packages (from pandas) (2.9.0.post0)\n",
      "Requirement already satisfied: pytz>=2020.1 in c:\\users\\haier\\anaconda7\\lib\\site-packages (from pandas) (2024.1)\n",
      "Requirement already satisfied: tzdata>=2022.7 in c:\\users\\haier\\anaconda7\\lib\\site-packages (from pandas) (2025.2)\n",
      "Requirement already satisfied: six>=1.5 in c:\\users\\haier\\anaconda7\\lib\\site-packages (from python-dateutil>=2.8.2->pandas) (1.17.0)\n",
      "Requirement already satisfied: scikit-learn in c:\\users\\haier\\anaconda7\\lib\\site-packages (1.6.1)\n",
      "Requirement already satisfied: numpy>=1.19.5 in c:\\users\\haier\\anaconda7\\lib\\site-packages (from scikit-learn) (2.1.3)\n",
      "Requirement already satisfied: scipy>=1.6.0 in c:\\users\\haier\\anaconda7\\lib\\site-packages (from scikit-learn) (1.15.3)\n",
      "Requirement already satisfied: joblib>=1.2.0 in c:\\users\\haier\\anaconda7\\lib\\site-packages (from scikit-learn) (1.4.2)\n",
      "Requirement already satisfied: threadpoolctl>=3.1.0 in c:\\users\\haier\\anaconda7\\lib\\site-packages (from scikit-learn) (3.5.0)\n",
      "Requirement already satisfied: prettytable in c:\\users\\haier\\anaconda7\\lib\\site-packages (3.16.0)\n",
      "Requirement already satisfied: wcwidth in c:\\users\\haier\\anaconda7\\lib\\site-packages (from prettytable) (0.2.5)\n",
      "Requirement already satisfied: astropy in c:\\users\\haier\\anaconda7\\lib\\site-packages (7.0.0)\n",
      "Requirement already satisfied: numpy>=1.23.2 in c:\\users\\haier\\anaconda7\\lib\\site-packages (from astropy) (2.1.3)\n",
      "Requirement already satisfied: pyerfa>=2.0.1.1 in c:\\users\\haier\\anaconda7\\lib\\site-packages (from astropy) (2.0.1.5)\n",
      "Requirement already satisfied: astropy-iers-data>=0.2024.10.28.0.34.7 in c:\\users\\haier\\anaconda7\\lib\\site-packages (from astropy) (0.2025.1.13.0.34.51)\n",
      "Requirement already satisfied: PyYAML>=6.0.0 in c:\\users\\haier\\anaconda7\\lib\\site-packages (from astropy) (6.0.2)\n",
      "Requirement already satisfied: packaging>=22.0.0 in c:\\users\\haier\\anaconda7\\lib\\site-packages (from astropy) (24.2)\n"
     ]
    }
   ],
   "source": [
    "!pip install numpy\n",
    "!pip install pandas\n",
    "!pip install scikit-learn\n",
    "!pip install prettytable\n",
    "!pip install astropy"
   ]
  },
  {
   "cell_type": "code",
   "execution_count": 2,
   "id": "4f37b92b-d7d0-4e25-bc06-58a3a6bd05c7",
   "metadata": {},
   "outputs": [],
   "source": [
    "# Import Libraries\n",
    "\n",
    "import numpy as np\n",
    "import pandas as pd\n",
    "import pickle\n",
    "\n",
    "from sklearn.model_selection import train_test_split\n",
    "from sklearn.preprocessing import LabelEncoder\n",
    "from sklearn import svm\n",
    "from sklearn.metrics import accuracy_score\n",
    "\n",
    "from prettytable import PrettyTable   \n",
    "from astropy.table import Table, Column"
   ]
  },
  {
   "cell_type": "markdown",
   "id": "4f433c50-6679-48d0-b023-c53a1a23dc7e",
   "metadata": {},
   "source": [
    "# Step 2: Load Sample Data"
   ]
  },
  {
   "cell_type": "code",
   "execution_count": 2,
   "id": "5c1e162d-2107-4ec7-b852-985e0c2373fc",
   "metadata": {},
   "outputs": [
    {
     "data": {
      "text/html": [
       "<div>\n",
       "<style scoped>\n",
       "    .dataframe tbody tr th:only-of-type {\n",
       "        vertical-align: middle;\n",
       "    }\n",
       "\n",
       "    .dataframe tbody tr th {\n",
       "        vertical-align: top;\n",
       "    }\n",
       "\n",
       "    .dataframe thead th {\n",
       "        text-align: right;\n",
       "    }\n",
       "</style>\n",
       "<table border=\"1\" class=\"dataframe\">\n",
       "  <thead>\n",
       "    <tr style=\"text-align: right;\">\n",
       "      <th></th>\n",
       "      <th>Study Hours per Week</th>\n",
       "      <th>Attendance Rate</th>\n",
       "      <th>Major</th>\n",
       "      <th>High School GPA</th>\n",
       "      <th>Extracurricular Activities</th>\n",
       "      <th>Part-Time Job</th>\n",
       "      <th>Library Usage per Week</th>\n",
       "      <th>Online Coursework Engagement</th>\n",
       "      <th>Sleep Hours per Night</th>\n",
       "      <th>College GPA</th>\n",
       "    </tr>\n",
       "  </thead>\n",
       "  <tbody>\n",
       "    <tr>\n",
       "      <th>0</th>\n",
       "      <td>21.95</td>\n",
       "      <td>79.64</td>\n",
       "      <td>Business</td>\n",
       "      <td>2.83</td>\n",
       "      <td>4</td>\n",
       "      <td>No</td>\n",
       "      <td>16.87</td>\n",
       "      <td>11.22</td>\n",
       "      <td>5.64</td>\n",
       "      <td>2.80</td>\n",
       "    </tr>\n",
       "    <tr>\n",
       "      <th>1</th>\n",
       "      <td>28.61</td>\n",
       "      <td>50.50</td>\n",
       "      <td>Business</td>\n",
       "      <td>3.26</td>\n",
       "      <td>1</td>\n",
       "      <td>No</td>\n",
       "      <td>6.53</td>\n",
       "      <td>7.79</td>\n",
       "      <td>5.78</td>\n",
       "      <td>2.55</td>\n",
       "    </tr>\n",
       "    <tr>\n",
       "      <th>2</th>\n",
       "      <td>24.11</td>\n",
       "      <td>73.79</td>\n",
       "      <td>NaN</td>\n",
       "      <td>3.56</td>\n",
       "      <td>3</td>\n",
       "      <td>No</td>\n",
       "      <td>17.04</td>\n",
       "      <td>8.09</td>\n",
       "      <td>7.10</td>\n",
       "      <td>2.77</td>\n",
       "    </tr>\n",
       "    <tr>\n",
       "      <th>3</th>\n",
       "      <td>21.80</td>\n",
       "      <td>85.44</td>\n",
       "      <td>Business</td>\n",
       "      <td>3.70</td>\n",
       "      <td>4</td>\n",
       "      <td>Yes</td>\n",
       "      <td>17.77</td>\n",
       "      <td>14.27</td>\n",
       "      <td>9.97</td>\n",
       "      <td>3.28</td>\n",
       "    </tr>\n",
       "    <tr>\n",
       "      <th>4</th>\n",
       "      <td>16.95</td>\n",
       "      <td>52.20</td>\n",
       "      <td>Arts</td>\n",
       "      <td>3.63</td>\n",
       "      <td>4</td>\n",
       "      <td>No</td>\n",
       "      <td>5.33</td>\n",
       "      <td>11.08</td>\n",
       "      <td>6.94</td>\n",
       "      <td>2.59</td>\n",
       "    </tr>\n",
       "  </tbody>\n",
       "</table>\n",
       "</div>"
      ],
      "text/plain": [
       "   Study Hours per Week  Attendance Rate     Major  High School GPA  \\\n",
       "0                 21.95            79.64  Business             2.83   \n",
       "1                 28.61            50.50  Business             3.26   \n",
       "2                 24.11            73.79       NaN             3.56   \n",
       "3                 21.80            85.44  Business             3.70   \n",
       "4                 16.95            52.20      Arts             3.63   \n",
       "\n",
       "   Extracurricular Activities Part-Time Job  Library Usage per Week  \\\n",
       "0                           4            No                   16.87   \n",
       "1                           1            No                    6.53   \n",
       "2                           3            No                   17.04   \n",
       "3                           4           Yes                   17.77   \n",
       "4                           4            No                    5.33   \n",
       "\n",
       "   Online Coursework Engagement  Sleep Hours per Night  College GPA  \n",
       "0                         11.22                   5.64         2.80  \n",
       "1                          7.79                   5.78         2.55  \n",
       "2                          8.09                   7.10         2.77  \n",
       "3                         14.27                   9.97         3.28  \n",
       "4                         11.08                   6.94         2.59  "
      ]
     },
     "execution_count": 2,
     "metadata": {},
     "output_type": "execute_result"
    }
   ],
   "source": [
    "import pandas as pd \n",
    "\n",
    "# load the data set \n",
    "df = pd.read_csv(\"Academic (1).csv\")\n",
    "\n",
    "# show thw first 5 rows \n",
    "df.head ()"
   ]
  },
  {
   "cell_type": "markdown",
   "id": "9058fe53-6f49-45c2-b461-2e45c5770206",
   "metadata": {},
   "source": [
    "---\n",
    "# Step 3 : Data processing \n",
    "\n",
    "In this section  , we perform basic data prepocessing to prepare the data set for machine learning models . This involves :\n",
    "\n",
    "\n",
    "- **Viewing data set structure** using `.shape` , `.info` and `.head`\n",
    "-**Detecting missing values** in each column\n",
    "- **Cleaning data** by handeling any null values if present \n",
    "-  **Identifing the targeted column** which we aim to predict  (GPA)\n",
    "\n",
    "Data processing is critical step to ensure that the dataset is compiling , clean and competible with machine learning algorithms ."
   ]
  },
  {
   "cell_type": "code",
   "execution_count": null,
   "id": "aa7fc841-840f-4908-bf73-1151fb989e61",
   "metadata": {},
   "outputs": [],
   "source": []
  }
 ],
 "metadata": {
  "kernelspec": {
   "display_name": "Python [conda env:anaconda7] *",
   "language": "python",
   "name": "conda-env-anaconda7-py"
  },
  "language_info": {
   "codemirror_mode": {
    "name": "ipython",
    "version": 3
   },
   "file_extension": ".py",
   "mimetype": "text/x-python",
   "name": "python",
   "nbconvert_exporter": "python",
   "pygments_lexer": "ipython3",
   "version": "3.13.5"
  }
 },
 "nbformat": 4,
 "nbformat_minor": 5
}
