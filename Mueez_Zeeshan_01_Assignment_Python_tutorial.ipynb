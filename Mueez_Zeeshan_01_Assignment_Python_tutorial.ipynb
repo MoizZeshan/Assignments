{
 "cells": [
  {
   "cell_type": "markdown",
   "id": "7d09f5b1-7916-4b05-9713-f38d846475b7",
   "metadata": {},
   "source": [
    "# 1. **Introduction to Python**\n",
    "\n",
    "\n"
   ]
  },
  {
   "cell_type": "markdown",
   "id": "d32f591a-a916-4b84-a980-52907f8e5196",
   "metadata": {},
   "source": [
    "**Python** is a simple and powerful programming language created by **Guido van Rossum** in **1991**. It’s great for beginners and used by companies like **Google and Netflix**.\n",
    "\n",
    "**Python** is:\n",
    "* Easy to learn\n",
    "* Easy to read\n",
    "* Used for websites, games, data, and AI\n",
    "\n",
    "**Why Learn Python?**\n",
    "* It is great for beginners, useful in real-world projects, builds logic and problem-solving skills.\n",
    "\n",
    "**Example:**\n"
   ]
  },
  {
   "cell_type": "code",
   "execution_count": 4,
   "id": "30eb45ed-e71f-4908-b607-373e0f1b9664",
   "metadata": {},
   "outputs": [
    {
     "name": "stdout",
     "output_type": "stream",
     "text": [
      "Hello World\n"
     ]
    }
   ],
   "source": [
    "print(\"Hello World\")"
   ]
  },
  {
   "cell_type": "markdown",
   "id": "893355cd-7f27-4cad-85e2-853b8742e09e",
   "metadata": {},
   "source": [
    "# 2. **Data Types**"
   ]
  },
  {
   "cell_type": "markdown",
   "id": "fa86e49a-c4f6-49f3-ae6b-86173d56969b",
   "metadata": {},
   "source": [
    "In Python, **data types** tell the computer what kind of data you are working with. Below are the most common types:\n",
    "\n",
    "* Variables\n",
    "* Numbers\n",
    "* Strings\n",
    "* Lists\n",
    "* Tuples\n",
    "* Dictionaries\n",
    "* Sets \n",
    "\n",
    "Starting from \n",
    "\n",
    "# **Variables**: \n",
    " A variable is where you can store a information.\n",
    "You give it a name, and it holds a value.\n",
    "\n",
    "\n"
   ]
  },
  {
   "cell_type": "code",
   "execution_count": 15,
   "id": "6591f6c4-c275-4aee-8cc0-125b11490047",
   "metadata": {},
   "outputs": [
    {
     "name": "stdout",
     "output_type": "stream",
     "text": [
      "My name is Ali\n",
      "I am 13 years old\n"
     ]
    }
   ],
   "source": [
    "# Storing information in variables\n",
    "name = \"Ali\"\n",
    "age = 13\n",
    "\n",
    "# Using the variables\n",
    "print(\"My name is\", name)\n",
    "print(\"I am\", age, \"years old\")\n"
   ]
  },
  {
   "cell_type": "markdown",
   "id": "ab6a11f3-ef0a-487e-86e0-df56d3a26558",
   "metadata": {},
   "source": [
    "# **Numbers**:\n",
    "In Python, numbers are used to perform math operations like addition, subtraction, multiplication, and division.\n",
    "\n",
    "Python mainly uses two types of numbers:\n",
    "\n",
    "- **Integer (`int`)** → Whole numbers (like `10`, `100`, `-5`)\n",
    "- **Float (`float`)** → Decimal numbers (like `3.14`, `5.99`, `-0.1`)\n"
   ]
  },
  {
   "cell_type": "code",
   "execution_count": 18,
   "id": "10eb58ec-35e3-4737-84eb-10fed6325455",
   "metadata": {},
   "outputs": [
    {
     "data": {
      "text/plain": [
       "9"
      ]
     },
     "execution_count": 18,
     "metadata": {},
     "output_type": "execute_result"
    }
   ],
   "source": [
    "9 #integer"
   ]
  },
  {
   "cell_type": "code",
   "execution_count": 19,
   "id": "58370342-3ed0-476a-94ce-ead3d291cd3f",
   "metadata": {},
   "outputs": [
    {
     "data": {
      "text/plain": [
       "12.0"
      ]
     },
     "execution_count": 19,
     "metadata": {},
     "output_type": "execute_result"
    }
   ],
   "source": [
    "6.3+5.7 #float\n"
   ]
  },
  {
   "cell_type": "markdown",
   "id": "83cf5575-2339-4e2b-a941-0946491cbb4a",
   "metadata": {},
   "source": [
    "# **Strings**:\n",
    "In Python, a **string** is a piece of text written inside **quotes**.\n",
    "\n",
    "Strings can have letters, numbers, or symbols.  \n",
    "You can use **single quotes (' ')** or **double quotes (\" \")** — both work the same.\n",
    "\n",
    "Examples:\n",
    "- \"Hello\"\n",
    "- 'Python'\n",
    "- \"123 Main Street\"\n"
   ]
  },
  {
   "cell_type": "code",
   "execution_count": 20,
   "id": "14192814-97b6-4ec5-85a9-6518cb5258a1",
   "metadata": {},
   "outputs": [
    {
     "name": "stdout",
     "output_type": "stream",
     "text": [
      "Hello\n"
     ]
    }
   ],
   "source": [
    "print(\"Hello\")"
   ]
  },
  {
   "cell_type": "code",
   "execution_count": 21,
   "id": "e741ac1d-88da-4d47-b0f7-799fa471eb87",
   "metadata": {},
   "outputs": [
    {
     "name": "stdout",
     "output_type": "stream",
     "text": [
      "Python\n"
     ]
    }
   ],
   "source": [
    "print(\"Python\")"
   ]
  },
  {
   "cell_type": "code",
   "execution_count": 22,
   "id": "74e1ecf5-b310-4ac9-940b-e597becd9a69",
   "metadata": {},
   "outputs": [
    {
     "name": "stdout",
     "output_type": "stream",
     "text": [
      "123 Main Street\n"
     ]
    }
   ],
   "source": [
    "print(\"123 Main Street\")"
   ]
  },
  {
   "cell_type": "markdown",
   "id": "5aad0551-0d68-4f82-a1ff-fd881b7c414a",
   "metadata": {},
   "source": [
    "* **Access values in strings**:\n",
    "In Python, you can **access individual characters** in a string using **index numbers**.\n",
    "\n",
    "- Indexing starts from **0**\n",
    "- Use square brackets \"[ ]\" to access characters\n",
    "- \"[ : ]\" is used to get a range of characters from string."
   ]
  },
  {
   "cell_type": "code",
   "execution_count": 23,
   "id": "ebe11fc3-b217-4d1c-96b2-a3962f6ddc27",
   "metadata": {},
   "outputs": [
    {
     "name": "stdout",
     "output_type": "stream",
     "text": [
      "message[0]: W\n",
      "message[1:5]: elco\n"
     ]
    }
   ],
   "source": [
    "# Example of accessing characters in a string\n",
    "\n",
    "message = \"Welcome\"\n",
    "\n",
    "# Get first character\n",
    "print(\"message[0]:\", message[0])\n",
    "\n",
    "# Get characters from index 1 to 4 (W is 0, e is 1, l is 2, c is 3, o is 4)\n",
    "print(\"message[1:5]:\", message[1:5])\n"
   ]
  },
  {
   "cell_type": "markdown",
   "id": "5f691de9-f14d-4aa9-8dbc-c0df94e31427",
   "metadata": {},
   "source": [
    "* **Updating a String in Python**:\n",
    "Strings in Python are **immutable**, which means you cannot change characters directly.\n",
    "But you can create a **new string** by combining parts of the old string using **slicing** and **concatenation (+)**.\n",
    "\n",
    "Example: Replacing a part of the string with something else.\n"
   ]
  },
  {
   "cell_type": "code",
   "execution_count": 25,
   "id": "aff69220-0c2d-4eda-9c85-65a6d3508a50",
   "metadata": {},
   "outputs": [
    {
     "name": "stdout",
     "output_type": "stream",
     "text": [
      "Updated string: Hello Python\n"
     ]
    }
   ],
   "source": [
    "# Original string\n",
    "stringVariable = \"Hello World\"\n",
    "\n",
    "# Replace \"World\" with \"Python\"\n",
    "stringVariable = stringVariable[:6] + \"Python\"\n",
    "\n",
    "# Print updated string\n",
    "print(\"Updated string:\", stringVariable)\n"
   ]
  },
  {
   "cell_type": "markdown",
   "id": "0ab41426-b9cd-457f-a31f-4dc2389dbc8e",
   "metadata": {},
   "source": [
    "* **Deleting a String in Python**:\n",
    "To delete a string (or any variable) in Python, use the **del** keyword.This removes the variable from memory.  \n",
    "After deletion, you can no longer use it — it will give an error if you try.\n",
    "**[Error: name 'message' is not defined]**\n"
   ]
  },
  {
   "cell_type": "code",
   "execution_count": null,
   "id": "271d6945-b2fe-46fc-b935-cb9b2375afdc",
   "metadata": {},
   "outputs": [],
   "source": [
    "# Create a string\n",
    "message = \"Hello World\"\n",
    "\n",
    "# Delete the string\n",
    "del message\n",
    "\n",
    "# Try to print it (will cause an error)\n",
    "print(message)\n"
   ]
  },
  {
   "cell_type": "markdown",
   "id": "da8f4d6f-351e-47b8-8f7b-24d196fd137e",
   "metadata": {
    "jupyter": {
     "source_hidden": true
    }
   },
   "source": [
    "* **String Formatting Operator in Python**:\n",
    "\n",
    "The **string formatting operator** in Python is the **percent sign \" % \"**.It is used to insert values into a string, like we do in filling the blanks.\n",
    "\n",
    "Common Format Types:\n",
    "* **%s** → string\n",
    "* **%d** → integer (whole number)\n",
    "* **%f** → float (decimal number)\n"
   ]
  },
  {
   "cell_type": "code",
   "execution_count": 28,
   "id": "553f09c6-87c5-49a5-96bf-4c14ab995d97",
   "metadata": {},
   "outputs": [
    {
     "name": "stdout",
     "output_type": "stream",
     "text": [
      "My name is Zara and weight is 50 kg!\n"
     ]
    }
   ],
   "source": [
    " print (\"My name is %s and weight is %d kg!\" % (\"Zara\",50))"
   ]
  },
  {
   "cell_type": "markdown",
   "id": "0d3e7787-b6ca-4920-8515-8cb4ecfdfc9c",
   "metadata": {},
   "source": [
    "# **List**:\n",
    "\n",
    "A **list** is a collection of items stored in a single variable.\n",
    "\n",
    "- Lists are written inside **square brackets \"[ ]\"**\n",
    "- Items can be **numbers, strings, or both**\n",
    "- Lists can store **multiple values**\n",
    "- \n",
    "**Examples of Lists**:\n",
    "- A list of numbers: [1, 2, 3, 4]\n",
    "- A list of names: [\"Ali\", \"Sara\", \"Ayaan\"]\n",
    "- A mixed list: [10, \"apple\", 3.5, \"Mbappe\"]\n"
   ]
  },
  {
   "cell_type": "code",
   "execution_count": 30,
   "id": "979ea585-e6d3-48d4-8764-598e2dd0aaeb",
   "metadata": {},
   "outputs": [
    {
     "name": "stdout",
     "output_type": "stream",
     "text": [
      "['Mehvish', '1880']\n"
     ]
    }
   ],
   "source": [
    "#make a list name data\n",
    "data= ['Mehvish','1880']\n",
    "print(data)\n"
   ]
  },
  {
   "cell_type": "markdown",
   "id": "b31f9371-70c3-4cb9-9283-931764f834d9",
   "metadata": {},
   "source": [
    "* **Accessing Values in Lists**:\n",
    "\n",
    "You can access items in a list using **index numbers**.\n",
    "- Use square brackets `[ ]` to get an item by its index\n",
    "\n",
    "\n"
   ]
  },
  {
   "cell_type": "code",
   "execution_count": 31,
   "id": "baa98043-864a-42eb-b1b2-fef52432df1e",
   "metadata": {},
   "outputs": [
    {
     "name": "stdout",
     "output_type": "stream",
     "text": [
      "list1[0]:  physics\n",
      "list2[1:5]:  [2, 3, 4, 5]\n"
     ]
    }
   ],
   "source": [
    "list1 = ['physics', 'chemistry', 1997, 2000];\n",
    "list2 = [1, 2, 3, 4, 5, 6, 7 ];\n",
    "print (\"list1[0]: \", list1[0])\n",
    "print (\"list2[1:5]: \", list2[1:5])"
   ]
  },
  {
   "cell_type": "markdown",
   "id": "2f626055-f96e-45a7-8318-d2535ed9e469",
   "metadata": {},
   "source": [
    "* **Updating Lists**:\n",
    "We can update single or mupltiple elements of a list by giving *slice* on left hand of the assignment operator."
   ]
  },
  {
   "cell_type": "code",
   "execution_count": 33,
   "id": "37a79fd5-8571-4d8f-8161-e1227f993737",
   "metadata": {},
   "outputs": [
    {
     "name": "stdout",
     "output_type": "stream",
     "text": [
      "['physics', 'computer science', 1997, 2000]\n"
     ]
    }
   ],
   "source": [
    "list1 = ['physics', 'chemistry', 1997, 2000]\n",
    "list1[1] = \"computer science\"\n",
    "print(list1)\n"
   ]
  },
  {
   "cell_type": "markdown",
   "id": "27fb7804-8fd1-4686-b7e3-d9b6c667aa0f",
   "metadata": {},
   "source": [
    "* **Deleting List Elements in Python**:\n",
    "\n",
    "You can delete an item from a list using:\n",
    "* \"del\" → Removes an item by index\n",
    "\n"
   ]
  },
  {
   "cell_type": "code",
   "execution_count": 35,
   "id": "b71941c3-b31b-4a8b-97be-fe5660fd83b1",
   "metadata": {},
   "outputs": [
    {
     "name": "stdout",
     "output_type": "stream",
     "text": [
      "['physics', 'chemistry', 1997, 2000]\n",
      "After deleting value at index 2 : \n",
      "['physics', 'chemistry', 2000]\n"
     ]
    }
   ],
   "source": [
    "list1 = ['physics', 'chemistry', 1997, 2000];\n",
    "print (list1)\n",
    "del list1[2];\n",
    "print (\"After deleting value at index 2 : \")\n",
    "print (list1)\n"
   ]
  },
  {
   "cell_type": "markdown",
   "id": "39a0a9a5-57b9-45a2-919b-8aad699ba287",
   "metadata": {},
   "source": [
    "# **Dictionary**:\n",
    "\n",
    "A **dictionary** in Python is used to store **data in key-value pairs**.\n",
    "\n",
    "- Each item has a **key** and a **value**\n",
    "- Keys are **unique**\n",
    "- Written using **curly braces** \"{}\"\n",
    "- Access values using the key name\n",
    "\n",
    "---\n",
    "\n",
    "* **Example**:\n",
    "student = {\n",
    "    \"name\": \"Ali\",\n",
    "    \"age\": 13,\n",
    "    \"grade\": \"8th\" }\n",
    "\n",
    "* \"name\", \"age\", and \"grade\" are the keys\n",
    "* \"Ali\", 13, and \"8th\" are the values\n",
    "\n",
    "\n"
   ]
  },
  {
   "cell_type": "code",
   "execution_count": 37,
   "id": "6946d4bc-06d1-418a-8864-974d23a5ab59",
   "metadata": {},
   "outputs": [
    {
     "name": "stdout",
     "output_type": "stream",
     "text": [
      "BCS\n"
     ]
    }
   ],
   "source": [
    "dict = {'Name':\"Mehvish\", 'Depart': \"BCS\", 'Batch': 2014}\n",
    "print (dict['Depart'])"
   ]
  },
  {
   "cell_type": "markdown",
   "id": "bba0839e-f72a-4cca-86f6-b6451d97c92b",
   "metadata": {},
   "source": [
    "* **Updating a Dictionary in Python**:\n",
    "\n",
    "To update a dictionary:\n",
    "\n",
    "- You can **change the value** of an existing key\n",
    "- You can **add a new key-value pair** if the key doesn't exist\n",
    "- Use this syntax: `dictionary[key] = new_value`\n"
   ]
  },
  {
   "cell_type": "code",
   "execution_count": 39,
   "id": "fe9198a7-7f8a-4b30-b341-d13a2319a0aa",
   "metadata": {},
   "outputs": [
    {
     "name": "stdout",
     "output_type": "stream",
     "text": [
      "{'Name': 'Mehvish', 'Depart': 'BCS', 'Batch': 2014}\n",
      "{'Name': 'Mehvish', 'Depart': 'BCS', 'Batch': 'SP14'}\n",
      "{'Name': 'Mehvish', 'Depart': 'BCS', 'Batch': 'SP14', 'University': 'NUST'}\n"
     ]
    }
   ],
   "source": [
    "dict = {'Name':\"Mehvish\", 'Depart': \"BCS\", 'Batch': 2014}\n",
    "print (dict)\n",
    "dict['Batch'] = \"SP14\"\n",
    "print (dict)\n",
    "dict['University'] = \"NUST\"\n",
    "print(dict)\n"
   ]
  },
  {
   "cell_type": "markdown",
   "id": "7f3a1fe2-7f35-40cf-9f69-3c822b1b6069",
   "metadata": {},
   "source": [
    "* **Deleting Dictionary Elements**:\n",
    "\n",
    "You can delete items from a dictionary using:\n",
    "* **del dictionary[key]**  deletes the key and its value\n"
   ]
  },
  {
   "cell_type": "code",
   "execution_count": 47,
   "id": "c1b1b423-639a-4933-8582-17288a33600e",
   "metadata": {},
   "outputs": [
    {
     "name": "stdout",
     "output_type": "stream",
     "text": [
      "After deleting items: {'name': 'Messi', 'team': 'Inter Miami'}\n"
     ]
    }
   ],
   "source": [
    "player = {\n",
    "    \"name\": \"Messi\",\n",
    "    \"age\": 38,\n",
    "    \"team\": \"Inter Miami\",\n",
    "}\n",
    "\n",
    "del player [\"age\"]\n",
    "\n",
    "print(\"After deleting items:\", player)\n"
   ]
  },
  {
   "cell_type": "markdown",
   "id": "ffa934a2-bc07-4977-9140-ffc4304326c8",
   "metadata": {},
   "source": [
    "# **Tuple**:\n",
    "\n",
    "A **tuple** is like a list, but it **cannot be changed** (it is **immutable**).\n",
    "\n",
    "- Tuples are written with **round brackets ()**\n",
    "- You can store **multiple items**\n",
    "- You can **access** items, but **cannot modify** or **delete** them\n",
    "\n"
   ]
  },
  {
   "cell_type": "code",
   "execution_count": 48,
   "id": "b7e67b3a-391e-488e-b7bb-af8377f2e2a1",
   "metadata": {},
   "outputs": [
    {
     "name": "stdout",
     "output_type": "stream",
     "text": [
      "('Math', '98', 'C programming', '99')\n",
      "98\n",
      "('98', 'C programming')\n"
     ]
    }
   ],
   "source": [
    "tup = ('Math','98', 'C programming', '99')\n",
    "print (tup)\n",
    "print(tup[1])\n",
    "print(tup[1:3])"
   ]
  },
  {
   "cell_type": "markdown",
   "id": "3db9f1a1-0e60-4ec8-b6b8-1dd90e883b25",
   "metadata": {},
   "source": [
    "* **Updating a Tuple in Python**:\n",
    "\n",
    "Tuples are **immutable**, meaning you cannot change their items directly.\n",
    "\n",
    "This is invalid and causes an error:\n",
    "\n",
    "tup1[0] = 100  #Not allowed\n"
   ]
  },
  {
   "cell_type": "code",
   "execution_count": 51,
   "id": "4f7473db-6bd4-4d93-b173-9ba97b735930",
   "metadata": {},
   "outputs": [
    {
     "name": "stdout",
     "output_type": "stream",
     "text": [
      "Updated tuple: (12, 34.56, 'abc', 'xyz')\n"
     ]
    }
   ],
   "source": [
    "# Original tuples\n",
    "tup1 = (12, 34.56)\n",
    "tup2 = (\"abc\", \"xyz\")\n",
    "\n",
    "# Combine tuples to create a new one\n",
    "tup3 = tup1 + tup2\n",
    "\n",
    "# Print the new tuple\n",
    "print(\"Updated tuple:\", tup3)\n"
   ]
  },
  {
   "cell_type": "markdown",
   "id": "ac87ac18-8479-4999-8314-d13c00dffe7d",
   "metadata": {},
   "source": [
    "* **Delete tuple elements**:\n",
    "* Removing an element from Tuple is not possible because they can't be updated.\n",
    "* **del** statment is used to remove entire Tuple\n",
    "* Error will appear named **NameError: name 'tup' is not defined**"
   ]
  },
  {
   "cell_type": "code",
   "execution_count": null,
   "id": "f628c0b7-a498-4269-8508-1cec89e2edbd",
   "metadata": {},
   "outputs": [],
   "source": [
    "tup = ('physics', 'chemistry', 1997, 2000);\n",
    "print (tup);\n",
    "del tup;\n",
    "print (\"After deleting tup : \");\n",
    "print (tup);\n"
   ]
  },
  {
   "cell_type": "markdown",
   "id": "d9e773ed-9c8a-4d92-9699-78aaf85daf05",
   "metadata": {},
   "source": [
    "* **Sets**:\n",
    "\n",
    "A **set** is an unordered collection of unique items.\n",
    "\n",
    "- Sets are written using **curly braces \"{}\"**\n",
    "- The order is **not guaranteed**\n",
    "- You can add or remove items, but you can't access by index\n"
   ]
  },
  {
   "cell_type": "code",
   "execution_count": 55,
   "id": "6ebd33f6-a3a7-4506-94b9-398f55c79a51",
   "metadata": {},
   "outputs": [
    {
     "name": "stdout",
     "output_type": "stream",
     "text": [
      "<class 'list'>\n",
      "{1, 2, 3, 4, 5}\n",
      "<class 'set'>\n",
      "{1, 2, 3}\n",
      "{1, 1.2, 2, 3, 4, 5, 'D', 'Hello', 'C'}\n"
     ]
    }
   ],
   "source": [
    "# Convert list to set and check types\n",
    "list1 = [1, 2, 3, 4, 5]\n",
    "print(type(list1))\n",
    "\n",
    "my_set = set(list1)\n",
    "print(my_set)\n",
    "print(type(my_set))\n",
    "\n",
    "# Create a set of integers\n",
    "my_set = {1, 2, 3}\n",
    "print(my_set)\n",
    "\n",
    "# Create a set with mixed data types\n",
    "my_set = {1, \"Hello\", 1.2, 'C'}\n",
    "\n",
    "# Add a single value to the set\n",
    "my_set.add('D')\n",
    "\n",
    "# Add multiple values from a list\n",
    "my_set.update(list1)\n",
    "\n",
    "# Print the updated set\n",
    "print(my_set)\n",
    "\n",
    "# Safely discard an element (no error even if it doesn't exist)\n",
    "my_set.discard('G')\n",
    "\n",
    "# Remove an element (will raise an error if not found)\n",
    "# Uncommenting the next line will raise a KeyError\n",
    "# my_set.remove('G')\n"
   ]
  },
  {
   "cell_type": "markdown",
   "id": "0fc11e16-38aa-4537-8264-653a8608ebf1",
   "metadata": {},
   "source": [
    "* **Cause of error**:\n",
    "In Python, each statement (like print(...)) must be complete on its own line or properly separated.\n",
    "in this example there were two print() statements without separating them, which is not allowed.\n",
    "\n",
    "* Option 1 — Use **two separate lines**.\n",
    "* Option 2 — Use a **semicolon ;** to separate them.\n"
   ]
  },
  {
   "cell_type": "markdown",
   "id": "dfa436d7-63e3-4b94-ab42-1ad7bd213066",
   "metadata": {},
   "source": [
    "# 3. **Operators**:"
   ]
  },
  {
   "cell_type": "markdown",
   "id": "c1c12150-6c4e-4258-ad04-52c9421ac6a8",
   "metadata": {},
   "source": [
    "* Operators in python are used to **compare two values**.\n",
    "\n",
    "They return a **Boolean result**:  \n",
    "- \"True\" if the condition is correct  \n",
    "- \"False\" if it's not\n"
   ]
  },
  {
   "cell_type": "code",
   "execution_count": 1,
   "id": "7322a148-46e6-41df-9c4d-807b6561a41b",
   "metadata": {},
   "outputs": [
    {
     "data": {
      "text/plain": [
       "True"
      ]
     },
     "execution_count": 1,
     "metadata": {},
     "output_type": "execute_result"
    }
   ],
   "source": [
    "15 <= 23"
   ]
  },
  {
   "cell_type": "code",
   "execution_count": 2,
   "id": "1cec8b6a-74f0-4ca5-a8f4-7ae9ae6341a0",
   "metadata": {},
   "outputs": [
    {
     "data": {
      "text/plain": [
       "True"
      ]
     },
     "execution_count": 2,
     "metadata": {},
     "output_type": "execute_result"
    }
   ],
   "source": [
    "3 != 4"
   ]
  },
  {
   "cell_type": "markdown",
   "id": "691106c4-5ccd-4f80-ada4-5fec8e61f2b1",
   "metadata": {},
   "source": [
    "# **4. If-Else Statements**:"
   ]
  },
  {
   "cell_type": "markdown",
   "id": "82da2cc3-5f65-4400-866e-19f4c3ad0780",
   "metadata": {},
   "source": [
    "**if-else** statement is used to **make decisions** in your program.\n",
    "\n",
    "- \"if\" checks a condition\n",
    "- If the condition is **True**, the code inside \"if\" runs\n",
    "- If it's **False**, the code inside \"else\" runs"
   ]
  },
  {
   "cell_type": "code",
   "execution_count": 8,
   "id": "2fd4eb57-b344-421f-8229-fd58ee1f45e1",
   "metadata": {},
   "outputs": [
    {
     "name": "stdout",
     "output_type": "stream",
     "text": [
      "Even number\n"
     ]
    }
   ],
   "source": [
    "if 7 % 2:\n",
    "    print(\"Even number\")\n",
    "else:\n",
    "    print(\"Odd number\")\n"
   ]
  },
  {
   "cell_type": "markdown",
   "id": "d047111e-03af-47c0-82d1-a916dae02d66",
   "metadata": {},
   "source": [
    "# **5. For and While Loop**:"
   ]
  },
  {
   "cell_type": "markdown",
   "id": "637ef387-d19d-4046-a31a-665812c1e918",
   "metadata": {},
   "source": [
    "It is used when we want to repeat a task. Python has **For** and **While** loop for repeatition of a task."
   ]
  },
  {
   "cell_type": "code",
   "execution_count": 4,
   "id": "faece670-62b1-4a76-9aab-83c274197a65",
   "metadata": {},
   "outputs": [
    {
     "name": "stdout",
     "output_type": "stream",
     "text": [
      "I like apple\n",
      "I like banana\n",
      "I like mango\n"
     ]
    }
   ],
   "source": [
    "# for loop example.\n",
    "fruits = [\"apple\", \"banana\", \"mango\"]\n",
    "\n",
    "for fruit in fruits:\n",
    "    print(\"I like\", fruit)\n"
   ]
  },
  {
   "cell_type": "code",
   "execution_count": 16,
   "id": "a8564217-2719-4165-b2ce-1466c2d8b662",
   "metadata": {},
   "outputs": [
    {
     "name": "stdout",
     "output_type": "stream",
     "text": [
      "3\n",
      "4\n",
      "5\n",
      "6\n",
      "7\n",
      "8\n",
      "9\n",
      "10\n"
     ]
    }
   ],
   "source": [
    "# while loop example\n",
    "a = 2\n",
    "while a < 10:\n",
    "    a = a + 1\n",
    "    print(a)\n"
   ]
  },
  {
   "cell_type": "markdown",
   "id": "52630093-0793-448e-930d-1f272a8be01a",
   "metadata": {},
   "source": [
    "* An **Indentation** Error occured which means python needs proper spacing."
   ]
  },
  {
   "cell_type": "markdown",
   "id": "ec4a2a1c-0b3c-402a-8397-fc993bab4b6c",
   "metadata": {},
   "source": [
    "# **Functions**"
   ]
  },
  {
   "cell_type": "markdown",
   "id": "b272152c-2b24-4414-8cc2-24c887c3a2b6",
   "metadata": {},
   "source": [
    "A **function** is a block of reusable code that runs only when you **call** it.\n",
    "\n",
    "- You define a function using the `def` keyword\n",
    "- You can pass **data (parameters)** into it\n",
    "- You can **return** a value (optional)\n"
   ]
  },
  {
   "cell_type": "code",
   "execution_count": 24,
   "id": "8874a5a7-b23e-47e6-91cc-b25dd4a07ad8",
   "metadata": {},
   "outputs": [
    {
     "name": "stdout",
     "output_type": "stream",
     "text": [
      "Hello, Ayaan\n",
      "Hello, Mehvish\n"
     ]
    }
   ],
   "source": [
    "# Function that greets the user\n",
    "def greet(name):\n",
    "    print(\"Hello,\", name)\n",
    "\n",
    "# Calling the function with different names\n",
    "greet(\"Ayaan\")\n",
    "greet(\"Mehvish\")\n"
   ]
  },
  {
   "cell_type": "markdown",
   "id": "4c2e9f2e-6387-4458-964f-0e013ce0ad6a",
   "metadata": {},
   "source": [
    "# **7. Lambda Functions**:"
   ]
  },
  {
   "cell_type": "markdown",
   "id": "43809f05-7f8d-4574-837c-7a027e007f15",
   "metadata": {},
   "source": [
    "A **lambda function** is a short, one-line function with no name.\n"
   ]
  },
  {
   "cell_type": "code",
   "execution_count": 31,
   "id": "73ec240c-9d44-45a2-8044-3b46846a663c",
   "metadata": {},
   "outputs": [
    {
     "name": "stdout",
     "output_type": "stream",
     "text": [
      "4\n"
     ]
    }
   ],
   "source": [
    "#Normal function\n",
    "def  f (x):\n",
    "  return  x**2\n",
    "print (f(2))"
   ]
  },
  {
   "cell_type": "code",
   "execution_count": 39,
   "id": "828ae249-b2ed-474a-b155-99a1184001a6",
   "metadata": {},
   "outputs": [
    {
     "data": {
      "text/plain": [
       "100"
      ]
     },
     "execution_count": 39,
     "metadata": {},
     "output_type": "execute_result"
    }
   ],
   "source": [
    "#Lambda Function\n",
    "#lambda expressions (lambda var)\n",
    "times4 = lambda var:var*4\n",
    "times4(25)\n",
    "#lambda expressions: another way to write a function in line"
   ]
  },
  {
   "cell_type": "markdown",
   "id": "681bcc4d-5a76-4e78-adbf-ef7309b1d61c",
   "metadata": {},
   "source": [
    "# **Map**:"
   ]
  },
  {
   "cell_type": "markdown",
   "id": "b01e60a5-22e7-47dc-b61c-c832889f99b9",
   "metadata": {},
   "source": [
    "The \"map()\" function applies a **function to each item** in a list (breaks the sentence into a list of words) and returns a new map object (calculating lenghts of words).\n"
   ]
  },
  {
   "cell_type": "code",
   "execution_count": 47,
   "id": "072e2d61-8340-4381-b46a-1faf6780c518",
   "metadata": {},
   "outputs": [
    {
     "name": "stdout",
     "output_type": "stream",
     "text": [
      "['It', 'is', 'raining', 'cats', 'and', 'dogs']\n"
     ]
    },
    {
     "data": {
      "text/plain": [
       "[2, 2, 7, 4, 3, 4]"
      ]
     },
     "execution_count": 47,
     "metadata": {},
     "output_type": "execute_result"
    }
   ],
   "source": [
    "sentence = 'It is raining cats and dogs'\n",
    "words = sentence.split()\n",
    "print (words)\n",
    "lengths = map(lambda word: len(word), words)\n",
    "list(lengths)\n",
    "\n"
   ]
  },
  {
   "cell_type": "markdown",
   "id": "dc880d00-83b7-4a89-b1cd-fa5a06966824",
   "metadata": {},
   "source": [
    "# **Filter**:"
   ]
  },
  {
   "cell_type": "markdown",
   "id": "90f70703-ea70-417d-b5be-077dfc29e369",
   "metadata": {},
   "source": [
    "The `filter()` function is used to **select items** from a list (or iterable) **that meet a condition**.\n"
   ]
  },
  {
   "cell_type": "code",
   "execution_count": 49,
   "id": "d653510d-cc7a-47c2-a0a1-29586cd3c437",
   "metadata": {},
   "outputs": [
    {
     "data": {
      "text/plain": [
       "[1, 1, 3, 5, 13, 21, 55]"
      ]
     },
     "execution_count": 49,
     "metadata": {},
     "output_type": "execute_result"
    }
   ],
   "source": [
    "fib = [0,1,1,2,3,5,8,13,21,34,55]\n",
    "result1 = filter(lambda x: x % 2, fib)\n",
    "list(result1)\n"
   ]
  },
  {
   "cell_type": "markdown",
   "id": "c43526e3-d10b-484c-98e5-96811fced48a",
   "metadata": {},
   "source": [
    "# **8. File I/O**:"
   ]
  },
  {
   "cell_type": "markdown",
   "id": "15ad8b76-3b3b-431e-9b84-67efa84d9df5",
   "metadata": {},
   "source": [
    "* Basic **I/O** function (methods):"
   ]
  },
  {
   "cell_type": "markdown",
   "id": "bc17aedb-49ee-4eb0-a7fe-5fdf032c182e",
   "metadata": {},
   "source": [
    "# **Reading input from Keyboard**:"
   ]
  },
  {
   "cell_type": "markdown",
   "id": "c076a92c-361f-429e-8880-56336de669df",
   "metadata": {},
   "source": [
    "Python uses the **input()** function to get data from the user through the keyboard."
   ]
  },
  {
   "cell_type": "code",
   "execution_count": 61,
   "id": "8ce310c6-688c-4c70-8506-fabe70f28e29",
   "metadata": {},
   "outputs": [
    {
     "name": "stdin",
     "output_type": "stream",
     "text": [
      "Enter your name:  cristiano ronaldo\n"
     ]
    },
    {
     "name": "stdout",
     "output_type": "stream",
     "text": [
      "cristiano ronaldo\n"
     ]
    }
   ],
   "source": [
    "#from six.moves import input\n",
    "string = input(\"Enter your name: \");\n",
    "print(string)"
   ]
  },
  {
   "cell_type": "markdown",
   "id": "91b5f64b-bf08-4f11-84d5-bc4837536f50",
   "metadata": {},
   "source": [
    "# **I/O from or to Text File**:"
   ]
  },
  {
   "cell_type": "markdown",
   "id": "9720ef9a-bdba-4dba-bfcd-95865938fb74",
   "metadata": {},
   "source": [
    "Python allows you to **read from** and **write to** text files using built-in functions like `open()`, `read()`, `write()`, and `close()`.\n",
    "\n",
    "* **modes: \"r\" (read), \"w\" (write), \"a\" (append), \"r+\" (read/write)**\n"
   ]
  },
  {
   "cell_type": "code",
   "execution_count": 71,
   "id": "ed3b2cb3-9aad-466a-8244-2afa57a01108",
   "metadata": {},
   "outputs": [
    {
     "name": "stdout",
     "output_type": "stream",
     "text": [
      " Information Technology Lahore Information Technology LahoreAl Nasser FC\n",
      " Information Technology Lahore Information Technology LahoreAl Nasser FCInformation Technology Lahore\n"
     ]
    }
   ],
   "source": [
    "# Open a file to read\n",
    "fileOpen = open(\"file.txt\", \"r+\")\n",
    "str = fileOpen.read(); #to read specific content from start you can use read(12). It will read 12 characters\n",
    "#from the start of file\n",
    "print (str)\n",
    "# Close opend file\n",
    "fileOpen.close()\n",
    "# Open a file to append\n",
    "fileOpen = open(\"file.txt\", \"a+\")\n",
    "fileOpen.write(\"Information Technology Lahore\");\n",
    "fileOpen.close()\n",
    "# Open a file to read\n",
    "fileOpen = open(\"file.txt\", \"r+\")\n",
    "string = fileOpen.read(); #to read specific content from start you can use read(12). It will read 12 characte\n",
    "#rs from the start of file\n",
    "print (string)\n",
    "# Close opend file\n",
    "fileOpen.close()"
   ]
  },
  {
   "cell_type": "markdown",
   "id": "26673650-eea3-40c9-9c65-8ce83f2501ee",
   "metadata": {},
   "source": [
    "# **File Position**:"
   ]
  },
  {
   "cell_type": "markdown",
   "id": "dc757aa2-4184-4687-a567-bb94474d791f",
   "metadata": {},
   "source": [
    "* `tell()` method tells the currenct position within the file.\n",
    "* `seek()` method changes the current file location"
   ]
  },
  {
   "cell_type": "code",
   "execution_count": 72,
   "id": "bffffe07-f5ee-4f15-90d0-c922ff1c6188",
   "metadata": {},
   "outputs": [
    {
     "name": "stdout",
     "output_type": "stream",
     "text": [
      "ReadStringis:\n",
      "  Informati\n",
      "Currentfileposition:\n",
      " 10\n",
      "AgainreadStringis:\n",
      "  Informati\n"
     ]
    }
   ],
   "source": [
    "# Open a file\n",
    "fo = open(\"file.txt\", \"r+\")\n",
    "str = fo.read(10);\n",
    "print(\"ReadStringis:\\n\",str)\n",
    "# Check current position\n",
    "position = fo.tell();\n",
    "print(\"Currentfileposition:\\n\", position)\n",
    "#Repositionpointeratthebeginning once again\n",
    "position = fo.seek(0, 0);\n",
    "str = fo.read(10);\n",
    "print(\"AgainreadStringis:\\n\", str)\n",
    "# Close opend file\n",
    "fo.close()\n"
   ]
  },
  {
   "cell_type": "code",
   "execution_count": 73,
   "id": "4ebc89c1-d3d5-4ac6-8ffe-a3f13851646a",
   "metadata": {},
   "outputs": [],
   "source": [
    "import os\n",
    "# renameafile\n",
    "os.rename(\"file.txt\",\"newfile.txt\")"
   ]
  },
  {
   "cell_type": "code",
   "execution_count": 74,
   "id": "1a523593-c88f-48cc-b85b-3c678b1de7ce",
   "metadata": {},
   "outputs": [],
   "source": [
    "#remove file\n",
    "os.remove(\"newfile.txt\")"
   ]
  },
  {
   "cell_type": "markdown",
   "id": "ffb77e38-af7d-462c-9ff4-50d6d3d57cbe",
   "metadata": {},
   "source": [
    "# **9. Pandas Introduction**:\n",
    "\n",
    "* **Introduction to Pandas in Python**\n",
    "\n",
    "**Pandas** is a Python library used for **data analysis** and **data manipulation**.\n",
    "\n",
    "It helps you:\n",
    "- Handle large amounts of data easily\n",
    "- Read and write data from files (CSV, Excel, etc.)\n",
    "  \n",
    "To start using it:\n",
    "\n",
    "* **import pandas as pd**\n"
   ]
  },
  {
   "cell_type": "markdown",
   "id": "d7b2405a-369d-407a-a72b-19dc61aeb01d",
   "metadata": {},
   "source": [
    "# **10. Series**:"
   ]
  },
  {
   "cell_type": "markdown",
   "id": "89d588e2-fb13-4bec-9a03-4d0121cdbd9a",
   "metadata": {},
   "source": [
    "A **Series** is a one-dimensional data structure in pandas, similar to a **list** or a **column in Excel**.\n",
    "\n",
    "It holds:\n",
    "- **Data** (like numbers or text)\n",
    "- An **index** (like row numbers)\n",
    "- Think of a Series like a single column of data.\n",
    "\n"
   ]
  },
  {
   "cell_type": "markdown",
   "id": "1771341a-9daf-42c9-a801-ceb2e561d63e",
   "metadata": {},
   "source": [
    "# **From ndarray**:\n",
    "### Creating a Pandas Series from ndarray:"
   ]
  },
  {
   "cell_type": "code",
   "execution_count": 7,
   "id": "b6efc003-94cb-4eb4-93c2-00cd94f6b063",
   "metadata": {},
   "outputs": [
    {
     "name": "stdout",
     "output_type": "stream",
     "text": [
      "a   -0.977278\n",
      "b    0.950088\n",
      "c   -0.151357\n",
      "d   -0.103219\n",
      "e    0.410599\n",
      "dtype: float64\n"
     ]
    }
   ],
   "source": [
    "import pandas as pd\n",
    "import numpy as np\n",
    "import matplotlib.pyplot as plt\n",
    "\"\"\"following a fucntion is called from panas to create a series.\n",
    "data would be 5 random values and indexes are assigned a-e\"\"\"\n",
    "s = pd.Series(np.random.randn(5), index=['a', 'b', 'c', 'd', 'e'])\n",
    "# Print the Series so output appears\n",
    "print(s)\n"
   ]
  },
  {
   "cell_type": "markdown",
   "id": "24a2424c-6e4f-453e-93b7-b1496c606b25",
   "metadata": {},
   "source": [
    "**It wasnt giving an output untill ( print(s) ).**"
   ]
  },
  {
   "cell_type": "code",
   "execution_count": 8,
   "id": "97444017-6c8c-4479-ad2e-5cca8d51d0d5",
   "metadata": {},
   "outputs": [
    {
     "data": {
      "text/plain": [
       "Index(['a', 'b', 'c', 'd', 'e'], dtype='object')"
      ]
     },
     "execution_count": 8,
     "metadata": {},
     "output_type": "execute_result"
    }
   ],
   "source": [
    "\"\"\"Following function will print the index and its datatype\"\"\"\n",
    "s.index\n"
   ]
  },
  {
   "cell_type": "code",
   "execution_count": 9,
   "id": "973cab28-8cb2-49b0-8543-dd804a618287",
   "metadata": {},
   "outputs": [
    {
     "data": {
      "text/plain": [
       "0    0.144044\n",
       "1    1.454274\n",
       "2    0.761038\n",
       "3    0.121675\n",
       "4    0.443863\n",
       "dtype: float64"
      ]
     },
     "execution_count": 9,
     "metadata": {},
     "output_type": "execute_result"
    }
   ],
   "source": [
    "\"\"\"If we don't assign the index then it will of length having values [0....len(data-1)]\"\"\"\n",
    "pd.Series(np.random.randn(5))"
   ]
  },
  {
   "cell_type": "markdown",
   "id": "08121333-11a5-447e-9583-c39eca7406d9",
   "metadata": {},
   "source": [
    "# **From dict**:\n"
   ]
  },
  {
   "cell_type": "markdown",
   "id": "15f1f6da-c811-471b-9c49-4b617f5942b2",
   "metadata": {},
   "source": [
    "### Creating a Pandas Series from a Dictionary:\n",
    "\n",
    "In pandas, you can create a Series using a Python dictionary.  \n",
    "- The **keys** of the dictionary become the **index**\n",
    "- The **values** become the **data**\n",
    "\n"
   ]
  },
  {
   "cell_type": "code",
   "execution_count": 10,
   "id": "80944a62-8032-4a33-98f6-6ba26ec0906b",
   "metadata": {},
   "outputs": [
    {
     "data": {
      "text/plain": [
       "a    0.0\n",
       "b    1.0\n",
       "c    2.0\n",
       "dtype: float64"
      ]
     },
     "execution_count": 10,
     "metadata": {},
     "output_type": "execute_result"
    }
   ],
   "source": [
    "\"\"\" In following example, indexes are not given to it is constructed from the sorted keys of the dict\"\"\"\n",
    "d = {'a' : 0., 'b' : 1., 'c' : 2.} # a python dict\n",
    "pd.Series(d)\n"
   ]
  },
  {
   "cell_type": "code",
   "execution_count": 11,
   "id": "9658414c-eba1-45f4-aa83-ff4248b61a80",
   "metadata": {},
   "outputs": [
    {
     "data": {
      "text/plain": [
       "b    1.0\n",
       "c    2.0\n",
       "d    NaN\n",
       "a    0.0\n",
       "dtype: float64"
      ]
     },
     "execution_count": 11,
     "metadata": {},
     "output_type": "execute_result"
    }
   ],
   "source": [
    "\"\"\" In following example, index are given, so the values in data corresponding in the index will be pulled ou\n",
    "t\"\"\"\n",
    "pd.Series(d, index=['b', 'c', 'd', 'a'])"
   ]
  },
  {
   "cell_type": "markdown",
   "id": "9911686a-e22a-4375-baa6-c059c31a9ad3",
   "metadata": {},
   "source": [
    "# **From a scalar value**:\n",
    "\n",
    "* If data is a scalar value, an index must be provided. The value will be repeated to match the length of index"
   ]
  },
  {
   "cell_type": "code",
   "execution_count": 12,
   "id": "54862480-03d0-4c63-8a3b-4df1a31bc36e",
   "metadata": {},
   "outputs": [
    {
     "data": {
      "text/plain": [
       "a    5.0\n",
       "b    5.0\n",
       "c    5.0\n",
       "d    5.0\n",
       "e    5.0\n",
       "dtype: float64"
      ]
     },
     "execution_count": 12,
     "metadata": {},
     "output_type": "execute_result"
    }
   ],
   "source": [
    "\"\"\"In following example, a scalar value is given as data so it will be repeated to match the length of inde\n",
    "x\"\"\"\n",
    "pd.Series(5., index=['a', 'b', 'c', 'd', 'e'])"
   ]
  },
  {
   "cell_type": "markdown",
   "id": "b05de622-27cb-4665-9df9-04229a21a5e9",
   "metadata": {},
   "source": [
    "# **Series is ndarray-like**:\n",
    "\n",
    "* **Pandas Series is ndarray-like**:\n",
    "\n",
    "A **Series** in pandas is very similar to a **NumPy ndarray (1-dimensional array)**.\n",
    "\n",
    "Why?\n",
    "- It holds **a single column of data**\n",
    "- It supports **indexing, slicing, arithmetic operations**, and more\n",
    "- It is built on top of **NumPy**, so it behaves like a NumPy array\n",
    "\n",
    "But unlike an ndarray, a Series has **labels (indexes)** for each element.\n"
   ]
  },
  {
   "cell_type": "code",
   "execution_count": 15,
   "id": "b88389d7-3911-4774-a415-a2dbf3a91eec",
   "metadata": {
    "scrolled": true
   },
   "outputs": [
    {
     "name": "stderr",
     "output_type": "stream",
     "text": [
      "C:\\Users\\haier\\AppData\\Local\\Temp\\ipykernel_9184\\2232011024.py:3: FutureWarning: Series.__getitem__ treating keys as positions is deprecated. In a future version, integer keys will always be treated as labels (consistent with DataFrame behavior). To access a value by position, use `ser.iloc[pos]`\n",
      "  s[0]\n"
     ]
    },
    {
     "data": {
      "text/plain": [
       "np.float64(-0.977277879876411)"
      ]
     },
     "execution_count": 15,
     "metadata": {},
     "output_type": "execute_result"
    }
   ],
   "source": [
    "#we can access a value just like ndarray\n",
    "#access single value\n",
    "s[0]\n"
   ]
  },
  {
   "cell_type": "code",
   "execution_count": 14,
   "id": "a58a76e8-4d6d-4d38-b017-38c465a56da4",
   "metadata": {},
   "outputs": [
    {
     "data": {
      "text/plain": [
       "a   -0.977278\n",
       "b    0.950088\n",
       "c   -0.151357\n",
       "d   -0.103219\n",
       "e    0.410599\n",
       "dtype: float64"
      ]
     },
     "execution_count": 14,
     "metadata": {},
     "output_type": "execute_result"
    }
   ],
   "source": [
    "#access range of values\n",
    "s[:5]\n"
   ]
  },
  {
   "cell_type": "code",
   "execution_count": 16,
   "id": "eeb0dc6d-a46e-41c1-9d1c-3b9a8979f442",
   "metadata": {},
   "outputs": [
    {
     "data": {
      "text/plain": [
       "b    0.950088\n",
       "e    0.410599\n",
       "dtype: float64"
      ]
     },
     "execution_count": 16,
     "metadata": {},
     "output_type": "execute_result"
    }
   ],
   "source": [
    "\"\"\" Following example will return a range of values in series whose value is greater than the median of serie\n",
    "s\"\"\"\n",
    "s[s > s.median()]"
   ]
  },
  {
   "cell_type": "code",
   "execution_count": 17,
   "id": "de99143c-e8bf-4da6-8269-5bf0e7d98568",
   "metadata": {},
   "outputs": [
    {
     "name": "stderr",
     "output_type": "stream",
     "text": [
      "C:\\Users\\haier\\AppData\\Local\\Temp\\ipykernel_9184\\1684425401.py:3: FutureWarning: Series.__getitem__ treating keys as positions is deprecated. In a future version, integer keys will always be treated as labels (consistent with DataFrame behavior). To access a value by position, use `ser.iloc[pos]`\n",
      "  s[[4, 3, 1]]\n"
     ]
    },
    {
     "data": {
      "text/plain": [
       "e    0.410599\n",
       "d   -0.103219\n",
       "b    0.950088\n",
       "dtype: float64"
      ]
     },
     "execution_count": 17,
     "metadata": {},
     "output_type": "execute_result"
    }
   ],
   "source": [
    "\"\"\"Following example is return the values in series with indexes. 4,3,1 are the positions of the indexs\n",
    "For example: the index at 4,3,1 are e,d,b respectively\"\"\"\n",
    "s[[4, 3, 1]]\n"
   ]
  },
  {
   "cell_type": "code",
   "execution_count": 18,
   "id": "dddf0afd-7f37-46ae-9809-3164853e5ccc",
   "metadata": {},
   "outputs": [
    {
     "data": {
      "text/plain": [
       "a    0.376334\n",
       "b    2.585938\n",
       "c    0.859541\n",
       "d    0.901930\n",
       "e    1.507720\n",
       "dtype: float64"
      ]
     },
     "execution_count": 18,
     "metadata": {},
     "output_type": "execute_result"
    }
   ],
   "source": [
    "\"\"\" Following example returns the exponent values. just like e^a (here a is index and its respective data is\n",
    "placed here)\"\"\"\n",
    "np.exp(s)\n"
   ]
  },
  {
   "cell_type": "code",
   "execution_count": 19,
   "id": "5a92c65f-c564-4f86-bb87-c18bd1ff5635",
   "metadata": {},
   "outputs": [
    {
     "data": {
      "text/plain": [
       "np.float64(-0.977277879876411)"
      ]
     },
     "execution_count": 19,
     "metadata": {},
     "output_type": "execute_result"
    }
   ],
   "source": [
    "\"\"\"Following example will get the data of given index\"\"\"\n",
    "s['a']\n"
   ]
  },
  {
   "cell_type": "code",
   "execution_count": 20,
   "id": "fc9334cb-c78d-4d2a-b165-94b14008955d",
   "metadata": {},
   "outputs": [
    {
     "data": {
      "text/plain": [
       "a    -0.977278\n",
       "b     0.950088\n",
       "c    -0.151357\n",
       "d    -0.103219\n",
       "e    12.000000\n",
       "dtype: float64"
      ]
     },
     "execution_count": 20,
     "metadata": {},
     "output_type": "execute_result"
    }
   ],
   "source": [
    "\"\"\"Following example will update the data of the given index\"\"\"\n",
    "s['e'] = 12.\n",
    "s # before updating e = 1.399281 but after updating e = 12.000000"
   ]
  },
  {
   "cell_type": "code",
   "execution_count": 21,
   "id": "8ecc6068-d152-4039-af15-61d294e05ce7",
   "metadata": {},
   "outputs": [
    {
     "data": {
      "text/plain": [
       "True"
      ]
     },
     "execution_count": 21,
     "metadata": {},
     "output_type": "execute_result"
    }
   ],
   "source": [
    "\"\"\" Following will return true if 'e' is in the values of index otherwise false\"\"\"\n",
    "'e' in s"
   ]
  },
  {
   "cell_type": "code",
   "execution_count": null,
   "id": "38981537-f460-4af4-8fdd-9634d4651042",
   "metadata": {},
   "outputs": [],
   "source": [
    "#\"\"\"If a label is not contained and you are trying to access its data, an exception is raised: \"\"\"\n",
    "s['f']\n",
    "# This will create error"
   ]
  },
  {
   "cell_type": "markdown",
   "id": "1d393d21-3eef-4197-a20d-b7089f6d8757",
   "metadata": {},
   "source": [
    "**If a label does not exist in a Series and we try to access it directly (like s['f']), it will raise a KeyError.\n",
    "To avoid this, we use the get() method, which returns None or a default message.**"
   ]
  },
  {
   "cell_type": "code",
   "execution_count": 25,
   "id": "54a503fb-a1f0-460f-9e45-a827e4a6e4cf",
   "metadata": {},
   "outputs": [
    {
     "name": "stdout",
     "output_type": "stream",
     "text": [
      "Label 'f' not found\n"
     ]
    }
   ],
   "source": [
    "import pandas as pd\n",
    "\n",
    "# Create a Series\n",
    "s = pd.Series([10, 20, 30], index=['a', 'b', 'c'])\n",
    "\n",
    "# Safe way to access a label that might not exist\n",
    "print(s.get('f', \"Label 'f' not found\"))\n"
   ]
  },
  {
   "cell_type": "code",
   "execution_count": 23,
   "id": "4531ab99-5f14-43a1-8fa4-72a1a0b42b7f",
   "metadata": {},
   "outputs": [
    {
     "data": {
      "text/plain": [
       "nan"
      ]
     },
     "execution_count": 23,
     "metadata": {},
     "output_type": "execute_result"
    }
   ],
   "source": [
    "\"\"\"Using the get method, a missing label will return None or specified default\"\"\"\n",
    "s.get('f') #it will return none\n",
    "s.get('f', np.nan) #it will return default value"
   ]
  },
  {
   "cell_type": "markdown",
   "id": "7b66372f-e2d7-4ff6-90b5-847bc96dc2a5",
   "metadata": {},
   "source": [
    "# **Vectorized operations and label alignment with Series**:\n",
    "\n",
    "### Vectorized Operations with Series\n",
    "\n",
    "Pandas Series supports **vectorized operations**, which means you can perform operations (like +, -, *, /) on the whole Series **without using loops**.\n",
    "\n",
    "These operations are fast and work element-wise (just like NumPy arrays).\n",
    "\n",
    "\n",
    "### Label Alignment\n",
    "\n",
    "When you perform operations between two Series with different indexes, pandas **aligns the labels (indexes)** first.\n",
    "\n",
    "If a label is missing in one Series, the result will show `NaN` (Not a Number).\n",
    "\n",
    "\n"
   ]
  },
  {
   "cell_type": "code",
   "execution_count": 26,
   "id": "3ecbb2ad-299d-40f0-b937-5c88e5ca266e",
   "metadata": {},
   "outputs": [
    {
     "data": {
      "text/plain": [
       "a    20\n",
       "b    40\n",
       "c    60\n",
       "dtype: int64"
      ]
     },
     "execution_count": 26,
     "metadata": {},
     "output_type": "execute_result"
    }
   ],
   "source": [
    "\"\"\"following will add the data of respective values of indexes. For example, in given output, it is calculate\n",
    "d as: a = s['a'] +\n",
    "s['a'] b = s['b'] +\n",
    "s['b'] c = s['c'] +\n",
    "s['c'] d = s['d'] +\n",
    "s['d'] e = s['e'] +\n",
    "s['e']\n",
    "\"\"\"\n",
    "s + s\n"
   ]
  },
  {
   "cell_type": "code",
   "execution_count": 27,
   "id": "68e2a5e8-6c62-4309-82bb-a7abe6f157ec",
   "metadata": {},
   "outputs": [
    {
     "data": {
      "text/plain": [
       "a    20\n",
       "b    40\n",
       "c    60\n",
       "dtype: int64"
      ]
     },
     "execution_count": 27,
     "metadata": {},
     "output_type": "execute_result"
    }
   ],
   "source": [
    "\"\"\"following will multiply the data of each values of indexes, with 2. For example, in given output, it is ca\n",
    "lculated as:\n",
    "a = s['a'] *2\n",
    "b = s['b'] *2\n",
    "c = s['c'] *2\n",
    "d = s['d'] *2\n",
    "e = s['e'] *2\"\"\"\n",
    "s * 2\n"
   ]
  },
  {
   "cell_type": "code",
   "execution_count": 28,
   "id": "cad7454a-c3e3-4ba9-9508-a9096c189035",
   "metadata": {},
   "outputs": [
    {
     "data": {
      "text/plain": [
       "0    0.333674\n",
       "1    1.494079\n",
       "2   -0.205158\n",
       "3    0.313068\n",
       "4   -0.854096\n",
       "Name: something, dtype: float64"
      ]
     },
     "execution_count": 28,
     "metadata": {},
     "output_type": "execute_result"
    }
   ],
   "source": [
    "s = pd.Series(np.random.randn(5), name='something')\n",
    "s\n"
   ]
  },
  {
   "cell_type": "code",
   "execution_count": 29,
   "id": "0bc8cc55-2aaf-48f3-98af-ff4a69473d41",
   "metadata": {},
   "outputs": [
    {
     "data": {
      "text/plain": [
       "'something'"
      ]
     },
     "execution_count": 29,
     "metadata": {},
     "output_type": "execute_result"
    }
   ],
   "source": [
    "s.name #print the name attribute of series"
   ]
  },
  {
   "cell_type": "code",
   "execution_count": 30,
   "id": "09286a78-4bf7-4e28-b245-4a13e44c6d1f",
   "metadata": {},
   "outputs": [
    {
     "data": {
      "text/plain": [
       "'different'"
      ]
     },
     "execution_count": 30,
     "metadata": {},
     "output_type": "execute_result"
    }
   ],
   "source": [
    "#rename the series name attribute and assign to s2 object. Note that s and s2 refer to different objects.\n",
    "s2 = s.rename(\"different\")\n",
    "s2.name\n"
   ]
  },
  {
   "cell_type": "markdown",
   "id": "efcd5f52-f458-4fe0-9196-8431c6c880dd",
   "metadata": {},
   "source": [
    "# **11. Data Frames**:"
   ]
  },
  {
   "cell_type": "markdown",
   "id": "425a5d57-4f0e-4d74-aa98-19eac97a780e",
   "metadata": {},
   "source": [
    "A **DataFrame** is a 2-dimensional table (rows and columns), like a **spreadsheet** or **Excel sheet**, used to store and analyze data.\n",
    "Each column can have a different data type (numbers, strings, etc.).\n",
    "\n",
    "**Features of DataFrame**:\n",
    "- Rows and columns, each with labels (index and column names)\n",
    "- Can be created from lists, dictionaries, arrays, or external files (like CSV)\n",
    "- Easy to view, filter, and analyze data\n",
    "\n"
   ]
  },
  {
   "cell_type": "markdown",
   "id": "40839e6e-1034-4345-a97a-b26e04564556",
   "metadata": {},
   "source": [
    "# **From dict of Series or dicts**:\n",
    "\n",
    "Creating a DataFrame from a Dictionary of Series or Dictionaries\n",
    "\n",
    "In Pandas, you can create a **DataFrame** from:\n",
    "- A dictionary where **values are Series**  \n",
    "- A dictionary where **values are dictionaries**\n",
    "\n",
    "Each **key** becomes a **column name**.\n",
    "\n",
    "If Series or inner dictionaries have **labels (indexes)**, Pandas aligns them by row index.\n"
   ]
  },
  {
   "cell_type": "code",
   "execution_count": 4,
   "id": "ba7f80ed-5686-454b-9166-ad7b2fb35d6b",
   "metadata": {},
   "outputs": [
    {
     "name": "stdout",
     "output_type": "stream",
     "text": [
      "   one  two\n",
      "a  1.0  1.0\n",
      "b  2.0  2.0\n",
      "c  3.0  3.0\n",
      "d  NaN  4.0\n"
     ]
    }
   ],
   "source": [
    "import pandas as pd\n",
    "\n",
    "# A dictionary of Series is created\n",
    "d = {\n",
    "    'one': pd.Series([1., 2., 3.], index=['a', 'b', 'c']),\n",
    "    'two': pd.Series([1., 2., 3., 4.], index=['a', 'b', 'c', 'd'])\n",
    "}\n",
    "\n",
    "# Create a DataFrame from the dictionary\n",
    "df = pd.DataFrame(d)\n",
    "\n",
    "# Display the DataFrame\n",
    "print(df)\n"
   ]
  },
  {
   "cell_type": "markdown",
   "id": "55662160-d5a8-46c7-a139-797cafffe46c",
   "metadata": {},
   "source": [
    "* **Error occured cause of **Triple quotes** used **Comment not closed**  "
   ]
  },
  {
   "cell_type": "code",
   "execution_count": 5,
   "id": "0bf2cbeb-44c6-4311-b189-563e5a34b6cf",
   "metadata": {},
   "outputs": [
    {
     "data": {
      "text/html": [
       "<div>\n",
       "<style scoped>\n",
       "    .dataframe tbody tr th:only-of-type {\n",
       "        vertical-align: middle;\n",
       "    }\n",
       "\n",
       "    .dataframe tbody tr th {\n",
       "        vertical-align: top;\n",
       "    }\n",
       "\n",
       "    .dataframe thead th {\n",
       "        text-align: right;\n",
       "    }\n",
       "</style>\n",
       "<table border=\"1\" class=\"dataframe\">\n",
       "  <thead>\n",
       "    <tr style=\"text-align: right;\">\n",
       "      <th></th>\n",
       "      <th>one</th>\n",
       "      <th>two</th>\n",
       "    </tr>\n",
       "  </thead>\n",
       "  <tbody>\n",
       "    <tr>\n",
       "      <th>d</th>\n",
       "      <td>NaN</td>\n",
       "      <td>4.0</td>\n",
       "    </tr>\n",
       "    <tr>\n",
       "      <th>b</th>\n",
       "      <td>2.0</td>\n",
       "      <td>2.0</td>\n",
       "    </tr>\n",
       "    <tr>\n",
       "      <th>a</th>\n",
       "      <td>1.0</td>\n",
       "      <td>1.0</td>\n",
       "    </tr>\n",
       "  </tbody>\n",
       "</table>\n",
       "</div>"
      ],
      "text/plain": [
       "   one  two\n",
       "d  NaN  4.0\n",
       "b  2.0  2.0\n",
       "a  1.0  1.0"
      ]
     },
     "execution_count": 5,
     "metadata": {},
     "output_type": "execute_result"
    }
   ],
   "source": [
    "\"\"\" a data frame will be constructed for given row labels\"\"\"\n",
    "pd.DataFrame(d, index=['d', 'b', 'a'])\n"
   ]
  },
  {
   "cell_type": "code",
   "execution_count": 6,
   "id": "5afba4f9-62a1-4faf-b16f-fe3ad27623a6",
   "metadata": {},
   "outputs": [
    {
     "data": {
      "text/html": [
       "<div>\n",
       "<style scoped>\n",
       "    .dataframe tbody tr th:only-of-type {\n",
       "        vertical-align: middle;\n",
       "    }\n",
       "\n",
       "    .dataframe tbody tr th {\n",
       "        vertical-align: top;\n",
       "    }\n",
       "\n",
       "    .dataframe thead th {\n",
       "        text-align: right;\n",
       "    }\n",
       "</style>\n",
       "<table border=\"1\" class=\"dataframe\">\n",
       "  <thead>\n",
       "    <tr style=\"text-align: right;\">\n",
       "      <th></th>\n",
       "      <th>two</th>\n",
       "      <th>three</th>\n",
       "    </tr>\n",
       "  </thead>\n",
       "  <tbody>\n",
       "    <tr>\n",
       "      <th>d</th>\n",
       "      <td>4.0</td>\n",
       "      <td>NaN</td>\n",
       "    </tr>\n",
       "    <tr>\n",
       "      <th>b</th>\n",
       "      <td>2.0</td>\n",
       "      <td>NaN</td>\n",
       "    </tr>\n",
       "    <tr>\n",
       "      <th>a</th>\n",
       "      <td>1.0</td>\n",
       "      <td>NaN</td>\n",
       "    </tr>\n",
       "  </tbody>\n",
       "</table>\n",
       "</div>"
      ],
      "text/plain": [
       "   two three\n",
       "d  4.0   NaN\n",
       "b  2.0   NaN\n",
       "a  1.0   NaN"
      ]
     },
     "execution_count": 6,
     "metadata": {},
     "output_type": "execute_result"
    }
   ],
   "source": [
    "\"\"\"following example shows a data frame when we give coloumn labels\"\"\"\n",
    "pd.DataFrame(d, index=['d', 'b', 'a'], columns=['two', 'three'])"
   ]
  },
  {
   "cell_type": "code",
   "execution_count": 7,
   "id": "25256f6c-4a16-40d3-a586-62af27aaa3fa",
   "metadata": {},
   "outputs": [
    {
     "data": {
      "text/plain": [
       "Index(['one', 'two'], dtype='object')"
      ]
     },
     "execution_count": 7,
     "metadata": {},
     "output_type": "execute_result"
    }
   ],
   "source": [
    "df.columns"
   ]
  },
  {
   "cell_type": "markdown",
   "id": "905553d9-3345-4c28-82c4-b9be299efa7b",
   "metadata": {},
   "source": [
    "# **From dict of ndarrays / lists**:"
   ]
  },
  {
   "cell_type": "markdown",
   "id": "d6e53149-4806-474c-8795-199c920e253b",
   "metadata": {},
   "source": [
    "You can create a DataFrame using a dictionary where:\n",
    "- **Keys** become **column names**\n",
    "- **Lists or NumPy arrays** become the **column values**\n",
    "\n",
    "All columns must be the **same length**."
   ]
  },
  {
   "cell_type": "code",
   "execution_count": 13,
   "id": "0293c1aa-636d-495a-869c-fa453e94cb6e",
   "metadata": {},
   "outputs": [
    {
     "name": "stdout",
     "output_type": "stream",
     "text": [
      "   one  two\n",
      "0  1.0  4.0\n",
      "1  2.0  3.0\n",
      "2  3.0  2.0\n",
      "3  4.0  1.0\n"
     ]
    }
   ],
   "source": [
    "import pandas as pd\n",
    "\n",
    "# The following example shows that all ndarrays (lists) must have the same length\n",
    "d = {\n",
    "    'one': [1., 2., 3., 4.],\n",
    "    'two': [4., 3., 2., 1.]\n",
    "}\n",
    "\n",
    "# Since we're using a dict with keys, those keys become the column labels\n",
    "df = pd.DataFrame(d)\n",
    "\n",
    "# Display the DataFrame\n",
    "print(df)\n"
   ]
  },
  {
   "cell_type": "markdown",
   "id": "3c5cd33d-7717-4533-a6d4-4e416a115bd0",
   "metadata": {},
   "source": [
    "* Error occured cause triple comments were used \"\"\" for comments\tPython treats it as a string, not a comment"
   ]
  },
  {
   "cell_type": "code",
   "execution_count": 14,
   "id": "4974498a-6c67-49fb-8a7d-21e49540c0da",
   "metadata": {},
   "outputs": [
    {
     "data": {
      "text/html": [
       "<div>\n",
       "<style scoped>\n",
       "    .dataframe tbody tr th:only-of-type {\n",
       "        vertical-align: middle;\n",
       "    }\n",
       "\n",
       "    .dataframe tbody tr th {\n",
       "        vertical-align: top;\n",
       "    }\n",
       "\n",
       "    .dataframe thead th {\n",
       "        text-align: right;\n",
       "    }\n",
       "</style>\n",
       "<table border=\"1\" class=\"dataframe\">\n",
       "  <thead>\n",
       "    <tr style=\"text-align: right;\">\n",
       "      <th></th>\n",
       "      <th>one</th>\n",
       "      <th>two</th>\n",
       "    </tr>\n",
       "  </thead>\n",
       "  <tbody>\n",
       "    <tr>\n",
       "      <th>a</th>\n",
       "      <td>1.0</td>\n",
       "      <td>4.0</td>\n",
       "    </tr>\n",
       "    <tr>\n",
       "      <th>b</th>\n",
       "      <td>2.0</td>\n",
       "      <td>3.0</td>\n",
       "    </tr>\n",
       "    <tr>\n",
       "      <th>c</th>\n",
       "      <td>3.0</td>\n",
       "      <td>2.0</td>\n",
       "    </tr>\n",
       "    <tr>\n",
       "      <th>d</th>\n",
       "      <td>4.0</td>\n",
       "      <td>1.0</td>\n",
       "    </tr>\n",
       "  </tbody>\n",
       "</table>\n",
       "</div>"
      ],
      "text/plain": [
       "   one  two\n",
       "a  1.0  4.0\n",
       "b  2.0  3.0\n",
       "c  3.0  2.0\n",
       "d  4.0  1.0"
      ]
     },
     "execution_count": 14,
     "metadata": {},
     "output_type": "execute_result"
    }
   ],
   "source": [
    "\"\"\"If indexs are given then it would be same length as arrays\"\"\"\n",
    "pd.DataFrame(d, index=['a', 'b', 'c', 'd'])"
   ]
  },
  {
   "cell_type": "markdown",
   "id": "841dd9d2-f5ba-4552-88d3-265e06d70322",
   "metadata": {},
   "source": [
    "# **From a list of dicts**:"
   ]
  },
  {
   "cell_type": "code",
   "execution_count": 15,
   "id": "e65628d0-8023-489f-8c5b-58a0bff3fbb9",
   "metadata": {},
   "outputs": [
    {
     "data": {
      "text/html": [
       "<div>\n",
       "<style scoped>\n",
       "    .dataframe tbody tr th:only-of-type {\n",
       "        vertical-align: middle;\n",
       "    }\n",
       "\n",
       "    .dataframe tbody tr th {\n",
       "        vertical-align: top;\n",
       "    }\n",
       "\n",
       "    .dataframe thead th {\n",
       "        text-align: right;\n",
       "    }\n",
       "</style>\n",
       "<table border=\"1\" class=\"dataframe\">\n",
       "  <thead>\n",
       "    <tr style=\"text-align: right;\">\n",
       "      <th></th>\n",
       "      <th>a</th>\n",
       "      <th>b</th>\n",
       "      <th>c</th>\n",
       "    </tr>\n",
       "  </thead>\n",
       "  <tbody>\n",
       "    <tr>\n",
       "      <th>0</th>\n",
       "      <td>1</td>\n",
       "      <td>2</td>\n",
       "      <td>NaN</td>\n",
       "    </tr>\n",
       "    <tr>\n",
       "      <th>1</th>\n",
       "      <td>5</td>\n",
       "      <td>10</td>\n",
       "      <td>20.0</td>\n",
       "    </tr>\n",
       "  </tbody>\n",
       "</table>\n",
       "</div>"
      ],
      "text/plain": [
       "   a   b     c\n",
       "0  1   2   NaN\n",
       "1  5  10  20.0"
      ]
     },
     "execution_count": 15,
     "metadata": {},
     "output_type": "execute_result"
    }
   ],
   "source": [
    "\"\"\"constructing data frame from a list of dicts\"\"\"\n",
    "data2 = [{'a': 1, 'b': 2}, {'a': 5, 'b': 10, 'c': 20}]\n",
    "pd.DataFrame(data2)"
   ]
  },
  {
   "cell_type": "code",
   "execution_count": 16,
   "id": "2ceb6dfa-26ad-4412-8771-76c442a9f8b6",
   "metadata": {},
   "outputs": [
    {
     "data": {
      "text/html": [
       "<div>\n",
       "<style scoped>\n",
       "    .dataframe tbody tr th:only-of-type {\n",
       "        vertical-align: middle;\n",
       "    }\n",
       "\n",
       "    .dataframe tbody tr th {\n",
       "        vertical-align: top;\n",
       "    }\n",
       "\n",
       "    .dataframe thead th {\n",
       "        text-align: right;\n",
       "    }\n",
       "</style>\n",
       "<table border=\"1\" class=\"dataframe\">\n",
       "  <thead>\n",
       "    <tr style=\"text-align: right;\">\n",
       "      <th></th>\n",
       "      <th>a</th>\n",
       "      <th>b</th>\n",
       "      <th>c</th>\n",
       "    </tr>\n",
       "  </thead>\n",
       "  <tbody>\n",
       "    <tr>\n",
       "      <th>first</th>\n",
       "      <td>1</td>\n",
       "      <td>2</td>\n",
       "      <td>NaN</td>\n",
       "    </tr>\n",
       "    <tr>\n",
       "      <th>second</th>\n",
       "      <td>5</td>\n",
       "      <td>10</td>\n",
       "      <td>20.0</td>\n",
       "    </tr>\n",
       "  </tbody>\n",
       "</table>\n",
       "</div>"
      ],
      "text/plain": [
       "        a   b     c\n",
       "first   1   2   NaN\n",
       "second  5  10  20.0"
      ]
     },
     "execution_count": 16,
     "metadata": {},
     "output_type": "execute_result"
    }
   ],
   "source": [
    "\"\"\"passing list of dicts as data and indexes (row labels)\"\"\"\n",
    "pd.DataFrame(data2, index=['first', 'second'])"
   ]
  },
  {
   "cell_type": "code",
   "execution_count": 17,
   "id": "d2d6a51e-a0ae-42bc-9fb1-0828cfc71e20",
   "metadata": {},
   "outputs": [
    {
     "data": {
      "text/html": [
       "<div>\n",
       "<style scoped>\n",
       "    .dataframe tbody tr th:only-of-type {\n",
       "        vertical-align: middle;\n",
       "    }\n",
       "\n",
       "    .dataframe tbody tr th {\n",
       "        vertical-align: top;\n",
       "    }\n",
       "\n",
       "    .dataframe thead th {\n",
       "        text-align: right;\n",
       "    }\n",
       "</style>\n",
       "<table border=\"1\" class=\"dataframe\">\n",
       "  <thead>\n",
       "    <tr style=\"text-align: right;\">\n",
       "      <th></th>\n",
       "      <th>a</th>\n",
       "      <th>b</th>\n",
       "    </tr>\n",
       "  </thead>\n",
       "  <tbody>\n",
       "    <tr>\n",
       "      <th>0</th>\n",
       "      <td>1</td>\n",
       "      <td>2</td>\n",
       "    </tr>\n",
       "    <tr>\n",
       "      <th>1</th>\n",
       "      <td>5</td>\n",
       "      <td>10</td>\n",
       "    </tr>\n",
       "  </tbody>\n",
       "</table>\n",
       "</div>"
      ],
      "text/plain": [
       "   a   b\n",
       "0  1   2\n",
       "1  5  10"
      ]
     },
     "execution_count": 17,
     "metadata": {},
     "output_type": "execute_result"
    }
   ],
   "source": [
    "\"\"\"passing list of dicts as data and columns (columns labels)\"\"\"\n",
    "pd.DataFrame(data2, columns=['a', 'b'])"
   ]
  },
  {
   "cell_type": "markdown",
   "id": "8e496b91-8950-49f9-a72a-0af5389e8f85",
   "metadata": {},
   "source": [
    "# **From a dict of tuples**:"
   ]
  },
  {
   "cell_type": "code",
   "execution_count": 19,
   "id": "5e6be6c9-b36d-4b1a-b303-2ba6ccd32540",
   "metadata": {},
   "outputs": [
    {
     "data": {
      "text/html": [
       "<div>\n",
       "<style scoped>\n",
       "    .dataframe tbody tr th:only-of-type {\n",
       "        vertical-align: middle;\n",
       "    }\n",
       "\n",
       "    .dataframe tbody tr th {\n",
       "        vertical-align: top;\n",
       "    }\n",
       "\n",
       "    .dataframe thead tr th {\n",
       "        text-align: left;\n",
       "    }\n",
       "</style>\n",
       "<table border=\"1\" class=\"dataframe\">\n",
       "  <thead>\n",
       "    <tr>\n",
       "      <th></th>\n",
       "      <th></th>\n",
       "      <th colspan=\"3\" halign=\"left\">a</th>\n",
       "      <th colspan=\"2\" halign=\"left\">b</th>\n",
       "    </tr>\n",
       "    <tr>\n",
       "      <th></th>\n",
       "      <th></th>\n",
       "      <th>b</th>\n",
       "      <th>a</th>\n",
       "      <th>c</th>\n",
       "      <th>a</th>\n",
       "      <th>b</th>\n",
       "    </tr>\n",
       "  </thead>\n",
       "  <tbody>\n",
       "    <tr>\n",
       "      <th rowspan=\"3\" valign=\"top\">A</th>\n",
       "      <th>B</th>\n",
       "      <td>1.0</td>\n",
       "      <td>4.0</td>\n",
       "      <td>5.0</td>\n",
       "      <td>8.0</td>\n",
       "      <td>10.0</td>\n",
       "    </tr>\n",
       "    <tr>\n",
       "      <th>C</th>\n",
       "      <td>2.0</td>\n",
       "      <td>3.0</td>\n",
       "      <td>6.0</td>\n",
       "      <td>7.0</td>\n",
       "      <td>NaN</td>\n",
       "    </tr>\n",
       "    <tr>\n",
       "      <th>D</th>\n",
       "      <td>NaN</td>\n",
       "      <td>NaN</td>\n",
       "      <td>NaN</td>\n",
       "      <td>NaN</td>\n",
       "      <td>9.0</td>\n",
       "    </tr>\n",
       "  </tbody>\n",
       "</table>\n",
       "</div>"
      ],
      "text/plain": [
       "       a              b      \n",
       "       b    a    c    a     b\n",
       "A B  1.0  4.0  5.0  8.0  10.0\n",
       "  C  2.0  3.0  6.0  7.0   NaN\n",
       "  D  NaN  NaN  NaN  NaN   9.0"
      ]
     },
     "execution_count": 19,
     "metadata": {},
     "output_type": "execute_result"
    }
   ],
   "source": [
    "pd.DataFrame({('a', 'b'): {('A', 'B'): 1, ('A', 'C'): 2},\n",
    "('a', 'a'): {('A', 'C'): 3, ('A', 'B'): 4},\n",
    "('a', 'c'): {('A', 'B'): 5, ('A', 'C'): 6},\n",
    "('b', 'a'): {('A', 'C'): 7, ('A', 'B'): 8},\n",
    "('b', 'b'): {('A', 'D'): 9, ('A', 'B'): 10}})   #\"NaN shows missing data"
   ]
  },
  {
   "cell_type": "markdown",
   "id": "74acd318-2235-4511-a0ee-272d024a6b5f",
   "metadata": {},
   "source": [
    "# **Alternate Constructors**:"
   ]
  },
  {
   "cell_type": "markdown",
   "id": "90d24eae-1cfb-4fa6-bf8e-8583f93b19b5",
   "metadata": {},
   "source": [
    "Alternate Constructors in Pandas provides **alternate constructors** to create DataFrames or Series from different types of data.\n",
    "You don’t always need to use a dictionary or list — Pandas supports:\n",
    "\n"
   ]
  },
  {
   "cell_type": "code",
   "execution_count": 23,
   "id": "910297ac-6332-4658-b4a5-a60a52a6be89",
   "metadata": {},
   "outputs": [
    {
     "name": "stderr",
     "output_type": "stream",
     "text": [
      "C:\\Users\\haier\\AppData\\Local\\Temp\\ipykernel_1020\\1946278750.py:2: DeprecationWarning: Data type alias 'a' was deprecated in NumPy 2.0. Use the 'S' alias instead.\n",
      "  data = np.zeros((2,), dtype=[('A', 'i4'),('B', 'f4'),('C', 'a10')])\n"
     ]
    },
    {
     "data": {
      "text/plain": [
       "array([(0, 0., b''), (0, 0., b'')],\n",
       "      dtype=[('A', '<i4'), ('B', '<f4'), ('C', 'S10')])"
      ]
     },
     "execution_count": 23,
     "metadata": {},
     "output_type": "execute_result"
    }
   ],
   "source": [
    "import numpy as np\n",
    "data = np.zeros((2,), dtype=[('A', 'i4'),('B', 'f4'),('C', 'a10')])\n",
    "data\n"
   ]
  },
  {
   "cell_type": "markdown",
   "id": "e71314c1-717e-4b4f-aacd-e33981d0769e",
   "metadata": {},
   "source": [
    "* import numpy as np is added before example otherwise it was giving error"
   ]
  },
  {
   "cell_type": "code",
   "execution_count": 24,
   "id": "5896e29e-536e-4485-b728-adf2b10af20a",
   "metadata": {},
   "outputs": [
    {
     "data": {
      "text/html": [
       "<div>\n",
       "<style scoped>\n",
       "    .dataframe tbody tr th:only-of-type {\n",
       "        vertical-align: middle;\n",
       "    }\n",
       "\n",
       "    .dataframe tbody tr th {\n",
       "        vertical-align: top;\n",
       "    }\n",
       "\n",
       "    .dataframe thead th {\n",
       "        text-align: right;\n",
       "    }\n",
       "</style>\n",
       "<table border=\"1\" class=\"dataframe\">\n",
       "  <thead>\n",
       "    <tr style=\"text-align: right;\">\n",
       "      <th></th>\n",
       "      <th>A</th>\n",
       "      <th>B</th>\n",
       "    </tr>\n",
       "    <tr>\n",
       "      <th>C</th>\n",
       "      <th></th>\n",
       "      <th></th>\n",
       "    </tr>\n",
       "  </thead>\n",
       "  <tbody>\n",
       "    <tr>\n",
       "      <th>b''</th>\n",
       "      <td>0</td>\n",
       "      <td>0.0</td>\n",
       "    </tr>\n",
       "    <tr>\n",
       "      <th>b''</th>\n",
       "      <td>0</td>\n",
       "      <td>0.0</td>\n",
       "    </tr>\n",
       "  </tbody>\n",
       "</table>\n",
       "</div>"
      ],
      "text/plain": [
       "     A    B\n",
       "C          \n",
       "b''  0  0.0\n",
       "b''  0  0.0"
      ]
     },
     "execution_count": 24,
     "metadata": {},
     "output_type": "execute_result"
    }
   ],
   "source": [
    "pd.DataFrame.from_records(data, index='C')"
   ]
  },
  {
   "cell_type": "markdown",
   "id": "2719bee2-6514-4442-8ab3-9092a5fcaa8d",
   "metadata": {},
   "source": [
    "**DataFrame.from_items**:"
   ]
  },
  {
   "cell_type": "code",
   "execution_count": 26,
   "id": "2585c098-c54c-4c64-a3b9-577567914760",
   "metadata": {},
   "outputs": [
    {
     "name": "stdout",
     "output_type": "stream",
     "text": [
      "   A  B\n",
      "0  1  4\n",
      "1  2  5\n",
      "2  3  6\n"
     ]
    }
   ],
   "source": [
    "import pandas as pd\n",
    "\n",
    "# Use dictionary instead of from_items\n",
    "df = pd.DataFrame({\n",
    "    'A': [1, 2, 3],\n",
    "    'B': [4, 5, 6]\n",
    "})\n",
    "\n",
    "print(df)\n"
   ]
  },
  {
   "cell_type": "code",
   "execution_count": 29,
   "id": "c41066d5-eaac-492c-bcf3-212508e0dac2",
   "metadata": {},
   "outputs": [
    {
     "name": "stdout",
     "output_type": "stream",
     "text": [
      "   one  two  three\n",
      "A    1    2      3\n",
      "B    4    5      6\n"
     ]
    }
   ],
   "source": [
    "import pandas as pd\n",
    "\n",
    "# Using dictionary instead of from_items\n",
    "data = {\n",
    "    'A': [1, 2, 3],\n",
    "    'B': [4, 5, 6]\n",
    "}\n",
    "\n",
    "# Convert to DataFrame with 'A' and 'B' as row indexes\n",
    "df = pd.DataFrame.from_dict(data, orient='index', columns=['one', 'two', 'three'])\n",
    "\n",
    "print(df)\n"
   ]
  },
  {
   "cell_type": "markdown",
   "id": "17f3e9b1-094f-4d66-8c70-99827638f459",
   "metadata": {},
   "source": [
    "* Error was occuring cause of This code was valid only in very old versions of Pandas (pre-1.0).\n",
    "\n"
   ]
  },
  {
   "cell_type": "markdown",
   "id": "5f34a323-7750-42ba-851d-2ddacb1f0c4e",
   "metadata": {},
   "source": [
    "**Column selection, addition, deletion**:"
   ]
  },
  {
   "cell_type": "code",
   "execution_count": 32,
   "id": "c52b62ae-4702-45ef-851e-f3324de598df",
   "metadata": {},
   "outputs": [
    {
     "data": {
      "text/plain": [
       "A    1\n",
       "B    4\n",
       "Name: one, dtype: int64"
      ]
     },
     "execution_count": 32,
     "metadata": {},
     "output_type": "execute_result"
    }
   ],
   "source": [
    "df['one'] # it is displaying data under coloumn 'one'"
   ]
  },
  {
   "cell_type": "code",
   "execution_count": 33,
   "id": "8f7742af-3ef0-4dab-98fa-d788852360b1",
   "metadata": {},
   "outputs": [
    {
     "data": {
      "text/html": [
       "<div>\n",
       "<style scoped>\n",
       "    .dataframe tbody tr th:only-of-type {\n",
       "        vertical-align: middle;\n",
       "    }\n",
       "\n",
       "    .dataframe tbody tr th {\n",
       "        vertical-align: top;\n",
       "    }\n",
       "\n",
       "    .dataframe thead th {\n",
       "        text-align: right;\n",
       "    }\n",
       "</style>\n",
       "<table border=\"1\" class=\"dataframe\">\n",
       "  <thead>\n",
       "    <tr style=\"text-align: right;\">\n",
       "      <th></th>\n",
       "      <th>one</th>\n",
       "      <th>two</th>\n",
       "      <th>three</th>\n",
       "      <th>flag</th>\n",
       "    </tr>\n",
       "  </thead>\n",
       "  <tbody>\n",
       "    <tr>\n",
       "      <th>A</th>\n",
       "      <td>1</td>\n",
       "      <td>2</td>\n",
       "      <td>2</td>\n",
       "      <td>False</td>\n",
       "    </tr>\n",
       "    <tr>\n",
       "      <th>B</th>\n",
       "      <td>4</td>\n",
       "      <td>5</td>\n",
       "      <td>20</td>\n",
       "      <td>True</td>\n",
       "    </tr>\n",
       "  </tbody>\n",
       "</table>\n",
       "</div>"
      ],
      "text/plain": [
       "   one  two  three   flag\n",
       "A    1    2      2  False\n",
       "B    4    5     20   True"
      ]
     },
     "execution_count": 33,
     "metadata": {},
     "output_type": "execute_result"
    }
   ],
   "source": [
    "df['three'] = df['one'] * df['two'] # assigning values to a colomn named 'three' after calculation\n",
    "df['flag'] = df['one'] > 2 #check if value at column 'one' is > 2 then assign True otherwise false\n",
    "df #print a complete data frame"
   ]
  },
  {
   "cell_type": "code",
   "execution_count": 34,
   "id": "4cf1d147-259e-428c-aa15-5ca67b3a1b0a",
   "metadata": {},
   "outputs": [
    {
     "data": {
      "text/html": [
       "<div>\n",
       "<style scoped>\n",
       "    .dataframe tbody tr th:only-of-type {\n",
       "        vertical-align: middle;\n",
       "    }\n",
       "\n",
       "    .dataframe tbody tr th {\n",
       "        vertical-align: top;\n",
       "    }\n",
       "\n",
       "    .dataframe thead th {\n",
       "        text-align: right;\n",
       "    }\n",
       "</style>\n",
       "<table border=\"1\" class=\"dataframe\">\n",
       "  <thead>\n",
       "    <tr style=\"text-align: right;\">\n",
       "      <th></th>\n",
       "      <th>one</th>\n",
       "      <th>flag</th>\n",
       "    </tr>\n",
       "  </thead>\n",
       "  <tbody>\n",
       "    <tr>\n",
       "      <th>A</th>\n",
       "      <td>1</td>\n",
       "      <td>False</td>\n",
       "    </tr>\n",
       "    <tr>\n",
       "      <th>B</th>\n",
       "      <td>4</td>\n",
       "      <td>True</td>\n",
       "    </tr>\n",
       "  </tbody>\n",
       "</table>\n",
       "</div>"
      ],
      "text/plain": [
       "   one   flag\n",
       "A    1  False\n",
       "B    4   True"
      ]
     },
     "execution_count": 34,
     "metadata": {},
     "output_type": "execute_result"
    }
   ],
   "source": [
    "del df['two'] #delete a coloumn 'two' from data frame\n",
    "three = df.pop('three') #pop a complete coloumn 'three' from dataframe\n",
    "df"
   ]
  },
  {
   "cell_type": "code",
   "execution_count": 35,
   "id": "d4cebd03-96d3-4b31-b91b-1837d38dca93",
   "metadata": {},
   "outputs": [
    {
     "data": {
      "text/html": [
       "<div>\n",
       "<style scoped>\n",
       "    .dataframe tbody tr th:only-of-type {\n",
       "        vertical-align: middle;\n",
       "    }\n",
       "\n",
       "    .dataframe tbody tr th {\n",
       "        vertical-align: top;\n",
       "    }\n",
       "\n",
       "    .dataframe thead th {\n",
       "        text-align: right;\n",
       "    }\n",
       "</style>\n",
       "<table border=\"1\" class=\"dataframe\">\n",
       "  <thead>\n",
       "    <tr style=\"text-align: right;\">\n",
       "      <th></th>\n",
       "      <th>one</th>\n",
       "      <th>flag</th>\n",
       "      <th>foo</th>\n",
       "    </tr>\n",
       "  </thead>\n",
       "  <tbody>\n",
       "    <tr>\n",
       "      <th>A</th>\n",
       "      <td>1</td>\n",
       "      <td>False</td>\n",
       "      <td>bar</td>\n",
       "    </tr>\n",
       "    <tr>\n",
       "      <th>B</th>\n",
       "      <td>4</td>\n",
       "      <td>True</td>\n",
       "      <td>bar</td>\n",
       "    </tr>\n",
       "  </tbody>\n",
       "</table>\n",
       "</div>"
      ],
      "text/plain": [
       "   one   flag  foo\n",
       "A    1  False  bar\n",
       "B    4   True  bar"
      ]
     },
     "execution_count": 35,
     "metadata": {},
     "output_type": "execute_result"
    }
   ],
   "source": [
    "df['foo'] = 'bar' #a coloumn 'foo' will be populated with 'bar'\n",
    "df"
   ]
  },
  {
   "cell_type": "code",
   "execution_count": 37,
   "id": "0e16540d-05e5-4b16-abc5-d776087549a0",
   "metadata": {},
   "outputs": [
    {
     "data": {
      "text/html": [
       "<div>\n",
       "<style scoped>\n",
       "    .dataframe tbody tr th:only-of-type {\n",
       "        vertical-align: middle;\n",
       "    }\n",
       "\n",
       "    .dataframe tbody tr th {\n",
       "        vertical-align: top;\n",
       "    }\n",
       "\n",
       "    .dataframe thead th {\n",
       "        text-align: right;\n",
       "    }\n",
       "</style>\n",
       "<table border=\"1\" class=\"dataframe\">\n",
       "  <thead>\n",
       "    <tr style=\"text-align: right;\">\n",
       "      <th></th>\n",
       "      <th>one</th>\n",
       "      <th>flag</th>\n",
       "      <th>foo</th>\n",
       "      <th>one_trunc</th>\n",
       "    </tr>\n",
       "  </thead>\n",
       "  <tbody>\n",
       "    <tr>\n",
       "      <th>A</th>\n",
       "      <td>1</td>\n",
       "      <td>False</td>\n",
       "      <td>bar</td>\n",
       "      <td>1</td>\n",
       "    </tr>\n",
       "    <tr>\n",
       "      <th>B</th>\n",
       "      <td>4</td>\n",
       "      <td>True</td>\n",
       "      <td>bar</td>\n",
       "      <td>4</td>\n",
       "    </tr>\n",
       "  </tbody>\n",
       "</table>\n",
       "</div>"
      ],
      "text/plain": [
       "   one   flag  foo  one_trunc\n",
       "A    1  False  bar          1\n",
       "B    4   True  bar          4"
      ]
     },
     "execution_count": 37,
     "metadata": {},
     "output_type": "execute_result"
    }
   ],
   "source": [
    "\"\"\"following example will take values from coloumn one until give range and will populate the new coloumn\"\"\"\n",
    "df['one_trunc'] = df['one'][:2]\n",
    "df"
   ]
  },
  {
   "cell_type": "code",
   "execution_count": 38,
   "id": "12424ca4-82d2-46d5-b6e9-79accde3f817",
   "metadata": {},
   "outputs": [
    {
     "data": {
      "text/html": [
       "<div>\n",
       "<style scoped>\n",
       "    .dataframe tbody tr th:only-of-type {\n",
       "        vertical-align: middle;\n",
       "    }\n",
       "\n",
       "    .dataframe tbody tr th {\n",
       "        vertical-align: top;\n",
       "    }\n",
       "\n",
       "    .dataframe thead th {\n",
       "        text-align: right;\n",
       "    }\n",
       "</style>\n",
       "<table border=\"1\" class=\"dataframe\">\n",
       "  <thead>\n",
       "    <tr style=\"text-align: right;\">\n",
       "      <th></th>\n",
       "      <th>one</th>\n",
       "      <th>bar2</th>\n",
       "      <th>flag</th>\n",
       "      <th>foo</th>\n",
       "      <th>one_trunc</th>\n",
       "    </tr>\n",
       "  </thead>\n",
       "  <tbody>\n",
       "    <tr>\n",
       "      <th>A</th>\n",
       "      <td>1</td>\n",
       "      <td>1</td>\n",
       "      <td>False</td>\n",
       "      <td>bar</td>\n",
       "      <td>1</td>\n",
       "    </tr>\n",
       "    <tr>\n",
       "      <th>B</th>\n",
       "      <td>4</td>\n",
       "      <td>4</td>\n",
       "      <td>True</td>\n",
       "      <td>bar</td>\n",
       "      <td>4</td>\n",
       "    </tr>\n",
       "  </tbody>\n",
       "</table>\n",
       "</div>"
      ],
      "text/plain": [
       "   one  bar2   flag  foo  one_trunc\n",
       "A    1     1  False  bar          1\n",
       "B    4     4   True  bar          4"
      ]
     },
     "execution_count": 38,
     "metadata": {},
     "output_type": "execute_result"
    }
   ],
   "source": [
    "\"\"\"following function has three arguments.\n",
    "First argument: index where new coloumn will be inserted.\n",
    "Second argument: label or title of a new coloumn\n",
    "Third argument: it will create a coloumn at specified position\"\"\"\n",
    "df.insert(1, 'bar2', df['one'])\n",
    "df"
   ]
  },
  {
   "cell_type": "markdown",
   "id": "11375408-eec1-4a3c-aa19-1f6fa548a919",
   "metadata": {},
   "source": [
    "**Indexing / Selection**:"
   ]
  },
  {
   "cell_type": "markdown",
   "id": "6cfdf8c1-ccd7-4672-9755-af9a14e97422",
   "metadata": {},
   "source": [
    "* Indexing and Selection in Pandas n allow you to access specific **rows**, **columns**, or **values** in a DataFrame or Series.\n"
   ]
  },
  {
   "cell_type": "code",
   "execution_count": 44,
   "id": "7127529a-7c18-4a2a-8ee1-56d090275c77",
   "metadata": {},
   "outputs": [
    {
     "data": {
      "text/plain": [
       "one             2\n",
       "2           False\n",
       "bar             2\n",
       "bar2         flag\n",
       "foo     one_trunc\n",
       "Name: b, dtype: object"
      ]
     },
     "execution_count": 44,
     "metadata": {},
     "output_type": "execute_result"
    }
   ],
   "source": [
    "df.loc['b'] #it will return the coloumn labels and values on row label 'b'\n"
   ]
  },
  {
   "cell_type": "code",
   "execution_count": 52,
   "id": "d2668db0-e098-484a-9964-71c6b6175692",
   "metadata": {},
   "outputs": [
    {
     "name": "stdout",
     "output_type": "stream",
     "text": [
      "one             3\n",
      "3            True\n",
      "bar           NaN\n",
      "bar2         flag\n",
      "foo     one_trunc\n",
      "Name: c, dtype: object\n"
     ]
    }
   ],
   "source": [
    "import pandas as pd\n",
    "\n",
    "# Create the DataFrame\n",
    "data = {\n",
    "    'one': [1, 2, 3],\n",
    "    3: [True, False, True],          # Yes, 3 is used as a column name (valid in pandas)\n",
    "    'bar': [2, 2, None],\n",
    "    'bar2': ['baz', 'flag', 'flag'],\n",
    "    'foo': ['bar_trunc', 'one_trunc', 'one_trunc']\n",
    "}\n",
    "\n",
    "# Custom index\n",
    "df = pd.DataFrame(data, index=['a', 'b', 'c'])\n",
    "\n",
    "# Display the third row (index = 2 => label 'c')\n",
    "print(df.iloc[2])\n",
    "\n",
    "\n"
   ]
  },
  {
   "cell_type": "markdown",
   "id": "c6158851-03a3-4af1-bf7f-4790f28f3a63",
   "metadata": {},
   "source": [
    "**Data alignment and arithmetic**:"
   ]
  },
  {
   "cell_type": "code",
   "execution_count": 53,
   "id": "1cee0914-ce1e-47cb-a078-af86a1852b24",
   "metadata": {},
   "outputs": [
    {
     "data": {
      "text/html": [
       "<div>\n",
       "<style scoped>\n",
       "    .dataframe tbody tr th:only-of-type {\n",
       "        vertical-align: middle;\n",
       "    }\n",
       "\n",
       "    .dataframe tbody tr th {\n",
       "        vertical-align: top;\n",
       "    }\n",
       "\n",
       "    .dataframe thead th {\n",
       "        text-align: right;\n",
       "    }\n",
       "</style>\n",
       "<table border=\"1\" class=\"dataframe\">\n",
       "  <thead>\n",
       "    <tr style=\"text-align: right;\">\n",
       "      <th></th>\n",
       "      <th>A</th>\n",
       "      <th>B</th>\n",
       "      <th>C</th>\n",
       "      <th>D</th>\n",
       "    </tr>\n",
       "  </thead>\n",
       "  <tbody>\n",
       "    <tr>\n",
       "      <th>0</th>\n",
       "      <td>-0.149830</td>\n",
       "      <td>2.247494</td>\n",
       "      <td>1.871203</td>\n",
       "      <td>NaN</td>\n",
       "    </tr>\n",
       "    <tr>\n",
       "      <th>1</th>\n",
       "      <td>2.570845</td>\n",
       "      <td>-0.180146</td>\n",
       "      <td>0.168791</td>\n",
       "      <td>NaN</td>\n",
       "    </tr>\n",
       "    <tr>\n",
       "      <th>2</th>\n",
       "      <td>1.524467</td>\n",
       "      <td>-2.461665</td>\n",
       "      <td>-3.091136</td>\n",
       "      <td>NaN</td>\n",
       "    </tr>\n",
       "    <tr>\n",
       "      <th>3</th>\n",
       "      <td>-1.245856</td>\n",
       "      <td>1.222271</td>\n",
       "      <td>2.801686</td>\n",
       "      <td>NaN</td>\n",
       "    </tr>\n",
       "    <tr>\n",
       "      <th>4</th>\n",
       "      <td>2.239671</td>\n",
       "      <td>0.721712</td>\n",
       "      <td>-0.071142</td>\n",
       "      <td>NaN</td>\n",
       "    </tr>\n",
       "    <tr>\n",
       "      <th>5</th>\n",
       "      <td>-2.398327</td>\n",
       "      <td>0.308857</td>\n",
       "      <td>-1.286085</td>\n",
       "      <td>NaN</td>\n",
       "    </tr>\n",
       "    <tr>\n",
       "      <th>6</th>\n",
       "      <td>-0.238017</td>\n",
       "      <td>-0.195010</td>\n",
       "      <td>-0.739020</td>\n",
       "      <td>NaN</td>\n",
       "    </tr>\n",
       "    <tr>\n",
       "      <th>7</th>\n",
       "      <td>NaN</td>\n",
       "      <td>NaN</td>\n",
       "      <td>NaN</td>\n",
       "      <td>NaN</td>\n",
       "    </tr>\n",
       "    <tr>\n",
       "      <th>8</th>\n",
       "      <td>NaN</td>\n",
       "      <td>NaN</td>\n",
       "      <td>NaN</td>\n",
       "      <td>NaN</td>\n",
       "    </tr>\n",
       "    <tr>\n",
       "      <th>9</th>\n",
       "      <td>NaN</td>\n",
       "      <td>NaN</td>\n",
       "      <td>NaN</td>\n",
       "      <td>NaN</td>\n",
       "    </tr>\n",
       "  </tbody>\n",
       "</table>\n",
       "</div>"
      ],
      "text/plain": [
       "          A         B         C   D\n",
       "0 -0.149830  2.247494  1.871203 NaN\n",
       "1  2.570845 -0.180146  0.168791 NaN\n",
       "2  1.524467 -2.461665 -3.091136 NaN\n",
       "3 -1.245856  1.222271  2.801686 NaN\n",
       "4  2.239671  0.721712 -0.071142 NaN\n",
       "5 -2.398327  0.308857 -1.286085 NaN\n",
       "6 -0.238017 -0.195010 -0.739020 NaN\n",
       "7       NaN       NaN       NaN NaN\n",
       "8       NaN       NaN       NaN NaN\n",
       "9       NaN       NaN       NaN NaN"
      ]
     },
     "execution_count": 53,
     "metadata": {},
     "output_type": "execute_result"
    }
   ],
   "source": [
    "df = pd.DataFrame(np.random.randn(10, 4), columns=['A', 'B', 'C', 'D'])\n",
    "df2 = pd.DataFrame(np.random.randn(7, 3), columns=['A', 'B', 'C'])\n",
    "df + df2 # add values of respective coloumn labels\n"
   ]
  },
  {
   "cell_type": "code",
   "execution_count": 54,
   "id": "d5f013a0-f43a-4bfe-90dd-ac2b3cd1c516",
   "metadata": {},
   "outputs": [
    {
     "data": {
      "text/html": [
       "<div>\n",
       "<style scoped>\n",
       "    .dataframe tbody tr th:only-of-type {\n",
       "        vertical-align: middle;\n",
       "    }\n",
       "\n",
       "    .dataframe tbody tr th {\n",
       "        vertical-align: top;\n",
       "    }\n",
       "\n",
       "    .dataframe thead th {\n",
       "        text-align: right;\n",
       "    }\n",
       "</style>\n",
       "<table border=\"1\" class=\"dataframe\">\n",
       "  <thead>\n",
       "    <tr style=\"text-align: right;\">\n",
       "      <th></th>\n",
       "      <th>A</th>\n",
       "      <th>B</th>\n",
       "      <th>C</th>\n",
       "      <th>D</th>\n",
       "    </tr>\n",
       "  </thead>\n",
       "  <tbody>\n",
       "    <tr>\n",
       "      <th>0</th>\n",
       "      <td>0.000000</td>\n",
       "      <td>0.000000</td>\n",
       "      <td>0.000000</td>\n",
       "      <td>0.000000</td>\n",
       "    </tr>\n",
       "    <tr>\n",
       "      <th>1</th>\n",
       "      <td>1.957023</td>\n",
       "      <td>-0.067862</td>\n",
       "      <td>-1.570845</td>\n",
       "      <td>1.343724</td>\n",
       "    </tr>\n",
       "    <tr>\n",
       "      <th>2</th>\n",
       "      <td>0.998770</td>\n",
       "      <td>-2.621957</td>\n",
       "      <td>-3.279808</td>\n",
       "      <td>2.530497</td>\n",
       "    </tr>\n",
       "    <tr>\n",
       "      <th>3</th>\n",
       "      <td>-0.241476</td>\n",
       "      <td>0.343968</td>\n",
       "      <td>-0.277644</td>\n",
       "      <td>2.898511</td>\n",
       "    </tr>\n",
       "    <tr>\n",
       "      <th>4</th>\n",
       "      <td>2.541690</td>\n",
       "      <td>0.736202</td>\n",
       "      <td>-1.121296</td>\n",
       "      <td>0.027900</td>\n",
       "    </tr>\n",
       "    <tr>\n",
       "      <th>5</th>\n",
       "      <td>-0.733809</td>\n",
       "      <td>0.157652</td>\n",
       "      <td>-3.020289</td>\n",
       "      <td>1.413422</td>\n",
       "    </tr>\n",
       "    <tr>\n",
       "      <th>6</th>\n",
       "      <td>0.252933</td>\n",
       "      <td>-1.432326</td>\n",
       "      <td>-2.975831</td>\n",
       "      <td>-0.108650</td>\n",
       "    </tr>\n",
       "    <tr>\n",
       "      <th>7</th>\n",
       "      <td>-0.161960</td>\n",
       "      <td>-0.380069</td>\n",
       "      <td>-3.264302</td>\n",
       "      <td>0.784461</td>\n",
       "    </tr>\n",
       "    <tr>\n",
       "      <th>8</th>\n",
       "      <td>1.765546</td>\n",
       "      <td>0.331248</td>\n",
       "      <td>-2.497711</td>\n",
       "      <td>0.913978</td>\n",
       "    </tr>\n",
       "    <tr>\n",
       "      <th>9</th>\n",
       "      <td>0.473637</td>\n",
       "      <td>-0.493651</td>\n",
       "      <td>-3.117136</td>\n",
       "      <td>2.986018</td>\n",
       "    </tr>\n",
       "  </tbody>\n",
       "</table>\n",
       "</div>"
      ],
      "text/plain": [
       "          A         B         C         D\n",
       "0  0.000000  0.000000  0.000000  0.000000\n",
       "1  1.957023 -0.067862 -1.570845  1.343724\n",
       "2  0.998770 -2.621957 -3.279808  2.530497\n",
       "3 -0.241476  0.343968 -0.277644  2.898511\n",
       "4  2.541690  0.736202 -1.121296  0.027900\n",
       "5 -0.733809  0.157652 -3.020289  1.413422\n",
       "6  0.252933 -1.432326 -2.975831 -0.108650\n",
       "7 -0.161960 -0.380069 -3.264302  0.784461\n",
       "8  1.765546  0.331248 -2.497711  0.913978\n",
       "9  0.473637 -0.493651 -3.117136  2.986018"
      ]
     },
     "execution_count": 54,
     "metadata": {},
     "output_type": "execute_result"
    }
   ],
   "source": [
    "df - df.iloc[0]\n"
   ]
  },
  {
   "cell_type": "code",
   "execution_count": 55,
   "id": "3089e944-38e4-4191-b69b-afc152c1abc8",
   "metadata": {},
   "outputs": [
    {
     "data": {
      "text/html": [
       "<div>\n",
       "<style scoped>\n",
       "    .dataframe tbody tr th:only-of-type {\n",
       "        vertical-align: middle;\n",
       "    }\n",
       "\n",
       "    .dataframe tbody tr th {\n",
       "        vertical-align: top;\n",
       "    }\n",
       "\n",
       "    .dataframe thead th {\n",
       "        text-align: right;\n",
       "    }\n",
       "</style>\n",
       "<table border=\"1\" class=\"dataframe\">\n",
       "  <thead>\n",
       "    <tr style=\"text-align: right;\">\n",
       "      <th></th>\n",
       "      <th>A</th>\n",
       "      <th>B</th>\n",
       "      <th>C</th>\n",
       "      <th>D</th>\n",
       "    </tr>\n",
       "  </thead>\n",
       "  <tbody>\n",
       "    <tr>\n",
       "      <th>0</th>\n",
       "      <td>-2.509125</td>\n",
       "      <td>5.290667</td>\n",
       "      <td>13.464622</td>\n",
       "      <td>-3.850605</td>\n",
       "    </tr>\n",
       "    <tr>\n",
       "      <th>1</th>\n",
       "      <td>7.275992</td>\n",
       "      <td>4.951357</td>\n",
       "      <td>5.610397</td>\n",
       "      <td>2.868015</td>\n",
       "    </tr>\n",
       "    <tr>\n",
       "      <th>2</th>\n",
       "      <td>2.484725</td>\n",
       "      <td>-7.819117</td>\n",
       "      <td>-2.934419</td>\n",
       "      <td>8.801882</td>\n",
       "    </tr>\n",
       "    <tr>\n",
       "      <th>3</th>\n",
       "      <td>-3.716504</td>\n",
       "      <td>7.010508</td>\n",
       "      <td>12.076401</td>\n",
       "      <td>10.641953</td>\n",
       "    </tr>\n",
       "    <tr>\n",
       "      <th>4</th>\n",
       "      <td>10.199324</td>\n",
       "      <td>8.971679</td>\n",
       "      <td>7.858142</td>\n",
       "      <td>-3.711106</td>\n",
       "    </tr>\n",
       "    <tr>\n",
       "      <th>5</th>\n",
       "      <td>-6.178172</td>\n",
       "      <td>6.078927</td>\n",
       "      <td>-1.636824</td>\n",
       "      <td>3.216505</td>\n",
       "    </tr>\n",
       "    <tr>\n",
       "      <th>6</th>\n",
       "      <td>-1.244462</td>\n",
       "      <td>-1.870960</td>\n",
       "      <td>-1.414531</td>\n",
       "      <td>-4.393853</td>\n",
       "    </tr>\n",
       "    <tr>\n",
       "      <th>7</th>\n",
       "      <td>-3.318928</td>\n",
       "      <td>3.390324</td>\n",
       "      <td>-2.856890</td>\n",
       "      <td>0.071699</td>\n",
       "    </tr>\n",
       "    <tr>\n",
       "      <th>8</th>\n",
       "      <td>6.318602</td>\n",
       "      <td>6.946908</td>\n",
       "      <td>0.976067</td>\n",
       "      <td>0.719286</td>\n",
       "    </tr>\n",
       "    <tr>\n",
       "      <th>9</th>\n",
       "      <td>-0.140940</td>\n",
       "      <td>2.822410</td>\n",
       "      <td>-2.121056</td>\n",
       "      <td>11.079484</td>\n",
       "    </tr>\n",
       "  </tbody>\n",
       "</table>\n",
       "</div>"
      ],
      "text/plain": [
       "           A         B          C          D\n",
       "0  -2.509125  5.290667  13.464622  -3.850605\n",
       "1   7.275992  4.951357   5.610397   2.868015\n",
       "2   2.484725 -7.819117  -2.934419   8.801882\n",
       "3  -3.716504  7.010508  12.076401  10.641953\n",
       "4  10.199324  8.971679   7.858142  -3.711106\n",
       "5  -6.178172  6.078927  -1.636824   3.216505\n",
       "6  -1.244462 -1.870960  -1.414531  -4.393853\n",
       "7  -3.318928  3.390324  -2.856890   0.071699\n",
       "8   6.318602  6.946908   0.976067   0.719286\n",
       "9  -0.140940  2.822410  -2.121056  11.079484"
      ]
     },
     "execution_count": 55,
     "metadata": {},
     "output_type": "execute_result"
    }
   ],
   "source": [
    "df*5+2"
   ]
  },
  {
   "cell_type": "code",
   "execution_count": 56,
   "id": "5e9bd72a-faa5-4b65-9bf9-e0f7ee94f72c",
   "metadata": {},
   "outputs": [
    {
     "data": {
      "text/html": [
       "<div>\n",
       "<style scoped>\n",
       "    .dataframe tbody tr th:only-of-type {\n",
       "        vertical-align: middle;\n",
       "    }\n",
       "\n",
       "    .dataframe tbody tr th {\n",
       "        vertical-align: top;\n",
       "    }\n",
       "\n",
       "    .dataframe thead th {\n",
       "        text-align: right;\n",
       "    }\n",
       "</style>\n",
       "<table border=\"1\" class=\"dataframe\">\n",
       "  <thead>\n",
       "    <tr style=\"text-align: right;\">\n",
       "      <th></th>\n",
       "      <th>A</th>\n",
       "      <th>B</th>\n",
       "      <th>C</th>\n",
       "      <th>D</th>\n",
       "    </tr>\n",
       "  </thead>\n",
       "  <tbody>\n",
       "    <tr>\n",
       "      <th>0</th>\n",
       "      <td>-1.108862</td>\n",
       "      <td>1.519449</td>\n",
       "      <td>0.436124</td>\n",
       "      <td>-0.854612</td>\n",
       "    </tr>\n",
       "    <tr>\n",
       "      <th>1</th>\n",
       "      <td>0.947689</td>\n",
       "      <td>1.694136</td>\n",
       "      <td>1.384889</td>\n",
       "      <td>5.760267</td>\n",
       "    </tr>\n",
       "    <tr>\n",
       "      <th>2</th>\n",
       "      <td>10.315124</td>\n",
       "      <td>-0.509211</td>\n",
       "      <td>-1.013291</td>\n",
       "      <td>0.735091</td>\n",
       "    </tr>\n",
       "    <tr>\n",
       "      <th>3</th>\n",
       "      <td>-0.874660</td>\n",
       "      <td>0.997903</td>\n",
       "      <td>0.496209</td>\n",
       "      <td>0.578573</td>\n",
       "    </tr>\n",
       "    <tr>\n",
       "      <th>4</th>\n",
       "      <td>0.609806</td>\n",
       "      <td>0.717187</td>\n",
       "      <td>0.853513</td>\n",
       "      <td>-0.875487</td>\n",
       "    </tr>\n",
       "    <tr>\n",
       "      <th>5</th>\n",
       "      <td>-0.611384</td>\n",
       "      <td>1.225813</td>\n",
       "      <td>-1.374826</td>\n",
       "      <td>4.110137</td>\n",
       "    </tr>\n",
       "    <tr>\n",
       "      <th>6</th>\n",
       "      <td>-1.541088</td>\n",
       "      <td>-1.291669</td>\n",
       "      <td>-1.464330</td>\n",
       "      <td>-0.782001</td>\n",
       "    </tr>\n",
       "    <tr>\n",
       "      <th>7</th>\n",
       "      <td>-0.940039</td>\n",
       "      <td>3.596284</td>\n",
       "      <td>-1.029465</td>\n",
       "      <td>-2.592956</td>\n",
       "    </tr>\n",
       "    <tr>\n",
       "      <th>8</th>\n",
       "      <td>1.157782</td>\n",
       "      <td>1.010732</td>\n",
       "      <td>-4.883131</td>\n",
       "      <td>-3.904073</td>\n",
       "    </tr>\n",
       "    <tr>\n",
       "      <th>9</th>\n",
       "      <td>-2.335422</td>\n",
       "      <td>6.079691</td>\n",
       "      <td>-1.213281</td>\n",
       "      <td>0.550692</td>\n",
       "    </tr>\n",
       "  </tbody>\n",
       "</table>\n",
       "</div>"
      ],
      "text/plain": [
       "           A         B         C         D\n",
       "0  -1.108862  1.519449  0.436124 -0.854612\n",
       "1   0.947689  1.694136  1.384889  5.760267\n",
       "2  10.315124 -0.509211 -1.013291  0.735091\n",
       "3  -0.874660  0.997903  0.496209  0.578573\n",
       "4   0.609806  0.717187  0.853513 -0.875487\n",
       "5  -0.611384  1.225813 -1.374826  4.110137\n",
       "6  -1.541088 -1.291669 -1.464330 -0.782001\n",
       "7  -0.940039  3.596284 -1.029465 -2.592956\n",
       "8   1.157782  1.010732 -4.883131 -3.904073\n",
       "9  -2.335422  6.079691 -1.213281  0.550692"
      ]
     },
     "execution_count": 56,
     "metadata": {},
     "output_type": "execute_result"
    }
   ],
   "source": [
    "1 / df"
   ]
  },
  {
   "cell_type": "code",
   "execution_count": 57,
   "id": "749b2ddc-8b3f-439e-95da-9573a123e320",
   "metadata": {},
   "outputs": [
    {
     "data": {
      "text/html": [
       "<div>\n",
       "<style scoped>\n",
       "    .dataframe tbody tr th:only-of-type {\n",
       "        vertical-align: middle;\n",
       "    }\n",
       "\n",
       "    .dataframe tbody tr th {\n",
       "        vertical-align: top;\n",
       "    }\n",
       "\n",
       "    .dataframe thead th {\n",
       "        text-align: right;\n",
       "    }\n",
       "</style>\n",
       "<table border=\"1\" class=\"dataframe\">\n",
       "  <thead>\n",
       "    <tr style=\"text-align: right;\">\n",
       "      <th></th>\n",
       "      <th>A</th>\n",
       "      <th>B</th>\n",
       "      <th>C</th>\n",
       "      <th>D</th>\n",
       "    </tr>\n",
       "  </thead>\n",
       "  <tbody>\n",
       "    <tr>\n",
       "      <th>0</th>\n",
       "      <td>0.661438</td>\n",
       "      <td>0.187610</td>\n",
       "      <td>27.641335</td>\n",
       "      <td>1.874662</td>\n",
       "    </tr>\n",
       "    <tr>\n",
       "      <th>1</th>\n",
       "      <td>1.239756</td>\n",
       "      <td>0.121397</td>\n",
       "      <td>0.271856</td>\n",
       "      <td>0.000908</td>\n",
       "    </tr>\n",
       "    <tr>\n",
       "      <th>2</th>\n",
       "      <td>0.000088</td>\n",
       "      <td>14.873381</td>\n",
       "      <td>0.948558</td>\n",
       "      <td>3.424809</td>\n",
       "    </tr>\n",
       "    <tr>\n",
       "      <th>3</th>\n",
       "      <td>1.708606</td>\n",
       "      <td>1.008433</td>\n",
       "      <td>16.494600</td>\n",
       "      <td>8.924163</td>\n",
       "    </tr>\n",
       "    <tr>\n",
       "      <th>4</th>\n",
       "      <td>7.231564</td>\n",
       "      <td>3.779807</td>\n",
       "      <td>1.884342</td>\n",
       "      <td>1.702162</td>\n",
       "    </tr>\n",
       "    <tr>\n",
       "      <th>5</th>\n",
       "      <td>7.157231</td>\n",
       "      <td>0.442898</td>\n",
       "      <td>0.279904</td>\n",
       "      <td>0.003504</td>\n",
       "    </tr>\n",
       "    <tr>\n",
       "      <th>6</th>\n",
       "      <td>0.177293</td>\n",
       "      <td>0.359248</td>\n",
       "      <td>0.217493</td>\n",
       "      <td>2.674056</td>\n",
       "    </tr>\n",
       "    <tr>\n",
       "      <th>7</th>\n",
       "      <td>1.280609</td>\n",
       "      <td>0.005978</td>\n",
       "      <td>0.890334</td>\n",
       "      <td>0.022122</td>\n",
       "    </tr>\n",
       "    <tr>\n",
       "      <th>8</th>\n",
       "      <td>0.556535</td>\n",
       "      <td>0.958198</td>\n",
       "      <td>0.001759</td>\n",
       "      <td>0.004305</td>\n",
       "    </tr>\n",
       "    <tr>\n",
       "      <th>9</th>\n",
       "      <td>0.033615</td>\n",
       "      <td>0.000732</td>\n",
       "      <td>0.461481</td>\n",
       "      <td>10.873384</td>\n",
       "    </tr>\n",
       "  </tbody>\n",
       "</table>\n",
       "</div>"
      ],
      "text/plain": [
       "          A          B          C          D\n",
       "0  0.661438   0.187610  27.641335   1.874662\n",
       "1  1.239756   0.121397   0.271856   0.000908\n",
       "2  0.000088  14.873381   0.948558   3.424809\n",
       "3  1.708606   1.008433  16.494600   8.924163\n",
       "4  7.231564   3.779807   1.884342   1.702162\n",
       "5  7.157231   0.442898   0.279904   0.003504\n",
       "6  0.177293   0.359248   0.217493   2.674056\n",
       "7  1.280609   0.005978   0.890334   0.022122\n",
       "8  0.556535   0.958198   0.001759   0.004305\n",
       "9  0.033615   0.000732   0.461481  10.873384"
      ]
     },
     "execution_count": 57,
     "metadata": {},
     "output_type": "execute_result"
    }
   ],
   "source": [
    "df **4"
   ]
  },
  {
   "cell_type": "markdown",
   "id": "6873c8ff-b481-4406-ab8a-ff3210a0eda1",
   "metadata": {},
   "source": [
    "Boolean operators work as well:"
   ]
  },
  {
   "cell_type": "code",
   "execution_count": 58,
   "id": "78877b5d-ba96-495e-ae0f-b6f3373d3eb2",
   "metadata": {},
   "outputs": [
    {
     "data": {
      "text/html": [
       "<div>\n",
       "<style scoped>\n",
       "    .dataframe tbody tr th:only-of-type {\n",
       "        vertical-align: middle;\n",
       "    }\n",
       "\n",
       "    .dataframe tbody tr th {\n",
       "        vertical-align: top;\n",
       "    }\n",
       "\n",
       "    .dataframe thead th {\n",
       "        text-align: right;\n",
       "    }\n",
       "</style>\n",
       "<table border=\"1\" class=\"dataframe\">\n",
       "  <thead>\n",
       "    <tr style=\"text-align: right;\">\n",
       "      <th></th>\n",
       "      <th>a</th>\n",
       "      <th>b</th>\n",
       "    </tr>\n",
       "  </thead>\n",
       "  <tbody>\n",
       "    <tr>\n",
       "      <th>0</th>\n",
       "      <td>False</td>\n",
       "      <td>True</td>\n",
       "    </tr>\n",
       "    <tr>\n",
       "      <th>1</th>\n",
       "      <td>True</td>\n",
       "      <td>True</td>\n",
       "    </tr>\n",
       "    <tr>\n",
       "      <th>2</th>\n",
       "      <td>True</td>\n",
       "      <td>False</td>\n",
       "    </tr>\n",
       "  </tbody>\n",
       "</table>\n",
       "</div>"
      ],
      "text/plain": [
       "       a      b\n",
       "0  False   True\n",
       "1   True   True\n",
       "2   True  False"
      ]
     },
     "execution_count": 58,
     "metadata": {},
     "output_type": "execute_result"
    }
   ],
   "source": [
    "df1 = pd.DataFrame({'a' : [1, 0, 1], 'b' : [0, 1, 1] }, dtype=bool)\n",
    "df2 = pd.DataFrame({'a' : [0, 1, 1], 'b' : [1, 1, 0] }, dtype=bool)\n",
    "pd.DataFrame({'a' : [0, 1, 1], 'b' : [1, 1, 0] }, dtype=bool)\n"
   ]
  },
  {
   "cell_type": "code",
   "execution_count": 59,
   "id": "6f268af7-f7c9-4e2c-91d1-c0fef6626c20",
   "metadata": {},
   "outputs": [
    {
     "data": {
      "text/html": [
       "<div>\n",
       "<style scoped>\n",
       "    .dataframe tbody tr th:only-of-type {\n",
       "        vertical-align: middle;\n",
       "    }\n",
       "\n",
       "    .dataframe tbody tr th {\n",
       "        vertical-align: top;\n",
       "    }\n",
       "\n",
       "    .dataframe thead th {\n",
       "        text-align: right;\n",
       "    }\n",
       "</style>\n",
       "<table border=\"1\" class=\"dataframe\">\n",
       "  <thead>\n",
       "    <tr style=\"text-align: right;\">\n",
       "      <th></th>\n",
       "      <th>a</th>\n",
       "      <th>b</th>\n",
       "    </tr>\n",
       "  </thead>\n",
       "  <tbody>\n",
       "    <tr>\n",
       "      <th>0</th>\n",
       "      <td>False</td>\n",
       "      <td>False</td>\n",
       "    </tr>\n",
       "    <tr>\n",
       "      <th>1</th>\n",
       "      <td>False</td>\n",
       "      <td>True</td>\n",
       "    </tr>\n",
       "    <tr>\n",
       "      <th>2</th>\n",
       "      <td>True</td>\n",
       "      <td>False</td>\n",
       "    </tr>\n",
       "  </tbody>\n",
       "</table>\n",
       "</div>"
      ],
      "text/plain": [
       "       a      b\n",
       "0  False  False\n",
       "1  False   True\n",
       "2   True  False"
      ]
     },
     "execution_count": 59,
     "metadata": {},
     "output_type": "execute_result"
    }
   ],
   "source": [
    "df1 & df2 #and logical operator\n"
   ]
  },
  {
   "cell_type": "code",
   "execution_count": 60,
   "id": "70e0cfb9-1c68-458a-be0a-dbbe58552f22",
   "metadata": {},
   "outputs": [
    {
     "data": {
      "text/html": [
       "<div>\n",
       "<style scoped>\n",
       "    .dataframe tbody tr th:only-of-type {\n",
       "        vertical-align: middle;\n",
       "    }\n",
       "\n",
       "    .dataframe tbody tr th {\n",
       "        vertical-align: top;\n",
       "    }\n",
       "\n",
       "    .dataframe thead th {\n",
       "        text-align: right;\n",
       "    }\n",
       "</style>\n",
       "<table border=\"1\" class=\"dataframe\">\n",
       "  <thead>\n",
       "    <tr style=\"text-align: right;\">\n",
       "      <th></th>\n",
       "      <th>a</th>\n",
       "      <th>b</th>\n",
       "    </tr>\n",
       "  </thead>\n",
       "  <tbody>\n",
       "    <tr>\n",
       "      <th>0</th>\n",
       "      <td>True</td>\n",
       "      <td>True</td>\n",
       "    </tr>\n",
       "    <tr>\n",
       "      <th>1</th>\n",
       "      <td>True</td>\n",
       "      <td>True</td>\n",
       "    </tr>\n",
       "    <tr>\n",
       "      <th>2</th>\n",
       "      <td>True</td>\n",
       "      <td>True</td>\n",
       "    </tr>\n",
       "  </tbody>\n",
       "</table>\n",
       "</div>"
      ],
      "text/plain": [
       "      a     b\n",
       "0  True  True\n",
       "1  True  True\n",
       "2  True  True"
      ]
     },
     "execution_count": 60,
     "metadata": {},
     "output_type": "execute_result"
    }
   ],
   "source": [
    "df1 | df2 # or operator"
   ]
  },
  {
   "cell_type": "code",
   "execution_count": 61,
   "id": "daf3b49e-2f7a-4be1-be2c-4fcd24ff8ad0",
   "metadata": {},
   "outputs": [
    {
     "data": {
      "text/html": [
       "<div>\n",
       "<style scoped>\n",
       "    .dataframe tbody tr th:only-of-type {\n",
       "        vertical-align: middle;\n",
       "    }\n",
       "\n",
       "    .dataframe tbody tr th {\n",
       "        vertical-align: top;\n",
       "    }\n",
       "\n",
       "    .dataframe thead th {\n",
       "        text-align: right;\n",
       "    }\n",
       "</style>\n",
       "<table border=\"1\" class=\"dataframe\">\n",
       "  <thead>\n",
       "    <tr style=\"text-align: right;\">\n",
       "      <th></th>\n",
       "      <th>a</th>\n",
       "      <th>b</th>\n",
       "    </tr>\n",
       "  </thead>\n",
       "  <tbody>\n",
       "    <tr>\n",
       "      <th>0</th>\n",
       "      <td>False</td>\n",
       "      <td>True</td>\n",
       "    </tr>\n",
       "    <tr>\n",
       "      <th>1</th>\n",
       "      <td>True</td>\n",
       "      <td>False</td>\n",
       "    </tr>\n",
       "    <tr>\n",
       "      <th>2</th>\n",
       "      <td>False</td>\n",
       "      <td>False</td>\n",
       "    </tr>\n",
       "  </tbody>\n",
       "</table>\n",
       "</div>"
      ],
      "text/plain": [
       "       a      b\n",
       "0  False   True\n",
       "1   True  False\n",
       "2  False  False"
      ]
     },
     "execution_count": 61,
     "metadata": {},
     "output_type": "execute_result"
    }
   ],
   "source": [
    "-df1\n"
   ]
  },
  {
   "cell_type": "markdown",
   "id": "af43a6d1-6a00-48bf-85c3-8cea235ad9f5",
   "metadata": {},
   "source": [
    "**Transposing**:\n",
    "* To transpose, access the T attribute (also the transpose function), similar to an ndarray"
   ]
  },
  {
   "cell_type": "code",
   "execution_count": 63,
   "id": "e67cdb95-83f5-44cc-911c-5d1470b4307f",
   "metadata": {},
   "outputs": [
    {
     "data": {
      "text/html": [
       "<div>\n",
       "<style scoped>\n",
       "    .dataframe tbody tr th:only-of-type {\n",
       "        vertical-align: middle;\n",
       "    }\n",
       "\n",
       "    .dataframe tbody tr th {\n",
       "        vertical-align: top;\n",
       "    }\n",
       "\n",
       "    .dataframe thead th {\n",
       "        text-align: right;\n",
       "    }\n",
       "</style>\n",
       "<table border=\"1\" class=\"dataframe\">\n",
       "  <thead>\n",
       "    <tr style=\"text-align: right;\">\n",
       "      <th></th>\n",
       "      <th>0</th>\n",
       "      <th>1</th>\n",
       "      <th>2</th>\n",
       "      <th>3</th>\n",
       "      <th>4</th>\n",
       "    </tr>\n",
       "  </thead>\n",
       "  <tbody>\n",
       "    <tr>\n",
       "      <th>A</th>\n",
       "      <td>-0.901825</td>\n",
       "      <td>1.055198</td>\n",
       "      <td>0.096945</td>\n",
       "      <td>-1.143301</td>\n",
       "      <td>1.639865</td>\n",
       "    </tr>\n",
       "    <tr>\n",
       "      <th>B</th>\n",
       "      <td>0.658133</td>\n",
       "      <td>0.590271</td>\n",
       "      <td>-1.963823</td>\n",
       "      <td>1.002102</td>\n",
       "      <td>1.394336</td>\n",
       "    </tr>\n",
       "    <tr>\n",
       "      <th>C</th>\n",
       "      <td>2.292924</td>\n",
       "      <td>0.722079</td>\n",
       "      <td>-0.986884</td>\n",
       "      <td>2.015280</td>\n",
       "      <td>1.171628</td>\n",
       "    </tr>\n",
       "    <tr>\n",
       "      <th>D</th>\n",
       "      <td>-1.170121</td>\n",
       "      <td>0.173603</td>\n",
       "      <td>1.360376</td>\n",
       "      <td>1.728391</td>\n",
       "      <td>-1.142221</td>\n",
       "    </tr>\n",
       "  </tbody>\n",
       "</table>\n",
       "</div>"
      ],
      "text/plain": [
       "          0         1         2         3         4\n",
       "A -0.901825  1.055198  0.096945 -1.143301  1.639865\n",
       "B  0.658133  0.590271 -1.963823  1.002102  1.394336\n",
       "C  2.292924  0.722079 -0.986884  2.015280  1.171628\n",
       "D -1.170121  0.173603  1.360376  1.728391 -1.142221"
      ]
     },
     "execution_count": 63,
     "metadata": {},
     "output_type": "execute_result"
    }
   ],
   "source": [
    "# only show the first 5 rows\n",
    "df[:5].T\n"
   ]
  },
  {
   "cell_type": "markdown",
   "id": "f68a810e-0d38-40ab-906a-5cb0b1629692",
   "metadata": {},
   "source": [
    "Creating a DataFrame by passing a numpy array, with a datetime index and labeled columns:"
   ]
  },
  {
   "cell_type": "code",
   "execution_count": 65,
   "id": "ee9fe8b4-66be-4df1-b3a4-efe623887901",
   "metadata": {},
   "outputs": [
    {
     "data": {
      "text/plain": [
       "DatetimeIndex(['2013-01-01', '2013-01-02', '2013-01-03', '2013-01-04',\n",
       "               '2013-01-05', '2013-01-06'],\n",
       "              dtype='datetime64[ns]', freq='D')"
      ]
     },
     "execution_count": 65,
     "metadata": {},
     "output_type": "execute_result"
    }
   ],
   "source": [
    "dates = pd.date_range('20130101', periods=6)\n",
    "dates\n"
   ]
  },
  {
   "cell_type": "code",
   "execution_count": 67,
   "id": "e3982d6f-adcd-403f-9fbb-2401b3ab925b",
   "metadata": {},
   "outputs": [
    {
     "data": {
      "text/html": [
       "<div>\n",
       "<style scoped>\n",
       "    .dataframe tbody tr th:only-of-type {\n",
       "        vertical-align: middle;\n",
       "    }\n",
       "\n",
       "    .dataframe tbody tr th {\n",
       "        vertical-align: top;\n",
       "    }\n",
       "\n",
       "    .dataframe thead th {\n",
       "        text-align: right;\n",
       "    }\n",
       "</style>\n",
       "<table border=\"1\" class=\"dataframe\">\n",
       "  <thead>\n",
       "    <tr style=\"text-align: right;\">\n",
       "      <th></th>\n",
       "      <th>A</th>\n",
       "      <th>B</th>\n",
       "      <th>C</th>\n",
       "      <th>D</th>\n",
       "    </tr>\n",
       "  </thead>\n",
       "  <tbody>\n",
       "    <tr>\n",
       "      <th>2013-01-01</th>\n",
       "      <td>-0.488203</td>\n",
       "      <td>-0.848622</td>\n",
       "      <td>-0.668648</td>\n",
       "      <td>-0.475333</td>\n",
       "    </tr>\n",
       "    <tr>\n",
       "      <th>2013-01-02</th>\n",
       "      <td>-0.726290</td>\n",
       "      <td>-0.115516</td>\n",
       "      <td>1.716154</td>\n",
       "      <td>-0.503761</td>\n",
       "    </tr>\n",
       "    <tr>\n",
       "      <th>2013-01-03</th>\n",
       "      <td>1.786169</td>\n",
       "      <td>-1.615903</td>\n",
       "      <td>0.846360</td>\n",
       "      <td>1.299178</td>\n",
       "    </tr>\n",
       "    <tr>\n",
       "      <th>2013-01-04</th>\n",
       "      <td>-0.677843</td>\n",
       "      <td>-0.398273</td>\n",
       "      <td>-0.535052</td>\n",
       "      <td>0.759092</td>\n",
       "    </tr>\n",
       "    <tr>\n",
       "      <th>2013-01-05</th>\n",
       "      <td>0.121276</td>\n",
       "      <td>-0.345433</td>\n",
       "      <td>-0.458100</td>\n",
       "      <td>0.734903</td>\n",
       "    </tr>\n",
       "    <tr>\n",
       "      <th>2013-01-06</th>\n",
       "      <td>-1.268046</td>\n",
       "      <td>0.155471</td>\n",
       "      <td>0.094142</td>\n",
       "      <td>-1.465262</td>\n",
       "    </tr>\n",
       "  </tbody>\n",
       "</table>\n",
       "</div>"
      ],
      "text/plain": [
       "                   A         B         C         D\n",
       "2013-01-01 -0.488203 -0.848622 -0.668648 -0.475333\n",
       "2013-01-02 -0.726290 -0.115516  1.716154 -0.503761\n",
       "2013-01-03  1.786169 -1.615903  0.846360  1.299178\n",
       "2013-01-04 -0.677843 -0.398273 -0.535052  0.759092\n",
       "2013-01-05  0.121276 -0.345433 -0.458100  0.734903\n",
       "2013-01-06 -1.268046  0.155471  0.094142 -1.465262"
      ]
     },
     "execution_count": 67,
     "metadata": {},
     "output_type": "execute_result"
    }
   ],
   "source": [
    "df = pd.DataFrame(np.random.randn(6,4), index=dates, columns=list('ABCD'))\n",
    "df"
   ]
  },
  {
   "cell_type": "markdown",
   "id": "363881af-567b-419d-a59c-64fb38e9a21d",
   "metadata": {},
   "source": [
    "Creating a DataFrame by passing a dict of objects that can be converted to series-like."
   ]
  },
  {
   "cell_type": "code",
   "execution_count": 70,
   "id": "cba243c9-a2a4-4b0b-bce9-0dd42f46a30d",
   "metadata": {},
   "outputs": [
    {
     "data": {
      "text/html": [
       "<div>\n",
       "<style scoped>\n",
       "    .dataframe tbody tr th:only-of-type {\n",
       "        vertical-align: middle;\n",
       "    }\n",
       "\n",
       "    .dataframe tbody tr th {\n",
       "        vertical-align: top;\n",
       "    }\n",
       "\n",
       "    .dataframe thead th {\n",
       "        text-align: right;\n",
       "    }\n",
       "</style>\n",
       "<table border=\"1\" class=\"dataframe\">\n",
       "  <thead>\n",
       "    <tr style=\"text-align: right;\">\n",
       "      <th></th>\n",
       "      <th>A</th>\n",
       "      <th>B</th>\n",
       "      <th>C</th>\n",
       "      <th>D</th>\n",
       "      <th>E</th>\n",
       "      <th>F</th>\n",
       "    </tr>\n",
       "  </thead>\n",
       "  <tbody>\n",
       "    <tr>\n",
       "      <th>0</th>\n",
       "      <td>1.0</td>\n",
       "      <td>2013-01-02</td>\n",
       "      <td>1.0</td>\n",
       "      <td>3</td>\n",
       "      <td>test</td>\n",
       "      <td>foo</td>\n",
       "    </tr>\n",
       "    <tr>\n",
       "      <th>1</th>\n",
       "      <td>1.0</td>\n",
       "      <td>2013-01-02</td>\n",
       "      <td>1.0</td>\n",
       "      <td>3</td>\n",
       "      <td>train</td>\n",
       "      <td>foo</td>\n",
       "    </tr>\n",
       "    <tr>\n",
       "      <th>2</th>\n",
       "      <td>1.0</td>\n",
       "      <td>2013-01-02</td>\n",
       "      <td>1.0</td>\n",
       "      <td>3</td>\n",
       "      <td>test</td>\n",
       "      <td>foo</td>\n",
       "    </tr>\n",
       "    <tr>\n",
       "      <th>3</th>\n",
       "      <td>1.0</td>\n",
       "      <td>2013-01-02</td>\n",
       "      <td>1.0</td>\n",
       "      <td>3</td>\n",
       "      <td>train</td>\n",
       "      <td>foo</td>\n",
       "    </tr>\n",
       "  </tbody>\n",
       "</table>\n",
       "</div>"
      ],
      "text/plain": [
       "     A          B    C  D      E    F\n",
       "0  1.0 2013-01-02  1.0  3   test  foo\n",
       "1  1.0 2013-01-02  1.0  3  train  foo\n",
       "2  1.0 2013-01-02  1.0  3   test  foo\n",
       "3  1.0 2013-01-02  1.0  3  train  foo"
      ]
     },
     "execution_count": 70,
     "metadata": {},
     "output_type": "execute_result"
    }
   ],
   "source": [
    "df2 = pd.DataFrame({ 'A' : 1.,\n",
    "'B' : pd.Timestamp('20130102'),\n",
    "'C' : pd.Series(1,index=list(range(4)),dtype='float32'),\n",
    "'D' : np.array([3] * 4,dtype='int32'),\n",
    "'E' : pd.Categorical([\"test\",\"train\",\"test\",\"train\"]),\n",
    "'F' : 'foo' })\n",
    "df2\n"
   ]
  },
  {
   "cell_type": "code",
   "execution_count": 72,
   "id": "88c8e0e3-65d2-4bf6-9ea1-fb1dd784fa0e",
   "metadata": {},
   "outputs": [
    {
     "data": {
      "text/plain": [
       "A          float64\n",
       "B    datetime64[s]\n",
       "C          float32\n",
       "D            int32\n",
       "E         category\n",
       "F           object\n",
       "dtype: object"
      ]
     },
     "execution_count": 72,
     "metadata": {},
     "output_type": "execute_result"
    }
   ],
   "source": [
    "#Having specific dtypes \n",
    "df2.dtypes\n"
   ]
  },
  {
   "cell_type": "markdown",
   "id": "14bf0caa-ba54-468b-b969-8af3838aa02c",
   "metadata": {},
   "source": [
    "# **12. Viewing Data**:"
   ]
  },
  {
   "cell_type": "code",
   "execution_count": 73,
   "id": "ea831457-7b2c-488c-b704-2a928c250182",
   "metadata": {},
   "outputs": [
    {
     "data": {
      "text/html": [
       "<div>\n",
       "<style scoped>\n",
       "    .dataframe tbody tr th:only-of-type {\n",
       "        vertical-align: middle;\n",
       "    }\n",
       "\n",
       "    .dataframe tbody tr th {\n",
       "        vertical-align: top;\n",
       "    }\n",
       "\n",
       "    .dataframe thead th {\n",
       "        text-align: right;\n",
       "    }\n",
       "</style>\n",
       "<table border=\"1\" class=\"dataframe\">\n",
       "  <thead>\n",
       "    <tr style=\"text-align: right;\">\n",
       "      <th></th>\n",
       "      <th>A</th>\n",
       "      <th>B</th>\n",
       "      <th>C</th>\n",
       "      <th>D</th>\n",
       "    </tr>\n",
       "  </thead>\n",
       "  <tbody>\n",
       "    <tr>\n",
       "      <th>2013-01-01</th>\n",
       "      <td>-0.488203</td>\n",
       "      <td>-0.848622</td>\n",
       "      <td>-0.668648</td>\n",
       "      <td>-0.475333</td>\n",
       "    </tr>\n",
       "    <tr>\n",
       "      <th>2013-01-02</th>\n",
       "      <td>-0.726290</td>\n",
       "      <td>-0.115516</td>\n",
       "      <td>1.716154</td>\n",
       "      <td>-0.503761</td>\n",
       "    </tr>\n",
       "    <tr>\n",
       "      <th>2013-01-03</th>\n",
       "      <td>1.786169</td>\n",
       "      <td>-1.615903</td>\n",
       "      <td>0.846360</td>\n",
       "      <td>1.299178</td>\n",
       "    </tr>\n",
       "    <tr>\n",
       "      <th>2013-01-04</th>\n",
       "      <td>-0.677843</td>\n",
       "      <td>-0.398273</td>\n",
       "      <td>-0.535052</td>\n",
       "      <td>0.759092</td>\n",
       "    </tr>\n",
       "    <tr>\n",
       "      <th>2013-01-05</th>\n",
       "      <td>0.121276</td>\n",
       "      <td>-0.345433</td>\n",
       "      <td>-0.458100</td>\n",
       "      <td>0.734903</td>\n",
       "    </tr>\n",
       "  </tbody>\n",
       "</table>\n",
       "</div>"
      ],
      "text/plain": [
       "                   A         B         C         D\n",
       "2013-01-01 -0.488203 -0.848622 -0.668648 -0.475333\n",
       "2013-01-02 -0.726290 -0.115516  1.716154 -0.503761\n",
       "2013-01-03  1.786169 -1.615903  0.846360  1.299178\n",
       "2013-01-04 -0.677843 -0.398273 -0.535052  0.759092\n",
       "2013-01-05  0.121276 -0.345433 -0.458100  0.734903"
      ]
     },
     "execution_count": 73,
     "metadata": {},
     "output_type": "execute_result"
    }
   ],
   "source": [
    "df.head() #display first 5 records"
   ]
  },
  {
   "cell_type": "code",
   "execution_count": 74,
   "id": "19b953a1-4c70-40e2-a2df-0eea02ca3d3c",
   "metadata": {},
   "outputs": [
    {
     "data": {
      "text/html": [
       "<div>\n",
       "<style scoped>\n",
       "    .dataframe tbody tr th:only-of-type {\n",
       "        vertical-align: middle;\n",
       "    }\n",
       "\n",
       "    .dataframe tbody tr th {\n",
       "        vertical-align: top;\n",
       "    }\n",
       "\n",
       "    .dataframe thead th {\n",
       "        text-align: right;\n",
       "    }\n",
       "</style>\n",
       "<table border=\"1\" class=\"dataframe\">\n",
       "  <thead>\n",
       "    <tr style=\"text-align: right;\">\n",
       "      <th></th>\n",
       "      <th>A</th>\n",
       "      <th>B</th>\n",
       "      <th>C</th>\n",
       "      <th>D</th>\n",
       "    </tr>\n",
       "  </thead>\n",
       "  <tbody>\n",
       "    <tr>\n",
       "      <th>2013-01-04</th>\n",
       "      <td>-0.677843</td>\n",
       "      <td>-0.398273</td>\n",
       "      <td>-0.535052</td>\n",
       "      <td>0.759092</td>\n",
       "    </tr>\n",
       "    <tr>\n",
       "      <th>2013-01-05</th>\n",
       "      <td>0.121276</td>\n",
       "      <td>-0.345433</td>\n",
       "      <td>-0.458100</td>\n",
       "      <td>0.734903</td>\n",
       "    </tr>\n",
       "    <tr>\n",
       "      <th>2013-01-06</th>\n",
       "      <td>-1.268046</td>\n",
       "      <td>0.155471</td>\n",
       "      <td>0.094142</td>\n",
       "      <td>-1.465262</td>\n",
       "    </tr>\n",
       "  </tbody>\n",
       "</table>\n",
       "</div>"
      ],
      "text/plain": [
       "                   A         B         C         D\n",
       "2013-01-04 -0.677843 -0.398273 -0.535052  0.759092\n",
       "2013-01-05  0.121276 -0.345433 -0.458100  0.734903\n",
       "2013-01-06 -1.268046  0.155471  0.094142 -1.465262"
      ]
     },
     "execution_count": 74,
     "metadata": {},
     "output_type": "execute_result"
    }
   ],
   "source": [
    "df.tail(3) #display last 3 records\n"
   ]
  },
  {
   "cell_type": "code",
   "execution_count": 75,
   "id": "9c411832-b58f-47af-99cb-762d64eb847c",
   "metadata": {},
   "outputs": [
    {
     "data": {
      "text/plain": [
       "DatetimeIndex(['2013-01-01', '2013-01-02', '2013-01-03', '2013-01-04',\n",
       "               '2013-01-05', '2013-01-06'],\n",
       "              dtype='datetime64[ns]', freq='D')"
      ]
     },
     "execution_count": 75,
     "metadata": {},
     "output_type": "execute_result"
    }
   ],
   "source": [
    "df.index #display indexes"
   ]
  },
  {
   "cell_type": "code",
   "execution_count": 76,
   "id": "3f859a88-b773-43a3-9377-d6d03433e8bc",
   "metadata": {},
   "outputs": [
    {
     "data": {
      "text/plain": [
       "Index(['A', 'B', 'C', 'D'], dtype='object')"
      ]
     },
     "execution_count": 76,
     "metadata": {},
     "output_type": "execute_result"
    }
   ],
   "source": [
    "df.columns #display coloumns"
   ]
  },
  {
   "cell_type": "code",
   "execution_count": 77,
   "id": "8ac0f175-7d3e-4183-8498-b5b4f7d30b1c",
   "metadata": {},
   "outputs": [
    {
     "data": {
      "text/plain": [
       "array([[-0.48820281, -0.84862182, -0.66864838, -0.47533273],\n",
       "       [-0.72629045, -0.11551579,  1.71615396, -0.50376076],\n",
       "       [ 1.78616877, -1.61590286,  0.84636043,  1.29917821],\n",
       "       [-0.6778432 , -0.39827341, -0.53505172,  0.75909234],\n",
       "       [ 0.12127612, -0.3454327 , -0.45810036,  0.73490333],\n",
       "       [-1.26804558,  0.15547055,  0.09414161, -1.46526189]])"
      ]
     },
     "execution_count": 77,
     "metadata": {},
     "output_type": "execute_result"
    }
   ],
   "source": [
    "df.values # print values"
   ]
  },
  {
   "cell_type": "code",
   "execution_count": 78,
   "id": "e85af9a4-a851-495f-93b4-1447cba3bdff",
   "metadata": {},
   "outputs": [
    {
     "data": {
      "text/html": [
       "<div>\n",
       "<style scoped>\n",
       "    .dataframe tbody tr th:only-of-type {\n",
       "        vertical-align: middle;\n",
       "    }\n",
       "\n",
       "    .dataframe tbody tr th {\n",
       "        vertical-align: top;\n",
       "    }\n",
       "\n",
       "    .dataframe thead th {\n",
       "        text-align: right;\n",
       "    }\n",
       "</style>\n",
       "<table border=\"1\" class=\"dataframe\">\n",
       "  <thead>\n",
       "    <tr style=\"text-align: right;\">\n",
       "      <th></th>\n",
       "      <th>2013-01-01</th>\n",
       "      <th>2013-01-02</th>\n",
       "      <th>2013-01-03</th>\n",
       "      <th>2013-01-04</th>\n",
       "      <th>2013-01-05</th>\n",
       "      <th>2013-01-06</th>\n",
       "    </tr>\n",
       "  </thead>\n",
       "  <tbody>\n",
       "    <tr>\n",
       "      <th>A</th>\n",
       "      <td>-0.488203</td>\n",
       "      <td>-0.726290</td>\n",
       "      <td>1.786169</td>\n",
       "      <td>-0.677843</td>\n",
       "      <td>0.121276</td>\n",
       "      <td>-1.268046</td>\n",
       "    </tr>\n",
       "    <tr>\n",
       "      <th>B</th>\n",
       "      <td>-0.848622</td>\n",
       "      <td>-0.115516</td>\n",
       "      <td>-1.615903</td>\n",
       "      <td>-0.398273</td>\n",
       "      <td>-0.345433</td>\n",
       "      <td>0.155471</td>\n",
       "    </tr>\n",
       "    <tr>\n",
       "      <th>C</th>\n",
       "      <td>-0.668648</td>\n",
       "      <td>1.716154</td>\n",
       "      <td>0.846360</td>\n",
       "      <td>-0.535052</td>\n",
       "      <td>-0.458100</td>\n",
       "      <td>0.094142</td>\n",
       "    </tr>\n",
       "    <tr>\n",
       "      <th>D</th>\n",
       "      <td>-0.475333</td>\n",
       "      <td>-0.503761</td>\n",
       "      <td>1.299178</td>\n",
       "      <td>0.759092</td>\n",
       "      <td>0.734903</td>\n",
       "      <td>-1.465262</td>\n",
       "    </tr>\n",
       "  </tbody>\n",
       "</table>\n",
       "</div>"
      ],
      "text/plain": [
       "   2013-01-01  2013-01-02  2013-01-03  2013-01-04  2013-01-05  2013-01-06\n",
       "A   -0.488203   -0.726290    1.786169   -0.677843    0.121276   -1.268046\n",
       "B   -0.848622   -0.115516   -1.615903   -0.398273   -0.345433    0.155471\n",
       "C   -0.668648    1.716154    0.846360   -0.535052   -0.458100    0.094142\n",
       "D   -0.475333   -0.503761    1.299178    0.759092    0.734903   -1.465262"
      ]
     },
     "execution_count": 78,
     "metadata": {},
     "output_type": "execute_result"
    }
   ],
   "source": [
    "# Transposing your data\n",
    "df.T"
   ]
  },
  {
   "cell_type": "code",
   "execution_count": 79,
   "id": "6bfd3458-7830-4ccc-bf8a-e04613ef854b",
   "metadata": {},
   "outputs": [
    {
     "data": {
      "text/html": [
       "<div>\n",
       "<style scoped>\n",
       "    .dataframe tbody tr th:only-of-type {\n",
       "        vertical-align: middle;\n",
       "    }\n",
       "\n",
       "    .dataframe tbody tr th {\n",
       "        vertical-align: top;\n",
       "    }\n",
       "\n",
       "    .dataframe thead th {\n",
       "        text-align: right;\n",
       "    }\n",
       "</style>\n",
       "<table border=\"1\" class=\"dataframe\">\n",
       "  <thead>\n",
       "    <tr style=\"text-align: right;\">\n",
       "      <th></th>\n",
       "      <th>D</th>\n",
       "      <th>C</th>\n",
       "      <th>B</th>\n",
       "      <th>A</th>\n",
       "    </tr>\n",
       "  </thead>\n",
       "  <tbody>\n",
       "    <tr>\n",
       "      <th>2013-01-01</th>\n",
       "      <td>-0.475333</td>\n",
       "      <td>-0.668648</td>\n",
       "      <td>-0.848622</td>\n",
       "      <td>-0.488203</td>\n",
       "    </tr>\n",
       "    <tr>\n",
       "      <th>2013-01-02</th>\n",
       "      <td>-0.503761</td>\n",
       "      <td>1.716154</td>\n",
       "      <td>-0.115516</td>\n",
       "      <td>-0.726290</td>\n",
       "    </tr>\n",
       "    <tr>\n",
       "      <th>2013-01-03</th>\n",
       "      <td>1.299178</td>\n",
       "      <td>0.846360</td>\n",
       "      <td>-1.615903</td>\n",
       "      <td>1.786169</td>\n",
       "    </tr>\n",
       "    <tr>\n",
       "      <th>2013-01-04</th>\n",
       "      <td>0.759092</td>\n",
       "      <td>-0.535052</td>\n",
       "      <td>-0.398273</td>\n",
       "      <td>-0.677843</td>\n",
       "    </tr>\n",
       "    <tr>\n",
       "      <th>2013-01-05</th>\n",
       "      <td>0.734903</td>\n",
       "      <td>-0.458100</td>\n",
       "      <td>-0.345433</td>\n",
       "      <td>0.121276</td>\n",
       "    </tr>\n",
       "    <tr>\n",
       "      <th>2013-01-06</th>\n",
       "      <td>-1.465262</td>\n",
       "      <td>0.094142</td>\n",
       "      <td>0.155471</td>\n",
       "      <td>-1.268046</td>\n",
       "    </tr>\n",
       "  </tbody>\n",
       "</table>\n",
       "</div>"
      ],
      "text/plain": [
       "                   D         C         B         A\n",
       "2013-01-01 -0.475333 -0.668648 -0.848622 -0.488203\n",
       "2013-01-02 -0.503761  1.716154 -0.115516 -0.726290\n",
       "2013-01-03  1.299178  0.846360 -1.615903  1.786169\n",
       "2013-01-04  0.759092 -0.535052 -0.398273 -0.677843\n",
       "2013-01-05  0.734903 -0.458100 -0.345433  0.121276\n",
       "2013-01-06 -1.465262  0.094142  0.155471 -1.268046"
      ]
     },
     "execution_count": 79,
     "metadata": {},
     "output_type": "execute_result"
    }
   ],
   "source": [
    "#Sorting by an axis\n",
    "df.sort_index(axis=1, ascending=False)"
   ]
  },
  {
   "cell_type": "code",
   "execution_count": 80,
   "id": "47b70407-6153-485f-8acb-0aae4a88a91f",
   "metadata": {},
   "outputs": [
    {
     "data": {
      "text/html": [
       "<div>\n",
       "<style scoped>\n",
       "    .dataframe tbody tr th:only-of-type {\n",
       "        vertical-align: middle;\n",
       "    }\n",
       "\n",
       "    .dataframe tbody tr th {\n",
       "        vertical-align: top;\n",
       "    }\n",
       "\n",
       "    .dataframe thead th {\n",
       "        text-align: right;\n",
       "    }\n",
       "</style>\n",
       "<table border=\"1\" class=\"dataframe\">\n",
       "  <thead>\n",
       "    <tr style=\"text-align: right;\">\n",
       "      <th></th>\n",
       "      <th>A</th>\n",
       "      <th>B</th>\n",
       "      <th>C</th>\n",
       "      <th>D</th>\n",
       "    </tr>\n",
       "  </thead>\n",
       "  <tbody>\n",
       "    <tr>\n",
       "      <th>2013-01-03</th>\n",
       "      <td>1.786169</td>\n",
       "      <td>-1.615903</td>\n",
       "      <td>0.846360</td>\n",
       "      <td>1.299178</td>\n",
       "    </tr>\n",
       "    <tr>\n",
       "      <th>2013-01-01</th>\n",
       "      <td>-0.488203</td>\n",
       "      <td>-0.848622</td>\n",
       "      <td>-0.668648</td>\n",
       "      <td>-0.475333</td>\n",
       "    </tr>\n",
       "    <tr>\n",
       "      <th>2013-01-04</th>\n",
       "      <td>-0.677843</td>\n",
       "      <td>-0.398273</td>\n",
       "      <td>-0.535052</td>\n",
       "      <td>0.759092</td>\n",
       "    </tr>\n",
       "    <tr>\n",
       "      <th>2013-01-05</th>\n",
       "      <td>0.121276</td>\n",
       "      <td>-0.345433</td>\n",
       "      <td>-0.458100</td>\n",
       "      <td>0.734903</td>\n",
       "    </tr>\n",
       "    <tr>\n",
       "      <th>2013-01-02</th>\n",
       "      <td>-0.726290</td>\n",
       "      <td>-0.115516</td>\n",
       "      <td>1.716154</td>\n",
       "      <td>-0.503761</td>\n",
       "    </tr>\n",
       "    <tr>\n",
       "      <th>2013-01-06</th>\n",
       "      <td>-1.268046</td>\n",
       "      <td>0.155471</td>\n",
       "      <td>0.094142</td>\n",
       "      <td>-1.465262</td>\n",
       "    </tr>\n",
       "  </tbody>\n",
       "</table>\n",
       "</div>"
      ],
      "text/plain": [
       "                   A         B         C         D\n",
       "2013-01-03  1.786169 -1.615903  0.846360  1.299178\n",
       "2013-01-01 -0.488203 -0.848622 -0.668648 -0.475333\n",
       "2013-01-04 -0.677843 -0.398273 -0.535052  0.759092\n",
       "2013-01-05  0.121276 -0.345433 -0.458100  0.734903\n",
       "2013-01-02 -0.726290 -0.115516  1.716154 -0.503761\n",
       "2013-01-06 -1.268046  0.155471  0.094142 -1.465262"
      ]
     },
     "execution_count": 80,
     "metadata": {},
     "output_type": "execute_result"
    }
   ],
   "source": [
    "#Sorting by values\n",
    "df.sort_values(by='B')"
   ]
  },
  {
   "cell_type": "code",
   "execution_count": 81,
   "id": "379b005a-0133-46b7-bd4a-25b94399cf7d",
   "metadata": {},
   "outputs": [
    {
     "data": {
      "text/html": [
       "<div>\n",
       "<style scoped>\n",
       "    .dataframe tbody tr th:only-of-type {\n",
       "        vertical-align: middle;\n",
       "    }\n",
       "\n",
       "    .dataframe tbody tr th {\n",
       "        vertical-align: top;\n",
       "    }\n",
       "\n",
       "    .dataframe thead th {\n",
       "        text-align: right;\n",
       "    }\n",
       "</style>\n",
       "<table border=\"1\" class=\"dataframe\">\n",
       "  <thead>\n",
       "    <tr style=\"text-align: right;\">\n",
       "      <th></th>\n",
       "      <th>A</th>\n",
       "      <th>B</th>\n",
       "      <th>C</th>\n",
       "      <th>D</th>\n",
       "    </tr>\n",
       "  </thead>\n",
       "  <tbody>\n",
       "    <tr>\n",
       "      <th>count</th>\n",
       "      <td>6.000000</td>\n",
       "      <td>6.000000</td>\n",
       "      <td>6.000000</td>\n",
       "      <td>6.000000</td>\n",
       "    </tr>\n",
       "    <tr>\n",
       "      <th>mean</th>\n",
       "      <td>-0.208823</td>\n",
       "      <td>-0.528046</td>\n",
       "      <td>0.165809</td>\n",
       "      <td>0.058136</td>\n",
       "    </tr>\n",
       "    <tr>\n",
       "      <th>std</th>\n",
       "      <td>1.074869</td>\n",
       "      <td>0.628294</td>\n",
       "      <td>0.943254</td>\n",
       "      <td>1.040250</td>\n",
       "    </tr>\n",
       "    <tr>\n",
       "      <th>min</th>\n",
       "      <td>-1.268046</td>\n",
       "      <td>-1.615903</td>\n",
       "      <td>-0.668648</td>\n",
       "      <td>-1.465262</td>\n",
       "    </tr>\n",
       "    <tr>\n",
       "      <th>25%</th>\n",
       "      <td>-0.714179</td>\n",
       "      <td>-0.736035</td>\n",
       "      <td>-0.515814</td>\n",
       "      <td>-0.496654</td>\n",
       "    </tr>\n",
       "    <tr>\n",
       "      <th>50%</th>\n",
       "      <td>-0.583023</td>\n",
       "      <td>-0.371853</td>\n",
       "      <td>-0.181979</td>\n",
       "      <td>0.129785</td>\n",
       "    </tr>\n",
       "    <tr>\n",
       "      <th>75%</th>\n",
       "      <td>-0.031094</td>\n",
       "      <td>-0.172995</td>\n",
       "      <td>0.658306</td>\n",
       "      <td>0.753045</td>\n",
       "    </tr>\n",
       "    <tr>\n",
       "      <th>max</th>\n",
       "      <td>1.786169</td>\n",
       "      <td>0.155471</td>\n",
       "      <td>1.716154</td>\n",
       "      <td>1.299178</td>\n",
       "    </tr>\n",
       "  </tbody>\n",
       "</table>\n",
       "</div>"
      ],
      "text/plain": [
       "              A         B         C         D\n",
       "count  6.000000  6.000000  6.000000  6.000000\n",
       "mean  -0.208823 -0.528046  0.165809  0.058136\n",
       "std    1.074869  0.628294  0.943254  1.040250\n",
       "min   -1.268046 -1.615903 -0.668648 -1.465262\n",
       "25%   -0.714179 -0.736035 -0.515814 -0.496654\n",
       "50%   -0.583023 -0.371853 -0.181979  0.129785\n",
       "75%   -0.031094 -0.172995  0.658306  0.753045\n",
       "max    1.786169  0.155471  1.716154  1.299178"
      ]
     },
     "execution_count": 81,
     "metadata": {},
     "output_type": "execute_result"
    }
   ],
   "source": [
    "# Describe shows a quick statistic summary of your data\n",
    "df.describe()"
   ]
  },
  {
   "cell_type": "code",
   "execution_count": 82,
   "id": "878c220c-1d48-43b8-83db-a625e90a5ce1",
   "metadata": {},
   "outputs": [
    {
     "data": {
      "text/plain": [
       "2013-01-01   -0.488203\n",
       "2013-01-02   -0.726290\n",
       "2013-01-03    1.786169\n",
       "2013-01-04   -0.677843\n",
       "2013-01-05    0.121276\n",
       "2013-01-06   -1.268046\n",
       "Freq: D, Name: A, dtype: float64"
      ]
     },
     "execution_count": 82,
     "metadata": {},
     "output_type": "execute_result"
    }
   ],
   "source": [
    "#Selecting a single column, which yields a Series, equivalent to df.A\n",
    "df['A']"
   ]
  },
  {
   "cell_type": "code",
   "execution_count": 83,
   "id": "459453f6-8914-483e-9654-16178ff62040",
   "metadata": {},
   "outputs": [
    {
     "data": {
      "text/html": [
       "<div>\n",
       "<style scoped>\n",
       "    .dataframe tbody tr th:only-of-type {\n",
       "        vertical-align: middle;\n",
       "    }\n",
       "\n",
       "    .dataframe tbody tr th {\n",
       "        vertical-align: top;\n",
       "    }\n",
       "\n",
       "    .dataframe thead th {\n",
       "        text-align: right;\n",
       "    }\n",
       "</style>\n",
       "<table border=\"1\" class=\"dataframe\">\n",
       "  <thead>\n",
       "    <tr style=\"text-align: right;\">\n",
       "      <th></th>\n",
       "      <th>A</th>\n",
       "      <th>B</th>\n",
       "      <th>C</th>\n",
       "      <th>D</th>\n",
       "    </tr>\n",
       "  </thead>\n",
       "  <tbody>\n",
       "    <tr>\n",
       "      <th>2013-01-01</th>\n",
       "      <td>-0.488203</td>\n",
       "      <td>-0.848622</td>\n",
       "      <td>-0.668648</td>\n",
       "      <td>-0.475333</td>\n",
       "    </tr>\n",
       "    <tr>\n",
       "      <th>2013-01-02</th>\n",
       "      <td>-0.726290</td>\n",
       "      <td>-0.115516</td>\n",
       "      <td>1.716154</td>\n",
       "      <td>-0.503761</td>\n",
       "    </tr>\n",
       "    <tr>\n",
       "      <th>2013-01-03</th>\n",
       "      <td>1.786169</td>\n",
       "      <td>-1.615903</td>\n",
       "      <td>0.846360</td>\n",
       "      <td>1.299178</td>\n",
       "    </tr>\n",
       "  </tbody>\n",
       "</table>\n",
       "</div>"
      ],
      "text/plain": [
       "                   A         B         C         D\n",
       "2013-01-01 -0.488203 -0.848622 -0.668648 -0.475333\n",
       "2013-01-02 -0.726290 -0.115516  1.716154 -0.503761\n",
       "2013-01-03  1.786169 -1.615903  0.846360  1.299178"
      ]
     },
     "execution_count": 83,
     "metadata": {},
     "output_type": "execute_result"
    }
   ],
   "source": [
    " #Selecting via [], which slices the rows.\n",
    "df[0:3]"
   ]
  },
  {
   "cell_type": "code",
   "execution_count": 84,
   "id": "18c8cf7f-e8c1-40ae-b8d6-1e90fa537add",
   "metadata": {},
   "outputs": [
    {
     "data": {
      "text/html": [
       "<div>\n",
       "<style scoped>\n",
       "    .dataframe tbody tr th:only-of-type {\n",
       "        vertical-align: middle;\n",
       "    }\n",
       "\n",
       "    .dataframe tbody tr th {\n",
       "        vertical-align: top;\n",
       "    }\n",
       "\n",
       "    .dataframe thead th {\n",
       "        text-align: right;\n",
       "    }\n",
       "</style>\n",
       "<table border=\"1\" class=\"dataframe\">\n",
       "  <thead>\n",
       "    <tr style=\"text-align: right;\">\n",
       "      <th></th>\n",
       "      <th>A</th>\n",
       "      <th>B</th>\n",
       "      <th>C</th>\n",
       "      <th>D</th>\n",
       "    </tr>\n",
       "  </thead>\n",
       "  <tbody>\n",
       "    <tr>\n",
       "      <th>2013-01-02</th>\n",
       "      <td>-0.726290</td>\n",
       "      <td>-0.115516</td>\n",
       "      <td>1.716154</td>\n",
       "      <td>-0.503761</td>\n",
       "    </tr>\n",
       "    <tr>\n",
       "      <th>2013-01-03</th>\n",
       "      <td>1.786169</td>\n",
       "      <td>-1.615903</td>\n",
       "      <td>0.846360</td>\n",
       "      <td>1.299178</td>\n",
       "    </tr>\n",
       "    <tr>\n",
       "      <th>2013-01-04</th>\n",
       "      <td>-0.677843</td>\n",
       "      <td>-0.398273</td>\n",
       "      <td>-0.535052</td>\n",
       "      <td>0.759092</td>\n",
       "    </tr>\n",
       "  </tbody>\n",
       "</table>\n",
       "</div>"
      ],
      "text/plain": [
       "                   A         B         C         D\n",
       "2013-01-02 -0.726290 -0.115516  1.716154 -0.503761\n",
       "2013-01-03  1.786169 -1.615903  0.846360  1.299178\n",
       "2013-01-04 -0.677843 -0.398273 -0.535052  0.759092"
      ]
     },
     "execution_count": 84,
     "metadata": {},
     "output_type": "execute_result"
    }
   ],
   "source": [
    "df['20130102':'20130104']"
   ]
  },
  {
   "cell_type": "code",
   "execution_count": 85,
   "id": "06205a12-bc11-495f-a2c0-005af5f9cafd",
   "metadata": {},
   "outputs": [
    {
     "data": {
      "text/html": [
       "<div>\n",
       "<style scoped>\n",
       "    .dataframe tbody tr th:only-of-type {\n",
       "        vertical-align: middle;\n",
       "    }\n",
       "\n",
       "    .dataframe tbody tr th {\n",
       "        vertical-align: top;\n",
       "    }\n",
       "\n",
       "    .dataframe thead th {\n",
       "        text-align: right;\n",
       "    }\n",
       "</style>\n",
       "<table border=\"1\" class=\"dataframe\">\n",
       "  <thead>\n",
       "    <tr style=\"text-align: right;\">\n",
       "      <th></th>\n",
       "      <th>A</th>\n",
       "      <th>B</th>\n",
       "    </tr>\n",
       "  </thead>\n",
       "  <tbody>\n",
       "    <tr>\n",
       "      <th>2013-01-01</th>\n",
       "      <td>-0.488203</td>\n",
       "      <td>-0.848622</td>\n",
       "    </tr>\n",
       "    <tr>\n",
       "      <th>2013-01-02</th>\n",
       "      <td>-0.726290</td>\n",
       "      <td>-0.115516</td>\n",
       "    </tr>\n",
       "    <tr>\n",
       "      <th>2013-01-03</th>\n",
       "      <td>1.786169</td>\n",
       "      <td>-1.615903</td>\n",
       "    </tr>\n",
       "    <tr>\n",
       "      <th>2013-01-04</th>\n",
       "      <td>-0.677843</td>\n",
       "      <td>-0.398273</td>\n",
       "    </tr>\n",
       "    <tr>\n",
       "      <th>2013-01-05</th>\n",
       "      <td>0.121276</td>\n",
       "      <td>-0.345433</td>\n",
       "    </tr>\n",
       "    <tr>\n",
       "      <th>2013-01-06</th>\n",
       "      <td>-1.268046</td>\n",
       "      <td>0.155471</td>\n",
       "    </tr>\n",
       "  </tbody>\n",
       "</table>\n",
       "</div>"
      ],
      "text/plain": [
       "                   A         B\n",
       "2013-01-01 -0.488203 -0.848622\n",
       "2013-01-02 -0.726290 -0.115516\n",
       "2013-01-03  1.786169 -1.615903\n",
       "2013-01-04 -0.677843 -0.398273\n",
       "2013-01-05  0.121276 -0.345433\n",
       "2013-01-06 -1.268046  0.155471"
      ]
     },
     "execution_count": 85,
     "metadata": {},
     "output_type": "execute_result"
    }
   ],
   "source": [
    "#Selecting on a multi-axis by label\n",
    "df.loc[:,['A','B']]\n"
   ]
  },
  {
   "cell_type": "code",
   "execution_count": 86,
   "id": "0372ed7d-2b5d-4a80-9f12-b932c5fbceca",
   "metadata": {},
   "outputs": [
    {
     "data": {
      "text/html": [
       "<div>\n",
       "<style scoped>\n",
       "    .dataframe tbody tr th:only-of-type {\n",
       "        vertical-align: middle;\n",
       "    }\n",
       "\n",
       "    .dataframe tbody tr th {\n",
       "        vertical-align: top;\n",
       "    }\n",
       "\n",
       "    .dataframe thead th {\n",
       "        text-align: right;\n",
       "    }\n",
       "</style>\n",
       "<table border=\"1\" class=\"dataframe\">\n",
       "  <thead>\n",
       "    <tr style=\"text-align: right;\">\n",
       "      <th></th>\n",
       "      <th>A</th>\n",
       "      <th>B</th>\n",
       "    </tr>\n",
       "  </thead>\n",
       "  <tbody>\n",
       "    <tr>\n",
       "      <th>2013-01-02</th>\n",
       "      <td>-0.726290</td>\n",
       "      <td>-0.115516</td>\n",
       "    </tr>\n",
       "    <tr>\n",
       "      <th>2013-01-03</th>\n",
       "      <td>1.786169</td>\n",
       "      <td>-1.615903</td>\n",
       "    </tr>\n",
       "    <tr>\n",
       "      <th>2013-01-04</th>\n",
       "      <td>-0.677843</td>\n",
       "      <td>-0.398273</td>\n",
       "    </tr>\n",
       "  </tbody>\n",
       "</table>\n",
       "</div>"
      ],
      "text/plain": [
       "                   A         B\n",
       "2013-01-02 -0.726290 -0.115516\n",
       "2013-01-03  1.786169 -1.615903\n",
       "2013-01-04 -0.677843 -0.398273"
      ]
     },
     "execution_count": 86,
     "metadata": {},
     "output_type": "execute_result"
    }
   ],
   "source": [
    "#Showing label slicing, both endpoints are included\n",
    "df.loc['20130102':'20130104',['A','B']]"
   ]
  },
  {
   "cell_type": "code",
   "execution_count": 87,
   "id": "bb5edfad-55b7-4ce0-8fd0-df2d4c1d3dc6",
   "metadata": {},
   "outputs": [
    {
     "data": {
      "text/plain": [
       "A   -0.726290\n",
       "B   -0.115516\n",
       "Name: 2013-01-02 00:00:00, dtype: float64"
      ]
     },
     "execution_count": 87,
     "metadata": {},
     "output_type": "execute_result"
    }
   ],
   "source": [
    "# Reduction in the dimensions of the returned object\n",
    "df.loc['20130102',['A','B']]"
   ]
  },
  {
   "cell_type": "code",
   "execution_count": 88,
   "id": "20302b13-a571-4a7d-9b02-ce3b8b39037d",
   "metadata": {},
   "outputs": [
    {
     "data": {
      "text/plain": [
       "np.float64(-0.4882028101874192)"
      ]
     },
     "execution_count": 88,
     "metadata": {},
     "output_type": "execute_result"
    }
   ],
   "source": [
    " # For getting a scalar value\n",
    "df.loc[dates[0],'A']"
   ]
  },
  {
   "cell_type": "code",
   "execution_count": 89,
   "id": "ec385917-dbec-467e-858e-ebc2f2e9a415",
   "metadata": {},
   "outputs": [
    {
     "data": {
      "text/plain": [
       "np.float64(-0.4882028101874192)"
      ]
     },
     "execution_count": 89,
     "metadata": {},
     "output_type": "execute_result"
    }
   ],
   "source": [
    " # For getting fast access to a scalar\n",
    "df.at[dates[0],'A']"
   ]
  },
  {
   "cell_type": "code",
   "execution_count": 90,
   "id": "08746d4c-7c3b-4fae-97c2-a74c20eaee5b",
   "metadata": {},
   "outputs": [
    {
     "data": {
      "text/plain": [
       "A   -0.677843\n",
       "B   -0.398273\n",
       "C   -0.535052\n",
       "D    0.759092\n",
       "Name: 2013-01-04 00:00:00, dtype: float64"
      ]
     },
     "execution_count": 90,
     "metadata": {},
     "output_type": "execute_result"
    }
   ],
   "source": [
    "# Select via the position of the passed integers\n",
    "df.iloc[3]"
   ]
  },
  {
   "cell_type": "code",
   "execution_count": 91,
   "id": "b9535508-1814-4b7b-a4cd-6bcf400abb13",
   "metadata": {},
   "outputs": [
    {
     "data": {
      "text/html": [
       "<div>\n",
       "<style scoped>\n",
       "    .dataframe tbody tr th:only-of-type {\n",
       "        vertical-align: middle;\n",
       "    }\n",
       "\n",
       "    .dataframe tbody tr th {\n",
       "        vertical-align: top;\n",
       "    }\n",
       "\n",
       "    .dataframe thead th {\n",
       "        text-align: right;\n",
       "    }\n",
       "</style>\n",
       "<table border=\"1\" class=\"dataframe\">\n",
       "  <thead>\n",
       "    <tr style=\"text-align: right;\">\n",
       "      <th></th>\n",
       "      <th>A</th>\n",
       "      <th>B</th>\n",
       "    </tr>\n",
       "  </thead>\n",
       "  <tbody>\n",
       "    <tr>\n",
       "      <th>2013-01-04</th>\n",
       "      <td>-0.677843</td>\n",
       "      <td>-0.398273</td>\n",
       "    </tr>\n",
       "    <tr>\n",
       "      <th>2013-01-05</th>\n",
       "      <td>0.121276</td>\n",
       "      <td>-0.345433</td>\n",
       "    </tr>\n",
       "  </tbody>\n",
       "</table>\n",
       "</div>"
      ],
      "text/plain": [
       "                   A         B\n",
       "2013-01-04 -0.677843 -0.398273\n",
       "2013-01-05  0.121276 -0.345433"
      ]
     },
     "execution_count": 91,
     "metadata": {},
     "output_type": "execute_result"
    }
   ],
   "source": [
    " # By integer slices, acting similar to numpy/python\n",
    "df.iloc[3:5,0:2]"
   ]
  },
  {
   "cell_type": "code",
   "execution_count": 92,
   "id": "e300d35b-9eb9-4b3d-8050-9dbb713b79d6",
   "metadata": {},
   "outputs": [
    {
     "data": {
      "text/html": [
       "<div>\n",
       "<style scoped>\n",
       "    .dataframe tbody tr th:only-of-type {\n",
       "        vertical-align: middle;\n",
       "    }\n",
       "\n",
       "    .dataframe tbody tr th {\n",
       "        vertical-align: top;\n",
       "    }\n",
       "\n",
       "    .dataframe thead th {\n",
       "        text-align: right;\n",
       "    }\n",
       "</style>\n",
       "<table border=\"1\" class=\"dataframe\">\n",
       "  <thead>\n",
       "    <tr style=\"text-align: right;\">\n",
       "      <th></th>\n",
       "      <th>A</th>\n",
       "      <th>C</th>\n",
       "    </tr>\n",
       "  </thead>\n",
       "  <tbody>\n",
       "    <tr>\n",
       "      <th>2013-01-02</th>\n",
       "      <td>-0.726290</td>\n",
       "      <td>1.716154</td>\n",
       "    </tr>\n",
       "    <tr>\n",
       "      <th>2013-01-03</th>\n",
       "      <td>1.786169</td>\n",
       "      <td>0.846360</td>\n",
       "    </tr>\n",
       "    <tr>\n",
       "      <th>2013-01-05</th>\n",
       "      <td>0.121276</td>\n",
       "      <td>-0.458100</td>\n",
       "    </tr>\n",
       "  </tbody>\n",
       "</table>\n",
       "</div>"
      ],
      "text/plain": [
       "                   A         C\n",
       "2013-01-02 -0.726290  1.716154\n",
       "2013-01-03  1.786169  0.846360\n",
       "2013-01-05  0.121276 -0.458100"
      ]
     },
     "execution_count": 92,
     "metadata": {},
     "output_type": "execute_result"
    }
   ],
   "source": [
    "# By lists of integer position locations, similar to the numpy/python style\n",
    "df.iloc[[1,2,4],[0,2]]"
   ]
  },
  {
   "cell_type": "code",
   "execution_count": 93,
   "id": "ab21fdbf-ccdb-4991-8046-a5b76660c73c",
   "metadata": {},
   "outputs": [
    {
     "data": {
      "text/html": [
       "<div>\n",
       "<style scoped>\n",
       "    .dataframe tbody tr th:only-of-type {\n",
       "        vertical-align: middle;\n",
       "    }\n",
       "\n",
       "    .dataframe tbody tr th {\n",
       "        vertical-align: top;\n",
       "    }\n",
       "\n",
       "    .dataframe thead th {\n",
       "        text-align: right;\n",
       "    }\n",
       "</style>\n",
       "<table border=\"1\" class=\"dataframe\">\n",
       "  <thead>\n",
       "    <tr style=\"text-align: right;\">\n",
       "      <th></th>\n",
       "      <th>B</th>\n",
       "      <th>C</th>\n",
       "    </tr>\n",
       "  </thead>\n",
       "  <tbody>\n",
       "    <tr>\n",
       "      <th>2013-01-01</th>\n",
       "      <td>-0.848622</td>\n",
       "      <td>-0.668648</td>\n",
       "    </tr>\n",
       "    <tr>\n",
       "      <th>2013-01-02</th>\n",
       "      <td>-0.115516</td>\n",
       "      <td>1.716154</td>\n",
       "    </tr>\n",
       "    <tr>\n",
       "      <th>2013-01-03</th>\n",
       "      <td>-1.615903</td>\n",
       "      <td>0.846360</td>\n",
       "    </tr>\n",
       "    <tr>\n",
       "      <th>2013-01-04</th>\n",
       "      <td>-0.398273</td>\n",
       "      <td>-0.535052</td>\n",
       "    </tr>\n",
       "    <tr>\n",
       "      <th>2013-01-05</th>\n",
       "      <td>-0.345433</td>\n",
       "      <td>-0.458100</td>\n",
       "    </tr>\n",
       "    <tr>\n",
       "      <th>2013-01-06</th>\n",
       "      <td>0.155471</td>\n",
       "      <td>0.094142</td>\n",
       "    </tr>\n",
       "  </tbody>\n",
       "</table>\n",
       "</div>"
      ],
      "text/plain": [
       "                   B         C\n",
       "2013-01-01 -0.848622 -0.668648\n",
       "2013-01-02 -0.115516  1.716154\n",
       "2013-01-03 -1.615903  0.846360\n",
       "2013-01-04 -0.398273 -0.535052\n",
       "2013-01-05 -0.345433 -0.458100\n",
       "2013-01-06  0.155471  0.094142"
      ]
     },
     "execution_count": 93,
     "metadata": {},
     "output_type": "execute_result"
    }
   ],
   "source": [
    "# For slicing rows explicitly\n",
    "df.iloc[:,1:3]"
   ]
  },
  {
   "cell_type": "code",
   "execution_count": 94,
   "id": "0e67dd62-6274-4e8d-a744-182b60ead30b",
   "metadata": {},
   "outputs": [
    {
     "data": {
      "text/plain": [
       "np.float64(-0.11551579203929543)"
      ]
     },
     "execution_count": 94,
     "metadata": {},
     "output_type": "execute_result"
    }
   ],
   "source": [
    "# For getting a value explicitly\n",
    "df.iloc[1,1]\n"
   ]
  },
  {
   "cell_type": "code",
   "execution_count": 95,
   "id": "36ecc353-52e5-4e07-97d3-680ca73d88de",
   "metadata": {},
   "outputs": [
    {
     "data": {
      "text/html": [
       "<div>\n",
       "<style scoped>\n",
       "    .dataframe tbody tr th:only-of-type {\n",
       "        vertical-align: middle;\n",
       "    }\n",
       "\n",
       "    .dataframe tbody tr th {\n",
       "        vertical-align: top;\n",
       "    }\n",
       "\n",
       "    .dataframe thead th {\n",
       "        text-align: right;\n",
       "    }\n",
       "</style>\n",
       "<table border=\"1\" class=\"dataframe\">\n",
       "  <thead>\n",
       "    <tr style=\"text-align: right;\">\n",
       "      <th></th>\n",
       "      <th>A</th>\n",
       "      <th>B</th>\n",
       "      <th>C</th>\n",
       "      <th>D</th>\n",
       "    </tr>\n",
       "  </thead>\n",
       "  <tbody>\n",
       "    <tr>\n",
       "      <th>2013-01-03</th>\n",
       "      <td>1.786169</td>\n",
       "      <td>-1.615903</td>\n",
       "      <td>0.84636</td>\n",
       "      <td>1.299178</td>\n",
       "    </tr>\n",
       "    <tr>\n",
       "      <th>2013-01-05</th>\n",
       "      <td>0.121276</td>\n",
       "      <td>-0.345433</td>\n",
       "      <td>-0.45810</td>\n",
       "      <td>0.734903</td>\n",
       "    </tr>\n",
       "  </tbody>\n",
       "</table>\n",
       "</div>"
      ],
      "text/plain": [
       "                   A         B        C         D\n",
       "2013-01-03  1.786169 -1.615903  0.84636  1.299178\n",
       "2013-01-05  0.121276 -0.345433 -0.45810  0.734903"
      ]
     },
     "execution_count": 95,
     "metadata": {},
     "output_type": "execute_result"
    }
   ],
   "source": [
    "# Using a single column’s values to select data.\n",
    "df[df.A > 0]"
   ]
  },
  {
   "cell_type": "code",
   "execution_count": 96,
   "id": "7715ad77-5bcc-4c0a-8a41-b32c6668c573",
   "metadata": {},
   "outputs": [
    {
     "data": {
      "text/html": [
       "<div>\n",
       "<style scoped>\n",
       "    .dataframe tbody tr th:only-of-type {\n",
       "        vertical-align: middle;\n",
       "    }\n",
       "\n",
       "    .dataframe tbody tr th {\n",
       "        vertical-align: top;\n",
       "    }\n",
       "\n",
       "    .dataframe thead th {\n",
       "        text-align: right;\n",
       "    }\n",
       "</style>\n",
       "<table border=\"1\" class=\"dataframe\">\n",
       "  <thead>\n",
       "    <tr style=\"text-align: right;\">\n",
       "      <th></th>\n",
       "      <th>A</th>\n",
       "      <th>B</th>\n",
       "      <th>C</th>\n",
       "      <th>D</th>\n",
       "    </tr>\n",
       "  </thead>\n",
       "  <tbody>\n",
       "    <tr>\n",
       "      <th>2013-01-01</th>\n",
       "      <td>NaN</td>\n",
       "      <td>NaN</td>\n",
       "      <td>NaN</td>\n",
       "      <td>NaN</td>\n",
       "    </tr>\n",
       "    <tr>\n",
       "      <th>2013-01-02</th>\n",
       "      <td>NaN</td>\n",
       "      <td>NaN</td>\n",
       "      <td>1.716154</td>\n",
       "      <td>NaN</td>\n",
       "    </tr>\n",
       "    <tr>\n",
       "      <th>2013-01-03</th>\n",
       "      <td>1.786169</td>\n",
       "      <td>NaN</td>\n",
       "      <td>0.846360</td>\n",
       "      <td>1.299178</td>\n",
       "    </tr>\n",
       "    <tr>\n",
       "      <th>2013-01-04</th>\n",
       "      <td>NaN</td>\n",
       "      <td>NaN</td>\n",
       "      <td>NaN</td>\n",
       "      <td>0.759092</td>\n",
       "    </tr>\n",
       "    <tr>\n",
       "      <th>2013-01-05</th>\n",
       "      <td>0.121276</td>\n",
       "      <td>NaN</td>\n",
       "      <td>NaN</td>\n",
       "      <td>0.734903</td>\n",
       "    </tr>\n",
       "    <tr>\n",
       "      <th>2013-01-06</th>\n",
       "      <td>NaN</td>\n",
       "      <td>0.155471</td>\n",
       "      <td>0.094142</td>\n",
       "      <td>NaN</td>\n",
       "    </tr>\n",
       "  </tbody>\n",
       "</table>\n",
       "</div>"
      ],
      "text/plain": [
       "                   A         B         C         D\n",
       "2013-01-01       NaN       NaN       NaN       NaN\n",
       "2013-01-02       NaN       NaN  1.716154       NaN\n",
       "2013-01-03  1.786169       NaN  0.846360  1.299178\n",
       "2013-01-04       NaN       NaN       NaN  0.759092\n",
       "2013-01-05  0.121276       NaN       NaN  0.734903\n",
       "2013-01-06       NaN  0.155471  0.094142       NaN"
      ]
     },
     "execution_count": 96,
     "metadata": {},
     "output_type": "execute_result"
    }
   ],
   "source": [
    "# Selecting values from a DataFrame where a boolean condition is met.\n",
    "df[df > 0]"
   ]
  },
  {
   "cell_type": "code",
   "execution_count": 97,
   "id": "16f5facb-9583-4733-9f3f-94c6ecda1bea",
   "metadata": {},
   "outputs": [
    {
     "data": {
      "text/html": [
       "<div>\n",
       "<style scoped>\n",
       "    .dataframe tbody tr th:only-of-type {\n",
       "        vertical-align: middle;\n",
       "    }\n",
       "\n",
       "    .dataframe tbody tr th {\n",
       "        vertical-align: top;\n",
       "    }\n",
       "\n",
       "    .dataframe thead th {\n",
       "        text-align: right;\n",
       "    }\n",
       "</style>\n",
       "<table border=\"1\" class=\"dataframe\">\n",
       "  <thead>\n",
       "    <tr style=\"text-align: right;\">\n",
       "      <th></th>\n",
       "      <th>A</th>\n",
       "      <th>B</th>\n",
       "      <th>C</th>\n",
       "      <th>D</th>\n",
       "      <th>E</th>\n",
       "    </tr>\n",
       "  </thead>\n",
       "  <tbody>\n",
       "    <tr>\n",
       "      <th>2013-01-01</th>\n",
       "      <td>-0.488203</td>\n",
       "      <td>-0.848622</td>\n",
       "      <td>-0.668648</td>\n",
       "      <td>-0.475333</td>\n",
       "      <td>one</td>\n",
       "    </tr>\n",
       "    <tr>\n",
       "      <th>2013-01-02</th>\n",
       "      <td>-0.726290</td>\n",
       "      <td>-0.115516</td>\n",
       "      <td>1.716154</td>\n",
       "      <td>-0.503761</td>\n",
       "      <td>one</td>\n",
       "    </tr>\n",
       "    <tr>\n",
       "      <th>2013-01-03</th>\n",
       "      <td>1.786169</td>\n",
       "      <td>-1.615903</td>\n",
       "      <td>0.846360</td>\n",
       "      <td>1.299178</td>\n",
       "      <td>two</td>\n",
       "    </tr>\n",
       "    <tr>\n",
       "      <th>2013-01-04</th>\n",
       "      <td>-0.677843</td>\n",
       "      <td>-0.398273</td>\n",
       "      <td>-0.535052</td>\n",
       "      <td>0.759092</td>\n",
       "      <td>three</td>\n",
       "    </tr>\n",
       "    <tr>\n",
       "      <th>2013-01-05</th>\n",
       "      <td>0.121276</td>\n",
       "      <td>-0.345433</td>\n",
       "      <td>-0.458100</td>\n",
       "      <td>0.734903</td>\n",
       "      <td>four</td>\n",
       "    </tr>\n",
       "    <tr>\n",
       "      <th>2013-01-06</th>\n",
       "      <td>-1.268046</td>\n",
       "      <td>0.155471</td>\n",
       "      <td>0.094142</td>\n",
       "      <td>-1.465262</td>\n",
       "      <td>three</td>\n",
       "    </tr>\n",
       "  </tbody>\n",
       "</table>\n",
       "</div>"
      ],
      "text/plain": [
       "                   A         B         C         D      E\n",
       "2013-01-01 -0.488203 -0.848622 -0.668648 -0.475333    one\n",
       "2013-01-02 -0.726290 -0.115516  1.716154 -0.503761    one\n",
       "2013-01-03  1.786169 -1.615903  0.846360  1.299178    two\n",
       "2013-01-04 -0.677843 -0.398273 -0.535052  0.759092  three\n",
       "2013-01-05  0.121276 -0.345433 -0.458100  0.734903   four\n",
       "2013-01-06 -1.268046  0.155471  0.094142 -1.465262  three"
      ]
     },
     "execution_count": 97,
     "metadata": {},
     "output_type": "execute_result"
    }
   ],
   "source": [
    "# Using the isin() method for filtering:\n",
    "df2 = df.copy()\n",
    "df2['E'] = ['one', 'one','two','three','four','three']\n",
    "df2"
   ]
  },
  {
   "cell_type": "code",
   "execution_count": 98,
   "id": "f557c3cc-3935-4b05-b03a-76ba0497218e",
   "metadata": {},
   "outputs": [
    {
     "data": {
      "text/html": [
       "<div>\n",
       "<style scoped>\n",
       "    .dataframe tbody tr th:only-of-type {\n",
       "        vertical-align: middle;\n",
       "    }\n",
       "\n",
       "    .dataframe tbody tr th {\n",
       "        vertical-align: top;\n",
       "    }\n",
       "\n",
       "    .dataframe thead th {\n",
       "        text-align: right;\n",
       "    }\n",
       "</style>\n",
       "<table border=\"1\" class=\"dataframe\">\n",
       "  <thead>\n",
       "    <tr style=\"text-align: right;\">\n",
       "      <th></th>\n",
       "      <th>A</th>\n",
       "      <th>B</th>\n",
       "      <th>C</th>\n",
       "      <th>D</th>\n",
       "      <th>E</th>\n",
       "    </tr>\n",
       "  </thead>\n",
       "  <tbody>\n",
       "    <tr>\n",
       "      <th>2013-01-03</th>\n",
       "      <td>1.786169</td>\n",
       "      <td>-1.615903</td>\n",
       "      <td>0.84636</td>\n",
       "      <td>1.299178</td>\n",
       "      <td>two</td>\n",
       "    </tr>\n",
       "    <tr>\n",
       "      <th>2013-01-05</th>\n",
       "      <td>0.121276</td>\n",
       "      <td>-0.345433</td>\n",
       "      <td>-0.45810</td>\n",
       "      <td>0.734903</td>\n",
       "      <td>four</td>\n",
       "    </tr>\n",
       "  </tbody>\n",
       "</table>\n",
       "</div>"
      ],
      "text/plain": [
       "                   A         B        C         D     E\n",
       "2013-01-03  1.786169 -1.615903  0.84636  1.299178   two\n",
       "2013-01-05  0.121276 -0.345433 -0.45810  0.734903  four"
      ]
     },
     "execution_count": 98,
     "metadata": {},
     "output_type": "execute_result"
    }
   ],
   "source": [
    "df2[df2['E'].isin(['two','four'])]"
   ]
  },
  {
   "cell_type": "code",
   "execution_count": null,
   "id": "fe868148-beb6-46ae-9384-2b89e3d2bbd6",
   "metadata": {},
   "outputs": [],
   "source": []
  }
 ],
 "metadata": {
  "kernelspec": {
   "display_name": "Python [conda env:anaconda7] *",
   "language": "python",
   "name": "conda-env-anaconda7-py"
  },
  "language_info": {
   "codemirror_mode": {
    "name": "ipython",
    "version": 3
   },
   "file_extension": ".py",
   "mimetype": "text/x-python",
   "name": "python",
   "nbconvert_exporter": "python",
   "pygments_lexer": "ipython3",
   "version": "3.13.5"
  }
 },
 "nbformat": 4,
 "nbformat_minor": 5
}
